{
 "cells": [
  {
   "cell_type": "code",
   "execution_count": 1,
   "metadata": {},
   "outputs": [],
   "source": [
    "import pandas as pd"
   ]
  },
  {
   "cell_type": "code",
   "execution_count": 2,
   "metadata": {},
   "outputs": [],
   "source": [
    "data = pd.read_csv('Eng vs Net.csv')"
   ]
  },
  {
   "cell_type": "code",
   "execution_count": 3,
   "metadata": {},
   "outputs": [
    {
     "name": "stdout",
     "output_type": "stream",
     "text": [
      "<class 'pandas.core.frame.DataFrame'>\n",
      "RangeIndex: 545 entries, 0 to 544\n",
      "Data columns (total 22 columns):\n",
      " #   Column                  Non-Null Count  Dtype  \n",
      "---  ------                  --------------  -----  \n",
      " 0   match_id                545 non-null    int64  \n",
      " 1   season                  545 non-null    object \n",
      " 2   start_date              545 non-null    object \n",
      " 3   venue                   545 non-null    object \n",
      " 4   innings                 545 non-null    int64  \n",
      " 5   ball                    545 non-null    float64\n",
      " 6   batting_team            545 non-null    object \n",
      " 7   bowling_team            545 non-null    object \n",
      " 8   striker                 545 non-null    object \n",
      " 9   non_striker             545 non-null    object \n",
      " 10  bowler                  545 non-null    object \n",
      " 11  runs_off_bat            545 non-null    int64  \n",
      " 12  extras                  545 non-null    int64  \n",
      " 13  wides                   20 non-null     float64\n",
      " 14  noballs                 1 non-null      float64\n",
      " 15  byes                    0 non-null      float64\n",
      " 16  legbyes                 3 non-null      float64\n",
      " 17  penalty                 0 non-null      float64\n",
      " 18  wicket_type             19 non-null     object \n",
      " 19  player_dismissed        19 non-null     object \n",
      " 20  other_wicket_type       0 non-null      float64\n",
      " 21  other_player_dismissed  0 non-null      float64\n",
      "dtypes: float64(8), int64(4), object(10)\n",
      "memory usage: 93.8+ KB\n"
     ]
    }
   ],
   "source": [
    "data.info()"
   ]
  },
  {
   "cell_type": "code",
   "execution_count": 4,
   "metadata": {},
   "outputs": [
    {
     "data": {
      "text/plain": [
       "array([1, 2])"
      ]
     },
     "execution_count": 4,
     "metadata": {},
     "output_type": "execute_result"
    }
   ],
   "source": [
    "data['innings'].unique()"
   ]
  },
  {
   "cell_type": "code",
   "execution_count": 5,
   "metadata": {},
   "outputs": [
    {
     "data": {
      "text/html": [
       "<div>\n",
       "<style scoped>\n",
       "    .dataframe tbody tr th:only-of-type {\n",
       "        vertical-align: middle;\n",
       "    }\n",
       "\n",
       "    .dataframe tbody tr th {\n",
       "        vertical-align: top;\n",
       "    }\n",
       "\n",
       "    .dataframe thead th {\n",
       "        text-align: right;\n",
       "    }\n",
       "</style>\n",
       "<table border=\"1\" class=\"dataframe\">\n",
       "  <thead>\n",
       "    <tr style=\"text-align: right;\">\n",
       "      <th></th>\n",
       "      <th>match_id</th>\n",
       "      <th>season</th>\n",
       "      <th>start_date</th>\n",
       "      <th>venue</th>\n",
       "      <th>innings</th>\n",
       "      <th>ball</th>\n",
       "      <th>batting_team</th>\n",
       "      <th>bowling_team</th>\n",
       "      <th>striker</th>\n",
       "      <th>non_striker</th>\n",
       "      <th>...</th>\n",
       "      <th>extras</th>\n",
       "      <th>wides</th>\n",
       "      <th>noballs</th>\n",
       "      <th>byes</th>\n",
       "      <th>legbyes</th>\n",
       "      <th>penalty</th>\n",
       "      <th>wicket_type</th>\n",
       "      <th>player_dismissed</th>\n",
       "      <th>other_wicket_type</th>\n",
       "      <th>other_player_dismissed</th>\n",
       "    </tr>\n",
       "  </thead>\n",
       "  <tbody>\n",
       "    <tr>\n",
       "      <th>0</th>\n",
       "      <td>1384431</td>\n",
       "      <td>2023/24</td>\n",
       "      <td>2023-11-08</td>\n",
       "      <td>Maharashtra Cricket Association Stadium, Pune</td>\n",
       "      <td>1</td>\n",
       "      <td>0.1</td>\n",
       "      <td>England</td>\n",
       "      <td>Netherlands</td>\n",
       "      <td>JM Bairstow</td>\n",
       "      <td>DJ Malan</td>\n",
       "      <td>...</td>\n",
       "      <td>0</td>\n",
       "      <td>NaN</td>\n",
       "      <td>NaN</td>\n",
       "      <td>NaN</td>\n",
       "      <td>NaN</td>\n",
       "      <td>NaN</td>\n",
       "      <td>NaN</td>\n",
       "      <td>NaN</td>\n",
       "      <td>NaN</td>\n",
       "      <td>NaN</td>\n",
       "    </tr>\n",
       "    <tr>\n",
       "      <th>1</th>\n",
       "      <td>1384431</td>\n",
       "      <td>2023/24</td>\n",
       "      <td>2023-11-08</td>\n",
       "      <td>Maharashtra Cricket Association Stadium, Pune</td>\n",
       "      <td>1</td>\n",
       "      <td>0.2</td>\n",
       "      <td>England</td>\n",
       "      <td>Netherlands</td>\n",
       "      <td>JM Bairstow</td>\n",
       "      <td>DJ Malan</td>\n",
       "      <td>...</td>\n",
       "      <td>0</td>\n",
       "      <td>NaN</td>\n",
       "      <td>NaN</td>\n",
       "      <td>NaN</td>\n",
       "      <td>NaN</td>\n",
       "      <td>NaN</td>\n",
       "      <td>NaN</td>\n",
       "      <td>NaN</td>\n",
       "      <td>NaN</td>\n",
       "      <td>NaN</td>\n",
       "    </tr>\n",
       "    <tr>\n",
       "      <th>2</th>\n",
       "      <td>1384431</td>\n",
       "      <td>2023/24</td>\n",
       "      <td>2023-11-08</td>\n",
       "      <td>Maharashtra Cricket Association Stadium, Pune</td>\n",
       "      <td>1</td>\n",
       "      <td>0.3</td>\n",
       "      <td>England</td>\n",
       "      <td>Netherlands</td>\n",
       "      <td>JM Bairstow</td>\n",
       "      <td>DJ Malan</td>\n",
       "      <td>...</td>\n",
       "      <td>0</td>\n",
       "      <td>NaN</td>\n",
       "      <td>NaN</td>\n",
       "      <td>NaN</td>\n",
       "      <td>NaN</td>\n",
       "      <td>NaN</td>\n",
       "      <td>NaN</td>\n",
       "      <td>NaN</td>\n",
       "      <td>NaN</td>\n",
       "      <td>NaN</td>\n",
       "    </tr>\n",
       "    <tr>\n",
       "      <th>3</th>\n",
       "      <td>1384431</td>\n",
       "      <td>2023/24</td>\n",
       "      <td>2023-11-08</td>\n",
       "      <td>Maharashtra Cricket Association Stadium, Pune</td>\n",
       "      <td>1</td>\n",
       "      <td>0.4</td>\n",
       "      <td>England</td>\n",
       "      <td>Netherlands</td>\n",
       "      <td>JM Bairstow</td>\n",
       "      <td>DJ Malan</td>\n",
       "      <td>...</td>\n",
       "      <td>0</td>\n",
       "      <td>NaN</td>\n",
       "      <td>NaN</td>\n",
       "      <td>NaN</td>\n",
       "      <td>NaN</td>\n",
       "      <td>NaN</td>\n",
       "      <td>NaN</td>\n",
       "      <td>NaN</td>\n",
       "      <td>NaN</td>\n",
       "      <td>NaN</td>\n",
       "    </tr>\n",
       "    <tr>\n",
       "      <th>4</th>\n",
       "      <td>1384431</td>\n",
       "      <td>2023/24</td>\n",
       "      <td>2023-11-08</td>\n",
       "      <td>Maharashtra Cricket Association Stadium, Pune</td>\n",
       "      <td>1</td>\n",
       "      <td>0.5</td>\n",
       "      <td>England</td>\n",
       "      <td>Netherlands</td>\n",
       "      <td>JM Bairstow</td>\n",
       "      <td>DJ Malan</td>\n",
       "      <td>...</td>\n",
       "      <td>0</td>\n",
       "      <td>NaN</td>\n",
       "      <td>NaN</td>\n",
       "      <td>NaN</td>\n",
       "      <td>NaN</td>\n",
       "      <td>NaN</td>\n",
       "      <td>NaN</td>\n",
       "      <td>NaN</td>\n",
       "      <td>NaN</td>\n",
       "      <td>NaN</td>\n",
       "    </tr>\n",
       "  </tbody>\n",
       "</table>\n",
       "<p>5 rows × 22 columns</p>\n",
       "</div>"
      ],
      "text/plain": [
       "   match_id   season  start_date  \\\n",
       "0   1384431  2023/24  2023-11-08   \n",
       "1   1384431  2023/24  2023-11-08   \n",
       "2   1384431  2023/24  2023-11-08   \n",
       "3   1384431  2023/24  2023-11-08   \n",
       "4   1384431  2023/24  2023-11-08   \n",
       "\n",
       "                                           venue  innings  ball batting_team  \\\n",
       "0  Maharashtra Cricket Association Stadium, Pune        1   0.1      England   \n",
       "1  Maharashtra Cricket Association Stadium, Pune        1   0.2      England   \n",
       "2  Maharashtra Cricket Association Stadium, Pune        1   0.3      England   \n",
       "3  Maharashtra Cricket Association Stadium, Pune        1   0.4      England   \n",
       "4  Maharashtra Cricket Association Stadium, Pune        1   0.5      England   \n",
       "\n",
       "  bowling_team      striker non_striker  ... extras  wides  noballs  byes  \\\n",
       "0  Netherlands  JM Bairstow    DJ Malan  ...      0    NaN      NaN   NaN   \n",
       "1  Netherlands  JM Bairstow    DJ Malan  ...      0    NaN      NaN   NaN   \n",
       "2  Netherlands  JM Bairstow    DJ Malan  ...      0    NaN      NaN   NaN   \n",
       "3  Netherlands  JM Bairstow    DJ Malan  ...      0    NaN      NaN   NaN   \n",
       "4  Netherlands  JM Bairstow    DJ Malan  ...      0    NaN      NaN   NaN   \n",
       "\n",
       "   legbyes  penalty  wicket_type  player_dismissed other_wicket_type  \\\n",
       "0      NaN      NaN          NaN               NaN               NaN   \n",
       "1      NaN      NaN          NaN               NaN               NaN   \n",
       "2      NaN      NaN          NaN               NaN               NaN   \n",
       "3      NaN      NaN          NaN               NaN               NaN   \n",
       "4      NaN      NaN          NaN               NaN               NaN   \n",
       "\n",
       "  other_player_dismissed  \n",
       "0                    NaN  \n",
       "1                    NaN  \n",
       "2                    NaN  \n",
       "3                    NaN  \n",
       "4                    NaN  \n",
       "\n",
       "[5 rows x 22 columns]"
      ]
     },
     "execution_count": 5,
     "metadata": {},
     "output_type": "execute_result"
    }
   ],
   "source": [
    "data.head()"
   ]
  },
  {
   "cell_type": "code",
   "execution_count": 6,
   "metadata": {},
   "outputs": [
    {
     "data": {
      "text/plain": [
       "array(['Maharashtra Cricket Association Stadium, Pune'], dtype=object)"
      ]
     },
     "execution_count": 6,
     "metadata": {},
     "output_type": "execute_result"
    }
   ],
   "source": [
    "data['venue'].unique()"
   ]
  },
  {
   "cell_type": "code",
   "execution_count": 8,
   "metadata": {},
   "outputs": [
    {
     "data": {
      "text/plain": [
       "array(['A Dutt', 'LV van Beek', 'PA van Meekeren', 'BFW de Leede',\n",
       "       'RE van der Merwe', 'CN Ackermann', 'CR Woakes', 'DJ Willey',\n",
       "       'AAP Atkinson', 'MM Ali', 'AU Rashid'], dtype=object)"
      ]
     },
     "execution_count": 8,
     "metadata": {},
     "output_type": "execute_result"
    }
   ],
   "source": [
    "data['bowler'].unique()"
   ]
  },
  {
   "cell_type": "code",
   "execution_count": 9,
   "metadata": {},
   "outputs": [
    {
     "data": {
      "text/plain": [
       "array([ 0.1,  0.2,  0.3,  0.4,  0.5,  0.6,  1.1,  1.2,  1.3,  1.4,  1.5,\n",
       "        1.6,  1.7,  1.8,  2.1,  2.2,  2.3,  2.4,  2.5,  2.6,  3.1,  3.2,\n",
       "        3.3,  3.4,  3.5,  3.6,  4.1,  4.2,  4.3,  4.4,  4.5,  4.6,  5.1,\n",
       "        5.2,  5.3,  5.4,  5.5,  5.6,  6.1,  6.2,  6.3,  6.4,  6.5,  6.6,\n",
       "        7.1,  7.2,  7.3,  7.4,  7.5,  7.6,  7.7,  8.1,  8.2,  8.3,  8.4,\n",
       "        8.5,  8.6,  9.1,  9.2,  9.3,  9.4,  9.5,  9.6, 10.1, 10.2, 10.3,\n",
       "       10.4, 10.5, 10.6, 11.1, 11.2, 11.3, 11.4, 11.5, 11.6, 12.1, 12.2,\n",
       "       12.3, 12.4, 12.5, 12.6, 13.1, 13.2, 13.3, 13.4, 13.5, 13.6, 13.7,\n",
       "       14.1, 14.2, 14.3, 14.4, 14.5, 14.6, 15.1, 15.2, 15.3, 15.4, 15.5,\n",
       "       15.6, 16.1, 16.2, 16.3, 16.4, 16.5, 16.6, 17.1, 17.2, 17.3, 17.4,\n",
       "       17.5, 17.6, 18.1, 18.2, 18.3, 18.4, 18.5, 18.6, 19.1, 19.2, 19.3,\n",
       "       19.4, 19.5, 19.6, 19.7, 20.1, 20.2, 20.3, 20.4, 20.5, 20.6, 21.1,\n",
       "       21.2, 21.3, 21.4, 21.5, 21.6, 22.1, 22.2, 22.3, 22.4, 22.5, 22.6,\n",
       "       23.1, 23.2, 23.3, 23.4, 23.5, 23.6, 24.1, 24.2, 24.3, 24.4, 24.5,\n",
       "       24.6, 25.1, 25.2, 25.3, 25.4, 25.5, 25.6, 26.1, 26.2, 26.3, 26.4,\n",
       "       26.5, 26.6, 27.1, 27.2, 27.3, 27.4, 27.5, 27.6, 28.1, 28.2, 28.3,\n",
       "       28.4, 28.5, 28.6, 29.1, 29.2, 29.3, 29.4, 29.5, 29.6, 30.1, 30.2,\n",
       "       30.3, 30.4, 30.5, 30.6, 31.1, 31.2, 31.3, 31.4, 31.5, 31.6, 32.1,\n",
       "       32.2, 32.3, 32.4, 32.5, 32.6, 32.7, 33.1, 33.2, 33.3, 33.4, 33.5,\n",
       "       33.6, 34.1, 34.2, 34.3, 34.4, 34.5, 34.6, 35.1, 35.2, 35.3, 35.4,\n",
       "       35.5, 35.6, 36.1, 36.2, 36.3, 36.4, 36.5, 36.6, 37.1, 37.2, 37.3,\n",
       "       37.4, 37.5, 37.6, 38.1, 38.2, 38.3, 38.4, 38.5, 38.6, 39.1, 39.2,\n",
       "       39.3, 39.4, 39.5, 39.6, 40.1, 40.2, 40.3, 40.4, 40.5, 40.6, 41.1,\n",
       "       41.2, 41.3, 41.4, 41.5, 41.6, 42.1, 42.2, 42.3, 42.4, 42.5, 42.6,\n",
       "       43.1, 43.2, 43.3, 43.4, 43.5, 43.6, 43.7, 44.1, 44.2, 44.3, 44.4,\n",
       "       44.5, 44.6, 44.7, 45.1, 45.2, 45.3, 45.4, 45.5, 45.6, 45.7, 45.8,\n",
       "       45.9, 46.1, 46.2, 46.3, 46.4, 46.5, 46.6, 47.1, 47.2, 47.3, 47.4,\n",
       "       47.5, 47.6, 47.7, 47.8, 48.1, 48.2, 48.3, 48.4, 48.5, 48.6, 49.1,\n",
       "       49.2, 49.3, 49.4, 49.5, 49.6, 49.7, 49.8, 49.9,  0.7, 12.7, 20.7,\n",
       "       23.7])"
      ]
     },
     "execution_count": 9,
     "metadata": {},
     "output_type": "execute_result"
    }
   ],
   "source": [
    "data['ball'].unique()"
   ]
  },
  {
   "cell_type": "markdown",
   "metadata": {},
   "source": [
    "## Which bowler - batsman pair had the highest run from overs 3 to 5, in the first inning ?\n",
    "( Include over 3 and 5 too. ) Include extra runs too"
   ]
  },
  {
   "cell_type": "code",
   "execution_count": 12,
   "metadata": {},
   "outputs": [
    {
     "data": {
      "text/plain": [
       "Index(['match_id', 'season', 'start_date', 'venue', 'innings', 'ball',\n",
       "       'batting_team', 'bowling_team', 'striker', 'non_striker', 'bowler',\n",
       "       'runs_off_bat', 'extras', 'wides', 'noballs', 'byes', 'legbyes',\n",
       "       'penalty', 'wicket_type', 'player_dismissed', 'other_wicket_type',\n",
       "       'other_player_dismissed'],\n",
       "      dtype='object')"
      ]
     },
     "execution_count": 12,
     "metadata": {},
     "output_type": "execute_result"
    }
   ],
   "source": [
    "q1 = data[(data['ball']>= 3) & (data['ball'] <=5) ]\n",
    "q1.columns"
   ]
  },
  {
   "cell_type": "code",
   "execution_count": 14,
   "metadata": {},
   "outputs": [
    {
     "data": {
      "text/plain": [
       "array(['JM Bairstow', 'DJ Malan', 'W Barresi', \"MP O'Dowd\",\n",
       "       'CN Ackermann'], dtype=object)"
      ]
     },
     "execution_count": 14,
     "metadata": {},
     "output_type": "execute_result"
    }
   ],
   "source": [
    "q1['striker'].unique()"
   ]
  },
  {
   "cell_type": "code",
   "execution_count": null,
   "metadata": {},
   "outputs": [],
   "source": []
  }
 ],
 "metadata": {
  "kernelspec": {
   "display_name": "BS_venv",
   "language": "python",
   "name": "python3"
  },
  "language_info": {
   "codemirror_mode": {
    "name": "ipython",
    "version": 3
   },
   "file_extension": ".py",
   "mimetype": "text/x-python",
   "name": "python",
   "nbconvert_exporter": "python",
   "pygments_lexer": "ipython3",
   "version": "3.10.12"
  }
 },
 "nbformat": 4,
 "nbformat_minor": 2
}

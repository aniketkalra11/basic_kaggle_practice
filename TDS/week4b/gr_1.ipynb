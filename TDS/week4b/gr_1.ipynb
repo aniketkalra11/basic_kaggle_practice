{
 "cells": [
  {
   "cell_type": "markdown",
   "metadata": {},
   "source": [
    "### Classification using python"
   ]
  },
  {
   "cell_type": "code",
   "execution_count": 13,
   "metadata": {},
   "outputs": [],
   "source": [
    "import pandas as pd"
   ]
  },
  {
   "cell_type": "code",
   "execution_count": 14,
   "metadata": {},
   "outputs": [],
   "source": [
    "data = pd.read_csv('TDS_Week_5_Dataset_1 - Sheet1.csv')"
   ]
  },
  {
   "cell_type": "code",
   "execution_count": 3,
   "metadata": {},
   "outputs": [
    {
     "name": "stdout",
     "output_type": "stream",
     "text": [
      "<class 'pandas.core.frame.DataFrame'>\n",
      "RangeIndex: 10000 entries, 0 to 9999\n",
      "Data columns (total 9 columns):\n",
      " #   Column                   Non-Null Count  Dtype  \n",
      "---  ------                   --------------  -----  \n",
      " 0   UDI                      10000 non-null  int64  \n",
      " 1   Product ID               10000 non-null  object \n",
      " 2   Type                     10000 non-null  object \n",
      " 3   Air temperature [K]      10000 non-null  float64\n",
      " 4   Process temperature [K]  10000 non-null  float64\n",
      " 5   Rotational speed [rpm]   10000 non-null  int64  \n",
      " 6   Torque [Nm]              10000 non-null  float64\n",
      " 7   Tool wear [min]          10000 non-null  int64  \n",
      " 8   Failure Type             10000 non-null  object \n",
      "dtypes: float64(3), int64(3), object(3)\n",
      "memory usage: 703.2+ KB\n"
     ]
    }
   ],
   "source": [
    "data.info()"
   ]
  },
  {
   "cell_type": "code",
   "execution_count": 8,
   "metadata": {},
   "outputs": [
    {
     "data": {
      "text/plain": [
       "[1,\n",
       " 'Power Failure',\n",
       " 'Tool Wear Failure',\n",
       " 'Overstrain Failure',\n",
       " 'Random Failures',\n",
       " 'Heat Dissipation Failure']"
      ]
     },
     "execution_count": 8,
     "metadata": {},
     "output_type": "execute_result"
    }
   ],
   "source": [
    "vals = list(data['Failure Type'].unique())\n",
    "vals"
   ]
  },
  {
   "cell_type": "code",
   "execution_count": 9,
   "metadata": {},
   "outputs": [],
   "source": [
    "data['Failure Type'].replace('No Failure', 1, inplace=True)\n",
    "vals.remove(1) "
   ]
  },
  {
   "cell_type": "code",
   "execution_count": 10,
   "metadata": {},
   "outputs": [
    {
     "data": {
      "text/plain": [
       "array([1, 0])"
      ]
     },
     "execution_count": 10,
     "metadata": {},
     "output_type": "execute_result"
    }
   ],
   "source": [
    "data['Failure Type'].replace(to_replace=vals, value= 0, inplace=True)\n",
    "data['Failure Type'].unique()"
   ]
  },
  {
   "cell_type": "code",
   "execution_count": 11,
   "metadata": {},
   "outputs": [
    {
     "name": "stdout",
     "output_type": "stream",
     "text": [
      "<class 'pandas.core.frame.DataFrame'>\n",
      "RangeIndex: 10000 entries, 0 to 9999\n",
      "Data columns (total 9 columns):\n",
      " #   Column                   Non-Null Count  Dtype  \n",
      "---  ------                   --------------  -----  \n",
      " 0   UDI                      10000 non-null  int64  \n",
      " 1   Product ID               10000 non-null  object \n",
      " 2   Type                     10000 non-null  object \n",
      " 3   Air temperature [K]      10000 non-null  float64\n",
      " 4   Process temperature [K]  10000 non-null  float64\n",
      " 5   Rotational speed [rpm]   10000 non-null  int64  \n",
      " 6   Torque [Nm]              10000 non-null  float64\n",
      " 7   Tool wear [min]          10000 non-null  int64  \n",
      " 8   Failure Type             10000 non-null  int64  \n",
      "dtypes: float64(3), int64(4), object(2)\n",
      "memory usage: 703.2+ KB\n"
     ]
    }
   ],
   "source": [
    "data.info()"
   ]
  },
  {
   "cell_type": "code",
   "execution_count": 12,
   "metadata": {},
   "outputs": [
    {
     "name": "stdout",
     "output_type": "stream",
     "text": [
      "ration between failure and no failure is: 9652 : 348\n"
     ]
    }
   ],
   "source": [
    "print('ration between failure and no failure is:', len(data[data['Failure Type'] == 1]), ':', len(data[data['Failure Type'] == 0]))"
   ]
  },
  {
   "cell_type": "code",
   "execution_count": 15,
   "metadata": {},
   "outputs": [],
   "source": []
  },
  {
   "cell_type": "code",
   "execution_count": null,
   "metadata": {},
   "outputs": [],
   "source": []
  },
  {
   "cell_type": "code",
   "execution_count": 22,
   "metadata": {},
   "outputs": [
    {
     "name": "stdout",
     "output_type": "stream",
     "text": [
      "vals for 0, 1 ['No Failure', 'Tool Wear Failure', 'Overstrain Failure', 'Random Failures', 'Heat Dissipation Failure'] Power Failure\n",
      "ration between failure and no failure is: 95 : 9905\n"
     ]
    }
   ],
   "source": [
    "#! Do not run this cell again\n",
    "data = pd.read_csv('TDS_Week_5_Dataset_1 - Sheet1.csv')\n",
    "vals = list(data['Failure Type'].unique())\n",
    "val_for_1 = vals.pop(1)\n",
    "vals_for_0 = vals\n",
    "print('vals for 0, 1', vals_for_0, val_for_1)\n",
    "data['Failure Type'].replace(to_replace=vals_for_0, value= 0, inplace=True)\n",
    "data['Failure Type'].replace(to_replace=val_for_1, value= 1, inplace=True)\n",
    "print('ration between failure and no failure is:', len(data[data['Failure Type'] == 1]), ':', len(data[data['Failure Type'] == 0]))"
   ]
  },
  {
   "cell_type": "code",
   "execution_count": 24,
   "metadata": {},
   "outputs": [
    {
     "name": "stdout",
     "output_type": "stream",
     "text": [
      "IQR is: 109.0\n",
      "Q1 is: 53.0\n",
      "Q3 is: 162.0\n",
      "min is: 0\n",
      "max is: 253\n",
      "mean is: 107.951\n",
      "median is: 108.0\n"
     ]
    }
   ],
   "source": [
    "# IQR removal on Tool wear [min]\n",
    "Q1 = data['Tool wear [min]'].quantile(0.25)\n",
    "Q3 = data['Tool wear [min]'].quantile(0.75)\n",
    "IQR = Q3 - Q1\n",
    "print('IQR is:', IQR)\n",
    "print('Q1 is:', Q1)\n",
    "print('Q3 is:', Q3)\n",
    "print('min is:', data['Tool wear [min]'].min())\n",
    "print('max is:', data['Tool wear [min]'].max())\n",
    "print('mean is:', data['Tool wear [min]'].mean())\n",
    "print('median is:', data['Tool wear [min]'].median())"
   ]
  },
  {
   "cell_type": "code",
   "execution_count": 25,
   "metadata": {},
   "outputs": [
    {
     "data": {
      "text/plain": [
       "count    10000.000000\n",
       "mean       107.951000\n",
       "std         63.654147\n",
       "min          0.000000\n",
       "25%         53.000000\n",
       "50%        108.000000\n",
       "75%        162.000000\n",
       "max        253.000000\n",
       "Name: Tool wear [min], dtype: float64"
      ]
     },
     "execution_count": 25,
     "metadata": {},
     "output_type": "execute_result"
    }
   ],
   "source": [
    "data['Tool wear [min]'].describe()"
   ]
  },
  {
   "cell_type": "code",
   "execution_count": 28,
   "metadata": {},
   "outputs": [
    {
     "name": "stdout",
     "output_type": "stream",
     "text": [
      "iqr_min_range is: -110.5\n",
      "iqr_max_range is: 325.5\n",
      "<class 'pandas.core.frame.DataFrame'>\n",
      "RangeIndex: 10000 entries, 0 to 9999\n",
      "Data columns (total 9 columns):\n",
      " #   Column                   Non-Null Count  Dtype  \n",
      "---  ------                   --------------  -----  \n",
      " 0   UDI                      10000 non-null  int64  \n",
      " 1   Product ID               10000 non-null  object \n",
      " 2   Type                     10000 non-null  object \n",
      " 3   Air temperature [K]      10000 non-null  float64\n",
      " 4   Process temperature [K]  10000 non-null  float64\n",
      " 5   Rotational speed [rpm]   10000 non-null  int64  \n",
      " 6   Torque [Nm]              10000 non-null  float64\n",
      " 7   Tool wear [min]          10000 non-null  int64  \n",
      " 8   Failure Type             10000 non-null  int64  \n",
      "dtypes: float64(3), int64(4), object(2)\n",
      "memory usage: 703.2+ KB\n"
     ]
    }
   ],
   "source": [
    "iqr_min_range =  Q1 - 1.5 * IQR\n",
    "iqr_max_range =  Q3 + 1.5 * IQR\n",
    "print('iqr_min_range is:', iqr_min_range)\n",
    "print('iqr_max_range is:', iqr_max_range)\n",
    "after_removal_data = pd.DataFrame()\n",
    "after_removal_data = data[(data['Tool wear [min]'] > iqr_min_range) & (data['Tool wear [min]'] < iqr_max_range)]\n",
    "after_removal_data.info()"
   ]
  },
  {
   "cell_type": "code",
   "execution_count": null,
   "metadata": {},
   "outputs": [],
   "source": []
  }
 ],
 "metadata": {
  "kernelspec": {
   "display_name": "jupitor_notebook",
   "language": "python",
   "name": "python3"
  },
  "language_info": {
   "codemirror_mode": {
    "name": "ipython",
    "version": 3
   },
   "file_extension": ".py",
   "mimetype": "text/x-python",
   "name": "python",
   "nbconvert_exporter": "python",
   "pygments_lexer": "ipython3",
   "version": "3.10.12"
  }
 },
 "nbformat": 4,
 "nbformat_minor": 2
}

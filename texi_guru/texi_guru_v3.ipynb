{
 "cells": [
  {
   "cell_type": "code",
   "execution_count": 1,
   "metadata": {},
   "outputs": [],
   "source": [
    "import numpy as np\n",
    "import pandas as pd\n",
    "import matplotlib.pyplot as plt\n",
    "import seaborn as sns\n",
    "\n",
    "from sklearn.impute import SimpleImputer\n",
    "from sklearn.impute import KNNImputer\n",
    "from sklearn.pipeline import Pipeline\n",
    "from sklearn.compose import ColumnTransformer\n",
    "\n",
    "from sklearn.preprocessing import OneHotEncoder\n",
    "from sklearn.preprocessing import PolynomialFeatures\n",
    "from sklearn.preprocessing import StandardScaler\n",
    "\n",
    "from sklearn.linear_model import LinearRegression\n",
    "from sklearn.linear_model import SGDRegressor\n",
    "from sklearn.linear_model import Ridge, RidgeCV\n",
    "from sklearn.linear_model import Lasso, LassoCV\n",
    "\n",
    "from sklearn.svm import SVR\n",
    "\n",
    "from sklearn.model_selection import ShuffleSplit\n",
    "from sklearn.model_selection import cross_validate\n",
    "from sklearn.model_selection import validation_curve\n",
    "from sklearn.model_selection import train_test_split\n",
    "from sklearn.model_selection import GridSearchCV\n",
    "from sklearn.model_selection import RandomizedSearchCV\n",
    "\n",
    "from sklearn.metrics import mean_squared_error\n",
    "from sklearn.decomposition import PCA\n",
    "\n"
   ]
  },
  {
   "cell_type": "code",
   "execution_count": 2,
   "metadata": {},
   "outputs": [
    {
     "name": "stdout",
     "output_type": "stream",
     "text": [
      "running on local machine\n",
      "<class 'pandas.core.frame.DataFrame'>\n",
      "RangeIndex: 175000 entries, 0 to 174999\n",
      "Data columns (total 17 columns):\n",
      " #   Column                 Non-Null Count   Dtype  \n",
      "---  ------                 --------------   -----  \n",
      " 0   VendorID               175000 non-null  int64  \n",
      " 1   tpep_pickup_datetime   175000 non-null  object \n",
      " 2   tpep_dropoff_datetime  175000 non-null  object \n",
      " 3   passenger_count        168923 non-null  float64\n",
      " 4   trip_distance          175000 non-null  float64\n",
      " 5   RatecodeID             168923 non-null  float64\n",
      " 6   store_and_fwd_flag     168923 non-null  object \n",
      " 7   PULocationID           175000 non-null  int64  \n",
      " 8   DOLocationID           175000 non-null  int64  \n",
      " 9   payment_type           175000 non-null  object \n",
      " 10  extra                  175000 non-null  float64\n",
      " 11  tip_amount             175000 non-null  float64\n",
      " 12  tolls_amount           175000 non-null  float64\n",
      " 13  improvement_surcharge  175000 non-null  float64\n",
      " 14  total_amount           175000 non-null  float64\n",
      " 15  congestion_surcharge   168923 non-null  float64\n",
      " 16  Airport_fee            168923 non-null  float64\n",
      "dtypes: float64(10), int64(3), object(4)\n",
      "memory usage: 22.7+ MB\n"
     ]
    }
   ],
   "source": [
    "try: # For kaggle\n",
    "  train_pd = pd.read_csv('/kaggle/input/taxi-fare-guru-total-amount-prediction-challenge/train.csv')\n",
    "\n",
    "  test_pd = pd.read_csv('/kaggle/input/taxi-fare-guru-total-amount-prediction-challenge/test.csv')\n",
    "  print('running on kaggle')\n",
    "except: #for local machine \n",
    "  print('running on local machine')\n",
    "  train_pd = pd.read_csv('train.csv')\n",
    "  test_pd = pd.read_csv('test.csv')\n",
    "  pass\n",
    "copy_train_pd = train_pd.copy()\n",
    "copy_test_pd = test_pd.copy()\n",
    "copy_train_pd.info()\n"
   ]
  },
  {
   "cell_type": "code",
   "execution_count": 3,
   "metadata": {},
   "outputs": [],
   "source": [
    "def convert_dt_obj_to_datetime(df:pd.DataFrame, col_name:str):\n",
    "    df[col_name] = pd.to_datetime(df[col_name])\n",
    "    df[col_name +'_Year'] = df[col_name].apply(lambda time: time.year)\n",
    "    df[col_name +'_Month'] = df[col_name].apply(lambda time: time.month)\n",
    "    df[col_name +'_Day'] = df[col_name].apply(lambda time: time.day)\n",
    "    df[col_name +'_Hour'] = df[col_name].apply(lambda time: time.hour)\n",
    "    df[col_name +'_Minute'] = df[col_name].apply(lambda time: time.minute) # IGNORING MINS"
   ]
  },
  {
   "cell_type": "code",
   "execution_count": 4,
   "metadata": {},
   "outputs": [],
   "source": [
    "x_train, x_test = train_test_split(train_pd, test_size= 0.1)\n",
    "x_train_copy = x_train.copy()\n",
    "x_test_copy = x_test.copy()"
   ]
  },
  {
   "cell_type": "code",
   "execution_count": 5,
   "metadata": {},
   "outputs": [],
   "source": [
    "x_train, x_test = x_train_copy.copy(), x_test_copy.copy()\n",
    "\n",
    "convert_dt_obj_to_datetime(x_train, 'tpep_pickup_datetime')\n",
    "convert_dt_obj_to_datetime(x_test, 'tpep_pickup_datetime')\n",
    "x_train = x_train.drop('tpep_pickup_datetime', axis= 1)\n",
    "x_test = x_test.drop('tpep_pickup_datetime', axis= 1)\n",
    "\n",
    "convert_dt_obj_to_datetime(x_train, 'tpep_dropoff_datetime')\n",
    "convert_dt_obj_to_datetime(x_test, 'tpep_dropoff_datetime')\n",
    "\n",
    "x_train = x_train.drop('tpep_dropoff_datetime', axis= 1)\n",
    "x_test = x_test.drop('tpep_dropoff_datetime', axis= 1)\n",
    "\n",
    "x_train_copy, x_test_copy = x_train.copy(), x_test.copy()"
   ]
  },
  {
   "cell_type": "code",
   "execution_count": 6,
   "metadata": {},
   "outputs": [
    {
     "data": {
      "text/html": [
       "<div>\n",
       "<style scoped>\n",
       "    .dataframe tbody tr th:only-of-type {\n",
       "        vertical-align: middle;\n",
       "    }\n",
       "\n",
       "    .dataframe tbody tr th {\n",
       "        vertical-align: top;\n",
       "    }\n",
       "\n",
       "    .dataframe thead th {\n",
       "        text-align: right;\n",
       "    }\n",
       "</style>\n",
       "<table border=\"1\" class=\"dataframe\">\n",
       "  <thead>\n",
       "    <tr style=\"text-align: right;\">\n",
       "      <th></th>\n",
       "      <th>VendorID</th>\n",
       "      <th>passenger_count</th>\n",
       "      <th>trip_distance</th>\n",
       "      <th>RatecodeID</th>\n",
       "      <th>PULocationID</th>\n",
       "      <th>DOLocationID</th>\n",
       "      <th>extra</th>\n",
       "      <th>tip_amount</th>\n",
       "      <th>tolls_amount</th>\n",
       "      <th>improvement_surcharge</th>\n",
       "      <th>...</th>\n",
       "      <th>tpep_pickup_datetime_Year</th>\n",
       "      <th>tpep_pickup_datetime_Month</th>\n",
       "      <th>tpep_pickup_datetime_Day</th>\n",
       "      <th>tpep_pickup_datetime_Hour</th>\n",
       "      <th>tpep_pickup_datetime_Minute</th>\n",
       "      <th>tpep_dropoff_datetime_Year</th>\n",
       "      <th>tpep_dropoff_datetime_Month</th>\n",
       "      <th>tpep_dropoff_datetime_Day</th>\n",
       "      <th>tpep_dropoff_datetime_Hour</th>\n",
       "      <th>tpep_dropoff_datetime_Minute</th>\n",
       "    </tr>\n",
       "  </thead>\n",
       "  <tbody>\n",
       "    <tr>\n",
       "      <th>count</th>\n",
       "      <td>157500.000000</td>\n",
       "      <td>151998.000000</td>\n",
       "      <td>157500.000000</td>\n",
       "      <td>151998.000000</td>\n",
       "      <td>157500.000000</td>\n",
       "      <td>157500.000000</td>\n",
       "      <td>157500.000000</td>\n",
       "      <td>157500.000000</td>\n",
       "      <td>157500.000000</td>\n",
       "      <td>157500.000000</td>\n",
       "      <td>...</td>\n",
       "      <td>157500.0</td>\n",
       "      <td>157500.000000</td>\n",
       "      <td>157500.000000</td>\n",
       "      <td>157500.000000</td>\n",
       "      <td>157500.000000</td>\n",
       "      <td>157500.0</td>\n",
       "      <td>157500.000000</td>\n",
       "      <td>157500.000000</td>\n",
       "      <td>157500.000000</td>\n",
       "      <td>157500.000000</td>\n",
       "    </tr>\n",
       "    <tr>\n",
       "      <th>mean</th>\n",
       "      <td>0.728571</td>\n",
       "      <td>1.357176</td>\n",
       "      <td>5.310767</td>\n",
       "      <td>1.517967</td>\n",
       "      <td>132.847492</td>\n",
       "      <td>132.776368</td>\n",
       "      <td>1.930891</td>\n",
       "      <td>6.127490</td>\n",
       "      <td>0.646456</td>\n",
       "      <td>0.979631</td>\n",
       "      <td>...</td>\n",
       "      <td>2023.0</td>\n",
       "      <td>6.004235</td>\n",
       "      <td>29.060717</td>\n",
       "      <td>15.116648</td>\n",
       "      <td>29.509289</td>\n",
       "      <td>2023.0</td>\n",
       "      <td>6.007822</td>\n",
       "      <td>28.966197</td>\n",
       "      <td>15.100006</td>\n",
       "      <td>29.489232</td>\n",
       "    </tr>\n",
       "    <tr>\n",
       "      <th>std</th>\n",
       "      <td>0.445497</td>\n",
       "      <td>0.890710</td>\n",
       "      <td>416.332621</td>\n",
       "      <td>6.514378</td>\n",
       "      <td>76.141942</td>\n",
       "      <td>76.191448</td>\n",
       "      <td>1.950031</td>\n",
       "      <td>4.627029</td>\n",
       "      <td>2.322279</td>\n",
       "      <td>0.199132</td>\n",
       "      <td>...</td>\n",
       "      <td>0.0</td>\n",
       "      <td>0.064939</td>\n",
       "      <td>1.972619</td>\n",
       "      <td>5.781268</td>\n",
       "      <td>17.298916</td>\n",
       "      <td>0.0</td>\n",
       "      <td>0.088097</td>\n",
       "      <td>2.589055</td>\n",
       "      <td>5.961231</td>\n",
       "      <td>17.343962</td>\n",
       "    </tr>\n",
       "    <tr>\n",
       "      <th>min</th>\n",
       "      <td>0.000000</td>\n",
       "      <td>0.000000</td>\n",
       "      <td>0.000000</td>\n",
       "      <td>1.000000</td>\n",
       "      <td>1.000000</td>\n",
       "      <td>1.000000</td>\n",
       "      <td>-7.500000</td>\n",
       "      <td>0.000275</td>\n",
       "      <td>-26.550000</td>\n",
       "      <td>-1.000000</td>\n",
       "      <td>...</td>\n",
       "      <td>2023.0</td>\n",
       "      <td>6.000000</td>\n",
       "      <td>1.000000</td>\n",
       "      <td>0.000000</td>\n",
       "      <td>0.000000</td>\n",
       "      <td>2023.0</td>\n",
       "      <td>6.000000</td>\n",
       "      <td>1.000000</td>\n",
       "      <td>0.000000</td>\n",
       "      <td>0.000000</td>\n",
       "    </tr>\n",
       "    <tr>\n",
       "      <th>25%</th>\n",
       "      <td>0.000000</td>\n",
       "      <td>1.000000</td>\n",
       "      <td>1.080000</td>\n",
       "      <td>1.000000</td>\n",
       "      <td>67.000000</td>\n",
       "      <td>67.000000</td>\n",
       "      <td>0.000000</td>\n",
       "      <td>3.473769</td>\n",
       "      <td>0.000000</td>\n",
       "      <td>1.000000</td>\n",
       "      <td>...</td>\n",
       "      <td>2023.0</td>\n",
       "      <td>6.000000</td>\n",
       "      <td>29.000000</td>\n",
       "      <td>11.000000</td>\n",
       "      <td>15.000000</td>\n",
       "      <td>2023.0</td>\n",
       "      <td>6.000000</td>\n",
       "      <td>29.000000</td>\n",
       "      <td>11.000000</td>\n",
       "      <td>14.000000</td>\n",
       "    </tr>\n",
       "    <tr>\n",
       "      <th>50%</th>\n",
       "      <td>1.000000</td>\n",
       "      <td>1.000000</td>\n",
       "      <td>1.840000</td>\n",
       "      <td>1.000000</td>\n",
       "      <td>133.000000</td>\n",
       "      <td>133.000000</td>\n",
       "      <td>1.000000</td>\n",
       "      <td>5.289813</td>\n",
       "      <td>0.000000</td>\n",
       "      <td>1.000000</td>\n",
       "      <td>...</td>\n",
       "      <td>2023.0</td>\n",
       "      <td>6.000000</td>\n",
       "      <td>29.000000</td>\n",
       "      <td>16.000000</td>\n",
       "      <td>30.000000</td>\n",
       "      <td>2023.0</td>\n",
       "      <td>6.000000</td>\n",
       "      <td>29.000000</td>\n",
       "      <td>17.000000</td>\n",
       "      <td>30.000000</td>\n",
       "    </tr>\n",
       "    <tr>\n",
       "      <th>75%</th>\n",
       "      <td>1.000000</td>\n",
       "      <td>1.000000</td>\n",
       "      <td>3.620000</td>\n",
       "      <td>1.000000</td>\n",
       "      <td>199.000000</td>\n",
       "      <td>199.000000</td>\n",
       "      <td>2.500000</td>\n",
       "      <td>7.500977</td>\n",
       "      <td>0.000000</td>\n",
       "      <td>1.000000</td>\n",
       "      <td>...</td>\n",
       "      <td>2023.0</td>\n",
       "      <td>6.000000</td>\n",
       "      <td>30.000000</td>\n",
       "      <td>20.000000</td>\n",
       "      <td>44.000000</td>\n",
       "      <td>2023.0</td>\n",
       "      <td>6.000000</td>\n",
       "      <td>30.000000</td>\n",
       "      <td>20.000000</td>\n",
       "      <td>45.000000</td>\n",
       "    </tr>\n",
       "    <tr>\n",
       "      <th>max</th>\n",
       "      <td>2.000000</td>\n",
       "      <td>9.000000</td>\n",
       "      <td>135182.060000</td>\n",
       "      <td>99.000000</td>\n",
       "      <td>264.000000</td>\n",
       "      <td>264.000000</td>\n",
       "      <td>11.750000</td>\n",
       "      <td>484.876151</td>\n",
       "      <td>76.000000</td>\n",
       "      <td>1.000000</td>\n",
       "      <td>...</td>\n",
       "      <td>2023.0</td>\n",
       "      <td>7.000000</td>\n",
       "      <td>30.000000</td>\n",
       "      <td>23.000000</td>\n",
       "      <td>59.000000</td>\n",
       "      <td>2023.0</td>\n",
       "      <td>7.000000</td>\n",
       "      <td>30.000000</td>\n",
       "      <td>23.000000</td>\n",
       "      <td>59.000000</td>\n",
       "    </tr>\n",
       "  </tbody>\n",
       "</table>\n",
       "<p>8 rows × 23 columns</p>\n",
       "</div>"
      ],
      "text/plain": [
       "            VendorID  passenger_count  trip_distance     RatecodeID  \\\n",
       "count  157500.000000    151998.000000  157500.000000  151998.000000   \n",
       "mean        0.728571         1.357176       5.310767       1.517967   \n",
       "std         0.445497         0.890710     416.332621       6.514378   \n",
       "min         0.000000         0.000000       0.000000       1.000000   \n",
       "25%         0.000000         1.000000       1.080000       1.000000   \n",
       "50%         1.000000         1.000000       1.840000       1.000000   \n",
       "75%         1.000000         1.000000       3.620000       1.000000   \n",
       "max         2.000000         9.000000  135182.060000      99.000000   \n",
       "\n",
       "        PULocationID   DOLocationID          extra     tip_amount  \\\n",
       "count  157500.000000  157500.000000  157500.000000  157500.000000   \n",
       "mean      132.847492     132.776368       1.930891       6.127490   \n",
       "std        76.141942      76.191448       1.950031       4.627029   \n",
       "min         1.000000       1.000000      -7.500000       0.000275   \n",
       "25%        67.000000      67.000000       0.000000       3.473769   \n",
       "50%       133.000000     133.000000       1.000000       5.289813   \n",
       "75%       199.000000     199.000000       2.500000       7.500977   \n",
       "max       264.000000     264.000000      11.750000     484.876151   \n",
       "\n",
       "        tolls_amount  improvement_surcharge  ...  tpep_pickup_datetime_Year  \\\n",
       "count  157500.000000          157500.000000  ...                   157500.0   \n",
       "mean        0.646456               0.979631  ...                     2023.0   \n",
       "std         2.322279               0.199132  ...                        0.0   \n",
       "min       -26.550000              -1.000000  ...                     2023.0   \n",
       "25%         0.000000               1.000000  ...                     2023.0   \n",
       "50%         0.000000               1.000000  ...                     2023.0   \n",
       "75%         0.000000               1.000000  ...                     2023.0   \n",
       "max        76.000000               1.000000  ...                     2023.0   \n",
       "\n",
       "       tpep_pickup_datetime_Month  tpep_pickup_datetime_Day  \\\n",
       "count               157500.000000             157500.000000   \n",
       "mean                     6.004235                 29.060717   \n",
       "std                      0.064939                  1.972619   \n",
       "min                      6.000000                  1.000000   \n",
       "25%                      6.000000                 29.000000   \n",
       "50%                      6.000000                 29.000000   \n",
       "75%                      6.000000                 30.000000   \n",
       "max                      7.000000                 30.000000   \n",
       "\n",
       "       tpep_pickup_datetime_Hour  tpep_pickup_datetime_Minute  \\\n",
       "count              157500.000000                157500.000000   \n",
       "mean                   15.116648                    29.509289   \n",
       "std                     5.781268                    17.298916   \n",
       "min                     0.000000                     0.000000   \n",
       "25%                    11.000000                    15.000000   \n",
       "50%                    16.000000                    30.000000   \n",
       "75%                    20.000000                    44.000000   \n",
       "max                    23.000000                    59.000000   \n",
       "\n",
       "       tpep_dropoff_datetime_Year  tpep_dropoff_datetime_Month  \\\n",
       "count                    157500.0                157500.000000   \n",
       "mean                       2023.0                     6.007822   \n",
       "std                           0.0                     0.088097   \n",
       "min                        2023.0                     6.000000   \n",
       "25%                        2023.0                     6.000000   \n",
       "50%                        2023.0                     6.000000   \n",
       "75%                        2023.0                     6.000000   \n",
       "max                        2023.0                     7.000000   \n",
       "\n",
       "       tpep_dropoff_datetime_Day  tpep_dropoff_datetime_Hour  \\\n",
       "count              157500.000000               157500.000000   \n",
       "mean                   28.966197                   15.100006   \n",
       "std                     2.589055                    5.961231   \n",
       "min                     1.000000                    0.000000   \n",
       "25%                    29.000000                   11.000000   \n",
       "50%                    29.000000                   17.000000   \n",
       "75%                    30.000000                   20.000000   \n",
       "max                    30.000000                   23.000000   \n",
       "\n",
       "       tpep_dropoff_datetime_Minute  \n",
       "count                 157500.000000  \n",
       "mean                      29.489232  \n",
       "std                       17.343962  \n",
       "min                        0.000000  \n",
       "25%                       14.000000  \n",
       "50%                       30.000000  \n",
       "75%                       45.000000  \n",
       "max                       59.000000  \n",
       "\n",
       "[8 rows x 23 columns]"
      ]
     },
     "execution_count": 6,
     "metadata": {},
     "output_type": "execute_result"
    }
   ],
   "source": [
    "x_train.describe()"
   ]
  },
  {
   "cell_type": "code",
   "execution_count": 7,
   "metadata": {},
   "outputs": [
    {
     "data": {
      "text/plain": [
       "VendorID                           0\n",
       "passenger_count                 5502\n",
       "trip_distance                      0\n",
       "RatecodeID                      5502\n",
       "store_and_fwd_flag              5502\n",
       "PULocationID                       0\n",
       "DOLocationID                       0\n",
       "payment_type                       0\n",
       "extra                              0\n",
       "tip_amount                         0\n",
       "tolls_amount                       0\n",
       "improvement_surcharge              0\n",
       "total_amount                       0\n",
       "congestion_surcharge            5502\n",
       "Airport_fee                     5502\n",
       "tpep_pickup_datetime_Year          0\n",
       "tpep_pickup_datetime_Month         0\n",
       "tpep_pickup_datetime_Day           0\n",
       "tpep_pickup_datetime_Hour          0\n",
       "tpep_pickup_datetime_Minute        0\n",
       "tpep_dropoff_datetime_Year         0\n",
       "tpep_dropoff_datetime_Month        0\n",
       "tpep_dropoff_datetime_Day          0\n",
       "tpep_dropoff_datetime_Hour         0\n",
       "tpep_dropoff_datetime_Minute       0\n",
       "dtype: int64"
      ]
     },
     "execution_count": 7,
     "metadata": {},
     "output_type": "execute_result"
    }
   ],
   "source": [
    "x_train.isna().sum()"
   ]
  },
  {
   "cell_type": "code",
   "execution_count": 8,
   "metadata": {},
   "outputs": [],
   "source": [
    "def impute_unknown_values(X:pd.DataFrame):\n",
    "  X['passenger_count'] = X['passenger_count'].replace(np.nan, 1)\n",
    "  X['RatecodeID'] = X['RatecodeID'].replace(np.nan, 1)\n",
    "  X['store_and_fwd_flag'] = X['store_and_fwd_flag'].replace(np.nan, 'N')\n",
    "  X['congestion_surcharge'] = X['congestion_surcharge'].replace(np.nan, 0)\n",
    "  X['Airport_fee'] = X['Airport_fee'].replace(np.nan, 0)\n",
    "  print(X.isna().sum())"
   ]
  },
  {
   "cell_type": "code",
   "execution_count": 9,
   "metadata": {},
   "outputs": [
    {
     "data": {
      "text/plain": [
       "VendorID                           0\n",
       "passenger_count                 5502\n",
       "trip_distance                      0\n",
       "RatecodeID                      5502\n",
       "store_and_fwd_flag              5502\n",
       "PULocationID                       0\n",
       "DOLocationID                       0\n",
       "payment_type                       0\n",
       "extra                              0\n",
       "tip_amount                         0\n",
       "tolls_amount                       0\n",
       "improvement_surcharge              0\n",
       "total_amount                       0\n",
       "congestion_surcharge            5502\n",
       "Airport_fee                     5502\n",
       "tpep_pickup_datetime_Year          0\n",
       "tpep_pickup_datetime_Month         0\n",
       "tpep_pickup_datetime_Day           0\n",
       "tpep_pickup_datetime_Hour          0\n",
       "tpep_pickup_datetime_Minute        0\n",
       "tpep_dropoff_datetime_Year         0\n",
       "tpep_dropoff_datetime_Month        0\n",
       "tpep_dropoff_datetime_Day          0\n",
       "tpep_dropoff_datetime_Hour         0\n",
       "tpep_dropoff_datetime_Minute       0\n",
       "dtype: int64"
      ]
     },
     "execution_count": 9,
     "metadata": {},
     "output_type": "execute_result"
    }
   ],
   "source": [
    "# x_train['passenger_count'] = x_train['passenger_count'].replace(np.nan, 1)\n",
    "# x_train['RatecodeID'] = x_train['RatecodeID'].replace(np.nan, 1)\n",
    "# x_train['store_and_fwd_flag'] = x_train['store_and_fwd_flag'].replace(np.nan, 'N')\n",
    "# x_train['congestion_surcharge'] = x_train['congestion_surcharge'].replace(np.nan, 0)\n",
    "# x_train['Airport_fee'] = x_train['Airport_fee'].replace(np.nan, 0)\n",
    "x_train.isna().sum()"
   ]
  },
  {
   "cell_type": "markdown",
   "metadata": {},
   "source": [
    "### OUTLIER removal"
   ]
  },
  {
   "cell_type": "code",
   "execution_count": 10,
   "metadata": {},
   "outputs": [
    {
     "data": {
      "text/html": [
       "<div>\n",
       "<style scoped>\n",
       "    .dataframe tbody tr th:only-of-type {\n",
       "        vertical-align: middle;\n",
       "    }\n",
       "\n",
       "    .dataframe tbody tr th {\n",
       "        vertical-align: top;\n",
       "    }\n",
       "\n",
       "    .dataframe thead th {\n",
       "        text-align: right;\n",
       "    }\n",
       "</style>\n",
       "<table border=\"1\" class=\"dataframe\">\n",
       "  <thead>\n",
       "    <tr style=\"text-align: right;\">\n",
       "      <th></th>\n",
       "      <th>VendorID</th>\n",
       "      <th>passenger_count</th>\n",
       "      <th>trip_distance</th>\n",
       "      <th>RatecodeID</th>\n",
       "      <th>PULocationID</th>\n",
       "      <th>DOLocationID</th>\n",
       "      <th>extra</th>\n",
       "      <th>tip_amount</th>\n",
       "      <th>tolls_amount</th>\n",
       "      <th>improvement_surcharge</th>\n",
       "      <th>...</th>\n",
       "      <th>tpep_pickup_datetime_Year</th>\n",
       "      <th>tpep_pickup_datetime_Month</th>\n",
       "      <th>tpep_pickup_datetime_Day</th>\n",
       "      <th>tpep_pickup_datetime_Hour</th>\n",
       "      <th>tpep_pickup_datetime_Minute</th>\n",
       "      <th>tpep_dropoff_datetime_Year</th>\n",
       "      <th>tpep_dropoff_datetime_Month</th>\n",
       "      <th>tpep_dropoff_datetime_Day</th>\n",
       "      <th>tpep_dropoff_datetime_Hour</th>\n",
       "      <th>tpep_dropoff_datetime_Minute</th>\n",
       "    </tr>\n",
       "  </thead>\n",
       "  <tbody>\n",
       "    <tr>\n",
       "      <th>count</th>\n",
       "      <td>157500.000000</td>\n",
       "      <td>151998.000000</td>\n",
       "      <td>157500.000000</td>\n",
       "      <td>151998.000000</td>\n",
       "      <td>157500.000000</td>\n",
       "      <td>157500.000000</td>\n",
       "      <td>157500.000000</td>\n",
       "      <td>157500.000000</td>\n",
       "      <td>157500.000000</td>\n",
       "      <td>157500.000000</td>\n",
       "      <td>...</td>\n",
       "      <td>157500.0</td>\n",
       "      <td>157500.000000</td>\n",
       "      <td>157500.000000</td>\n",
       "      <td>157500.000000</td>\n",
       "      <td>157500.000000</td>\n",
       "      <td>157500.0</td>\n",
       "      <td>157500.000000</td>\n",
       "      <td>157500.000000</td>\n",
       "      <td>157500.000000</td>\n",
       "      <td>157500.000000</td>\n",
       "    </tr>\n",
       "    <tr>\n",
       "      <th>mean</th>\n",
       "      <td>0.728571</td>\n",
       "      <td>1.357176</td>\n",
       "      <td>5.310767</td>\n",
       "      <td>1.517967</td>\n",
       "      <td>132.847492</td>\n",
       "      <td>132.776368</td>\n",
       "      <td>1.930891</td>\n",
       "      <td>6.127490</td>\n",
       "      <td>0.646456</td>\n",
       "      <td>0.979631</td>\n",
       "      <td>...</td>\n",
       "      <td>2023.0</td>\n",
       "      <td>6.004235</td>\n",
       "      <td>29.060717</td>\n",
       "      <td>15.116648</td>\n",
       "      <td>29.509289</td>\n",
       "      <td>2023.0</td>\n",
       "      <td>6.007822</td>\n",
       "      <td>28.966197</td>\n",
       "      <td>15.100006</td>\n",
       "      <td>29.489232</td>\n",
       "    </tr>\n",
       "    <tr>\n",
       "      <th>std</th>\n",
       "      <td>0.445497</td>\n",
       "      <td>0.890710</td>\n",
       "      <td>416.332621</td>\n",
       "      <td>6.514378</td>\n",
       "      <td>76.141942</td>\n",
       "      <td>76.191448</td>\n",
       "      <td>1.950031</td>\n",
       "      <td>4.627029</td>\n",
       "      <td>2.322279</td>\n",
       "      <td>0.199132</td>\n",
       "      <td>...</td>\n",
       "      <td>0.0</td>\n",
       "      <td>0.064939</td>\n",
       "      <td>1.972619</td>\n",
       "      <td>5.781268</td>\n",
       "      <td>17.298916</td>\n",
       "      <td>0.0</td>\n",
       "      <td>0.088097</td>\n",
       "      <td>2.589055</td>\n",
       "      <td>5.961231</td>\n",
       "      <td>17.343962</td>\n",
       "    </tr>\n",
       "    <tr>\n",
       "      <th>min</th>\n",
       "      <td>0.000000</td>\n",
       "      <td>0.000000</td>\n",
       "      <td>0.000000</td>\n",
       "      <td>1.000000</td>\n",
       "      <td>1.000000</td>\n",
       "      <td>1.000000</td>\n",
       "      <td>-7.500000</td>\n",
       "      <td>0.000275</td>\n",
       "      <td>-26.550000</td>\n",
       "      <td>-1.000000</td>\n",
       "      <td>...</td>\n",
       "      <td>2023.0</td>\n",
       "      <td>6.000000</td>\n",
       "      <td>1.000000</td>\n",
       "      <td>0.000000</td>\n",
       "      <td>0.000000</td>\n",
       "      <td>2023.0</td>\n",
       "      <td>6.000000</td>\n",
       "      <td>1.000000</td>\n",
       "      <td>0.000000</td>\n",
       "      <td>0.000000</td>\n",
       "    </tr>\n",
       "    <tr>\n",
       "      <th>25%</th>\n",
       "      <td>0.000000</td>\n",
       "      <td>1.000000</td>\n",
       "      <td>1.080000</td>\n",
       "      <td>1.000000</td>\n",
       "      <td>67.000000</td>\n",
       "      <td>67.000000</td>\n",
       "      <td>0.000000</td>\n",
       "      <td>3.473769</td>\n",
       "      <td>0.000000</td>\n",
       "      <td>1.000000</td>\n",
       "      <td>...</td>\n",
       "      <td>2023.0</td>\n",
       "      <td>6.000000</td>\n",
       "      <td>29.000000</td>\n",
       "      <td>11.000000</td>\n",
       "      <td>15.000000</td>\n",
       "      <td>2023.0</td>\n",
       "      <td>6.000000</td>\n",
       "      <td>29.000000</td>\n",
       "      <td>11.000000</td>\n",
       "      <td>14.000000</td>\n",
       "    </tr>\n",
       "    <tr>\n",
       "      <th>50%</th>\n",
       "      <td>1.000000</td>\n",
       "      <td>1.000000</td>\n",
       "      <td>1.840000</td>\n",
       "      <td>1.000000</td>\n",
       "      <td>133.000000</td>\n",
       "      <td>133.000000</td>\n",
       "      <td>1.000000</td>\n",
       "      <td>5.289813</td>\n",
       "      <td>0.000000</td>\n",
       "      <td>1.000000</td>\n",
       "      <td>...</td>\n",
       "      <td>2023.0</td>\n",
       "      <td>6.000000</td>\n",
       "      <td>29.000000</td>\n",
       "      <td>16.000000</td>\n",
       "      <td>30.000000</td>\n",
       "      <td>2023.0</td>\n",
       "      <td>6.000000</td>\n",
       "      <td>29.000000</td>\n",
       "      <td>17.000000</td>\n",
       "      <td>30.000000</td>\n",
       "    </tr>\n",
       "    <tr>\n",
       "      <th>75%</th>\n",
       "      <td>1.000000</td>\n",
       "      <td>1.000000</td>\n",
       "      <td>3.620000</td>\n",
       "      <td>1.000000</td>\n",
       "      <td>199.000000</td>\n",
       "      <td>199.000000</td>\n",
       "      <td>2.500000</td>\n",
       "      <td>7.500977</td>\n",
       "      <td>0.000000</td>\n",
       "      <td>1.000000</td>\n",
       "      <td>...</td>\n",
       "      <td>2023.0</td>\n",
       "      <td>6.000000</td>\n",
       "      <td>30.000000</td>\n",
       "      <td>20.000000</td>\n",
       "      <td>44.000000</td>\n",
       "      <td>2023.0</td>\n",
       "      <td>6.000000</td>\n",
       "      <td>30.000000</td>\n",
       "      <td>20.000000</td>\n",
       "      <td>45.000000</td>\n",
       "    </tr>\n",
       "    <tr>\n",
       "      <th>max</th>\n",
       "      <td>2.000000</td>\n",
       "      <td>9.000000</td>\n",
       "      <td>135182.060000</td>\n",
       "      <td>99.000000</td>\n",
       "      <td>264.000000</td>\n",
       "      <td>264.000000</td>\n",
       "      <td>11.750000</td>\n",
       "      <td>484.876151</td>\n",
       "      <td>76.000000</td>\n",
       "      <td>1.000000</td>\n",
       "      <td>...</td>\n",
       "      <td>2023.0</td>\n",
       "      <td>7.000000</td>\n",
       "      <td>30.000000</td>\n",
       "      <td>23.000000</td>\n",
       "      <td>59.000000</td>\n",
       "      <td>2023.0</td>\n",
       "      <td>7.000000</td>\n",
       "      <td>30.000000</td>\n",
       "      <td>23.000000</td>\n",
       "      <td>59.000000</td>\n",
       "    </tr>\n",
       "  </tbody>\n",
       "</table>\n",
       "<p>8 rows × 23 columns</p>\n",
       "</div>"
      ],
      "text/plain": [
       "            VendorID  passenger_count  trip_distance     RatecodeID  \\\n",
       "count  157500.000000    151998.000000  157500.000000  151998.000000   \n",
       "mean        0.728571         1.357176       5.310767       1.517967   \n",
       "std         0.445497         0.890710     416.332621       6.514378   \n",
       "min         0.000000         0.000000       0.000000       1.000000   \n",
       "25%         0.000000         1.000000       1.080000       1.000000   \n",
       "50%         1.000000         1.000000       1.840000       1.000000   \n",
       "75%         1.000000         1.000000       3.620000       1.000000   \n",
       "max         2.000000         9.000000  135182.060000      99.000000   \n",
       "\n",
       "        PULocationID   DOLocationID          extra     tip_amount  \\\n",
       "count  157500.000000  157500.000000  157500.000000  157500.000000   \n",
       "mean      132.847492     132.776368       1.930891       6.127490   \n",
       "std        76.141942      76.191448       1.950031       4.627029   \n",
       "min         1.000000       1.000000      -7.500000       0.000275   \n",
       "25%        67.000000      67.000000       0.000000       3.473769   \n",
       "50%       133.000000     133.000000       1.000000       5.289813   \n",
       "75%       199.000000     199.000000       2.500000       7.500977   \n",
       "max       264.000000     264.000000      11.750000     484.876151   \n",
       "\n",
       "        tolls_amount  improvement_surcharge  ...  tpep_pickup_datetime_Year  \\\n",
       "count  157500.000000          157500.000000  ...                   157500.0   \n",
       "mean        0.646456               0.979631  ...                     2023.0   \n",
       "std         2.322279               0.199132  ...                        0.0   \n",
       "min       -26.550000              -1.000000  ...                     2023.0   \n",
       "25%         0.000000               1.000000  ...                     2023.0   \n",
       "50%         0.000000               1.000000  ...                     2023.0   \n",
       "75%         0.000000               1.000000  ...                     2023.0   \n",
       "max        76.000000               1.000000  ...                     2023.0   \n",
       "\n",
       "       tpep_pickup_datetime_Month  tpep_pickup_datetime_Day  \\\n",
       "count               157500.000000             157500.000000   \n",
       "mean                     6.004235                 29.060717   \n",
       "std                      0.064939                  1.972619   \n",
       "min                      6.000000                  1.000000   \n",
       "25%                      6.000000                 29.000000   \n",
       "50%                      6.000000                 29.000000   \n",
       "75%                      6.000000                 30.000000   \n",
       "max                      7.000000                 30.000000   \n",
       "\n",
       "       tpep_pickup_datetime_Hour  tpep_pickup_datetime_Minute  \\\n",
       "count              157500.000000                157500.000000   \n",
       "mean                   15.116648                    29.509289   \n",
       "std                     5.781268                    17.298916   \n",
       "min                     0.000000                     0.000000   \n",
       "25%                    11.000000                    15.000000   \n",
       "50%                    16.000000                    30.000000   \n",
       "75%                    20.000000                    44.000000   \n",
       "max                    23.000000                    59.000000   \n",
       "\n",
       "       tpep_dropoff_datetime_Year  tpep_dropoff_datetime_Month  \\\n",
       "count                    157500.0                157500.000000   \n",
       "mean                       2023.0                     6.007822   \n",
       "std                           0.0                     0.088097   \n",
       "min                        2023.0                     6.000000   \n",
       "25%                        2023.0                     6.000000   \n",
       "50%                        2023.0                     6.000000   \n",
       "75%                        2023.0                     6.000000   \n",
       "max                        2023.0                     7.000000   \n",
       "\n",
       "       tpep_dropoff_datetime_Day  tpep_dropoff_datetime_Hour  \\\n",
       "count              157500.000000               157500.000000   \n",
       "mean                   28.966197                   15.100006   \n",
       "std                     2.589055                    5.961231   \n",
       "min                     1.000000                    0.000000   \n",
       "25%                    29.000000                   11.000000   \n",
       "50%                    29.000000                   17.000000   \n",
       "75%                    30.000000                   20.000000   \n",
       "max                    30.000000                   23.000000   \n",
       "\n",
       "       tpep_dropoff_datetime_Minute  \n",
       "count                 157500.000000  \n",
       "mean                      29.489232  \n",
       "std                       17.343962  \n",
       "min                        0.000000  \n",
       "25%                       14.000000  \n",
       "50%                       30.000000  \n",
       "75%                       45.000000  \n",
       "max                       59.000000  \n",
       "\n",
       "[8 rows x 23 columns]"
      ]
     },
     "execution_count": 10,
     "metadata": {},
     "output_type": "execute_result"
    }
   ],
   "source": [
    "x_train.describe()"
   ]
  },
  {
   "cell_type": "code",
   "execution_count": 11,
   "metadata": {},
   "outputs": [
    {
     "name": "stdout",
     "output_type": "stream",
     "text": [
      "total number of airport fees negative 237\n",
      "total congestion charge with negative value 1255\n",
      "total number of improvement charge in -ve 1559\n"
     ]
    }
   ],
   "source": [
    "print('total number of airport fees negative', len(x_train[x_train['Airport_fee'] < 0]))\n",
    "print('total congestion charge with negative value', len(x_train[x_train['congestion_surcharge'] < 0]))\n",
    "print('total number of improvement charge in -ve', len(x_train[x_train['improvement_surcharge'] < 0]))"
   ]
  },
  {
   "cell_type": "code",
   "execution_count": 12,
   "metadata": {},
   "outputs": [],
   "source": [
    "# x_train = x_train[x_train['passenger_count'] <= 6] ## Passanger count filtering\n",
    "# x_train = x_train[x_train['trip_distance'] <= 30] ## trip distance filtering highly affecting\n",
    "# x_train = x_train[x_train['tolls_amount'] >=0] # filtering tolls amount\n",
    "# x_train = x_train[x_train['Airport_fee'] >= 0]\n",
    "# x_train = x_train[x_train['congestion_surcharge'] >= 0]\n",
    "# x_train = x_train[x_train['improvement_surcharge'] >= 0] # removing improvement surcharge\n",
    "# x_train = x_train[x_train['tip_amount'] <= 100] # removing extra tip amount\n",
    "# x_train = x_train[x_train['total_amount'] <= 150]\n",
    "##* Without outlier removal i am scoring 0.75\n"
   ]
  },
  {
   "cell_type": "code",
   "execution_count": 13,
   "metadata": {},
   "outputs": [
    {
     "name": "stdout",
     "output_type": "stream",
     "text": [
      "number of extra elements with neg elements 118\n",
      "improvement surcharge 1559\n"
     ]
    }
   ],
   "source": [
    "print('number of extra elements with neg elements', len(x_train[x_train.tolls_amount < 0]))\n",
    "print('improvement surcharge', len(x_train[x_train['improvement_surcharge'] < 0]))"
   ]
  },
  {
   "cell_type": "code",
   "execution_count": 14,
   "metadata": {},
   "outputs": [
    {
     "data": {
      "text/html": [
       "<div>\n",
       "<style scoped>\n",
       "    .dataframe tbody tr th:only-of-type {\n",
       "        vertical-align: middle;\n",
       "    }\n",
       "\n",
       "    .dataframe tbody tr th {\n",
       "        vertical-align: top;\n",
       "    }\n",
       "\n",
       "    .dataframe thead th {\n",
       "        text-align: right;\n",
       "    }\n",
       "</style>\n",
       "<table border=\"1\" class=\"dataframe\">\n",
       "  <thead>\n",
       "    <tr style=\"text-align: right;\">\n",
       "      <th></th>\n",
       "      <th>VendorID</th>\n",
       "      <th>passenger_count</th>\n",
       "      <th>trip_distance</th>\n",
       "      <th>RatecodeID</th>\n",
       "      <th>PULocationID</th>\n",
       "      <th>DOLocationID</th>\n",
       "      <th>extra</th>\n",
       "      <th>tip_amount</th>\n",
       "      <th>tolls_amount</th>\n",
       "      <th>improvement_surcharge</th>\n",
       "      <th>...</th>\n",
       "      <th>tpep_pickup_datetime_Year</th>\n",
       "      <th>tpep_pickup_datetime_Month</th>\n",
       "      <th>tpep_pickup_datetime_Day</th>\n",
       "      <th>tpep_pickup_datetime_Hour</th>\n",
       "      <th>tpep_pickup_datetime_Minute</th>\n",
       "      <th>tpep_dropoff_datetime_Year</th>\n",
       "      <th>tpep_dropoff_datetime_Month</th>\n",
       "      <th>tpep_dropoff_datetime_Day</th>\n",
       "      <th>tpep_dropoff_datetime_Hour</th>\n",
       "      <th>tpep_dropoff_datetime_Minute</th>\n",
       "    </tr>\n",
       "  </thead>\n",
       "  <tbody>\n",
       "    <tr>\n",
       "      <th>count</th>\n",
       "      <td>157500.000000</td>\n",
       "      <td>151998.000000</td>\n",
       "      <td>157500.000000</td>\n",
       "      <td>151998.000000</td>\n",
       "      <td>157500.000000</td>\n",
       "      <td>157500.000000</td>\n",
       "      <td>157500.000000</td>\n",
       "      <td>157500.000000</td>\n",
       "      <td>157500.000000</td>\n",
       "      <td>157500.000000</td>\n",
       "      <td>...</td>\n",
       "      <td>157500.0</td>\n",
       "      <td>157500.000000</td>\n",
       "      <td>157500.000000</td>\n",
       "      <td>157500.000000</td>\n",
       "      <td>157500.000000</td>\n",
       "      <td>157500.0</td>\n",
       "      <td>157500.000000</td>\n",
       "      <td>157500.000000</td>\n",
       "      <td>157500.000000</td>\n",
       "      <td>157500.000000</td>\n",
       "    </tr>\n",
       "    <tr>\n",
       "      <th>mean</th>\n",
       "      <td>0.728571</td>\n",
       "      <td>1.357176</td>\n",
       "      <td>5.310767</td>\n",
       "      <td>1.517967</td>\n",
       "      <td>132.847492</td>\n",
       "      <td>132.776368</td>\n",
       "      <td>1.930891</td>\n",
       "      <td>6.127490</td>\n",
       "      <td>0.646456</td>\n",
       "      <td>0.979631</td>\n",
       "      <td>...</td>\n",
       "      <td>2023.0</td>\n",
       "      <td>6.004235</td>\n",
       "      <td>29.060717</td>\n",
       "      <td>15.116648</td>\n",
       "      <td>29.509289</td>\n",
       "      <td>2023.0</td>\n",
       "      <td>6.007822</td>\n",
       "      <td>28.966197</td>\n",
       "      <td>15.100006</td>\n",
       "      <td>29.489232</td>\n",
       "    </tr>\n",
       "    <tr>\n",
       "      <th>std</th>\n",
       "      <td>0.445497</td>\n",
       "      <td>0.890710</td>\n",
       "      <td>416.332621</td>\n",
       "      <td>6.514378</td>\n",
       "      <td>76.141942</td>\n",
       "      <td>76.191448</td>\n",
       "      <td>1.950031</td>\n",
       "      <td>4.627029</td>\n",
       "      <td>2.322279</td>\n",
       "      <td>0.199132</td>\n",
       "      <td>...</td>\n",
       "      <td>0.0</td>\n",
       "      <td>0.064939</td>\n",
       "      <td>1.972619</td>\n",
       "      <td>5.781268</td>\n",
       "      <td>17.298916</td>\n",
       "      <td>0.0</td>\n",
       "      <td>0.088097</td>\n",
       "      <td>2.589055</td>\n",
       "      <td>5.961231</td>\n",
       "      <td>17.343962</td>\n",
       "    </tr>\n",
       "    <tr>\n",
       "      <th>min</th>\n",
       "      <td>0.000000</td>\n",
       "      <td>0.000000</td>\n",
       "      <td>0.000000</td>\n",
       "      <td>1.000000</td>\n",
       "      <td>1.000000</td>\n",
       "      <td>1.000000</td>\n",
       "      <td>-7.500000</td>\n",
       "      <td>0.000275</td>\n",
       "      <td>-26.550000</td>\n",
       "      <td>-1.000000</td>\n",
       "      <td>...</td>\n",
       "      <td>2023.0</td>\n",
       "      <td>6.000000</td>\n",
       "      <td>1.000000</td>\n",
       "      <td>0.000000</td>\n",
       "      <td>0.000000</td>\n",
       "      <td>2023.0</td>\n",
       "      <td>6.000000</td>\n",
       "      <td>1.000000</td>\n",
       "      <td>0.000000</td>\n",
       "      <td>0.000000</td>\n",
       "    </tr>\n",
       "    <tr>\n",
       "      <th>25%</th>\n",
       "      <td>0.000000</td>\n",
       "      <td>1.000000</td>\n",
       "      <td>1.080000</td>\n",
       "      <td>1.000000</td>\n",
       "      <td>67.000000</td>\n",
       "      <td>67.000000</td>\n",
       "      <td>0.000000</td>\n",
       "      <td>3.473769</td>\n",
       "      <td>0.000000</td>\n",
       "      <td>1.000000</td>\n",
       "      <td>...</td>\n",
       "      <td>2023.0</td>\n",
       "      <td>6.000000</td>\n",
       "      <td>29.000000</td>\n",
       "      <td>11.000000</td>\n",
       "      <td>15.000000</td>\n",
       "      <td>2023.0</td>\n",
       "      <td>6.000000</td>\n",
       "      <td>29.000000</td>\n",
       "      <td>11.000000</td>\n",
       "      <td>14.000000</td>\n",
       "    </tr>\n",
       "    <tr>\n",
       "      <th>50%</th>\n",
       "      <td>1.000000</td>\n",
       "      <td>1.000000</td>\n",
       "      <td>1.840000</td>\n",
       "      <td>1.000000</td>\n",
       "      <td>133.000000</td>\n",
       "      <td>133.000000</td>\n",
       "      <td>1.000000</td>\n",
       "      <td>5.289813</td>\n",
       "      <td>0.000000</td>\n",
       "      <td>1.000000</td>\n",
       "      <td>...</td>\n",
       "      <td>2023.0</td>\n",
       "      <td>6.000000</td>\n",
       "      <td>29.000000</td>\n",
       "      <td>16.000000</td>\n",
       "      <td>30.000000</td>\n",
       "      <td>2023.0</td>\n",
       "      <td>6.000000</td>\n",
       "      <td>29.000000</td>\n",
       "      <td>17.000000</td>\n",
       "      <td>30.000000</td>\n",
       "    </tr>\n",
       "    <tr>\n",
       "      <th>75%</th>\n",
       "      <td>1.000000</td>\n",
       "      <td>1.000000</td>\n",
       "      <td>3.620000</td>\n",
       "      <td>1.000000</td>\n",
       "      <td>199.000000</td>\n",
       "      <td>199.000000</td>\n",
       "      <td>2.500000</td>\n",
       "      <td>7.500977</td>\n",
       "      <td>0.000000</td>\n",
       "      <td>1.000000</td>\n",
       "      <td>...</td>\n",
       "      <td>2023.0</td>\n",
       "      <td>6.000000</td>\n",
       "      <td>30.000000</td>\n",
       "      <td>20.000000</td>\n",
       "      <td>44.000000</td>\n",
       "      <td>2023.0</td>\n",
       "      <td>6.000000</td>\n",
       "      <td>30.000000</td>\n",
       "      <td>20.000000</td>\n",
       "      <td>45.000000</td>\n",
       "    </tr>\n",
       "    <tr>\n",
       "      <th>max</th>\n",
       "      <td>2.000000</td>\n",
       "      <td>9.000000</td>\n",
       "      <td>135182.060000</td>\n",
       "      <td>99.000000</td>\n",
       "      <td>264.000000</td>\n",
       "      <td>264.000000</td>\n",
       "      <td>11.750000</td>\n",
       "      <td>484.876151</td>\n",
       "      <td>76.000000</td>\n",
       "      <td>1.000000</td>\n",
       "      <td>...</td>\n",
       "      <td>2023.0</td>\n",
       "      <td>7.000000</td>\n",
       "      <td>30.000000</td>\n",
       "      <td>23.000000</td>\n",
       "      <td>59.000000</td>\n",
       "      <td>2023.0</td>\n",
       "      <td>7.000000</td>\n",
       "      <td>30.000000</td>\n",
       "      <td>23.000000</td>\n",
       "      <td>59.000000</td>\n",
       "    </tr>\n",
       "  </tbody>\n",
       "</table>\n",
       "<p>8 rows × 23 columns</p>\n",
       "</div>"
      ],
      "text/plain": [
       "            VendorID  passenger_count  trip_distance     RatecodeID  \\\n",
       "count  157500.000000    151998.000000  157500.000000  151998.000000   \n",
       "mean        0.728571         1.357176       5.310767       1.517967   \n",
       "std         0.445497         0.890710     416.332621       6.514378   \n",
       "min         0.000000         0.000000       0.000000       1.000000   \n",
       "25%         0.000000         1.000000       1.080000       1.000000   \n",
       "50%         1.000000         1.000000       1.840000       1.000000   \n",
       "75%         1.000000         1.000000       3.620000       1.000000   \n",
       "max         2.000000         9.000000  135182.060000      99.000000   \n",
       "\n",
       "        PULocationID   DOLocationID          extra     tip_amount  \\\n",
       "count  157500.000000  157500.000000  157500.000000  157500.000000   \n",
       "mean      132.847492     132.776368       1.930891       6.127490   \n",
       "std        76.141942      76.191448       1.950031       4.627029   \n",
       "min         1.000000       1.000000      -7.500000       0.000275   \n",
       "25%        67.000000      67.000000       0.000000       3.473769   \n",
       "50%       133.000000     133.000000       1.000000       5.289813   \n",
       "75%       199.000000     199.000000       2.500000       7.500977   \n",
       "max       264.000000     264.000000      11.750000     484.876151   \n",
       "\n",
       "        tolls_amount  improvement_surcharge  ...  tpep_pickup_datetime_Year  \\\n",
       "count  157500.000000          157500.000000  ...                   157500.0   \n",
       "mean        0.646456               0.979631  ...                     2023.0   \n",
       "std         2.322279               0.199132  ...                        0.0   \n",
       "min       -26.550000              -1.000000  ...                     2023.0   \n",
       "25%         0.000000               1.000000  ...                     2023.0   \n",
       "50%         0.000000               1.000000  ...                     2023.0   \n",
       "75%         0.000000               1.000000  ...                     2023.0   \n",
       "max        76.000000               1.000000  ...                     2023.0   \n",
       "\n",
       "       tpep_pickup_datetime_Month  tpep_pickup_datetime_Day  \\\n",
       "count               157500.000000             157500.000000   \n",
       "mean                     6.004235                 29.060717   \n",
       "std                      0.064939                  1.972619   \n",
       "min                      6.000000                  1.000000   \n",
       "25%                      6.000000                 29.000000   \n",
       "50%                      6.000000                 29.000000   \n",
       "75%                      6.000000                 30.000000   \n",
       "max                      7.000000                 30.000000   \n",
       "\n",
       "       tpep_pickup_datetime_Hour  tpep_pickup_datetime_Minute  \\\n",
       "count              157500.000000                157500.000000   \n",
       "mean                   15.116648                    29.509289   \n",
       "std                     5.781268                    17.298916   \n",
       "min                     0.000000                     0.000000   \n",
       "25%                    11.000000                    15.000000   \n",
       "50%                    16.000000                    30.000000   \n",
       "75%                    20.000000                    44.000000   \n",
       "max                    23.000000                    59.000000   \n",
       "\n",
       "       tpep_dropoff_datetime_Year  tpep_dropoff_datetime_Month  \\\n",
       "count                    157500.0                157500.000000   \n",
       "mean                       2023.0                     6.007822   \n",
       "std                           0.0                     0.088097   \n",
       "min                        2023.0                     6.000000   \n",
       "25%                        2023.0                     6.000000   \n",
       "50%                        2023.0                     6.000000   \n",
       "75%                        2023.0                     6.000000   \n",
       "max                        2023.0                     7.000000   \n",
       "\n",
       "       tpep_dropoff_datetime_Day  tpep_dropoff_datetime_Hour  \\\n",
       "count              157500.000000               157500.000000   \n",
       "mean                   28.966197                   15.100006   \n",
       "std                     2.589055                    5.961231   \n",
       "min                     1.000000                    0.000000   \n",
       "25%                    29.000000                   11.000000   \n",
       "50%                    29.000000                   17.000000   \n",
       "75%                    30.000000                   20.000000   \n",
       "max                    30.000000                   23.000000   \n",
       "\n",
       "       tpep_dropoff_datetime_Minute  \n",
       "count                 157500.000000  \n",
       "mean                      29.489232  \n",
       "std                       17.343962  \n",
       "min                        0.000000  \n",
       "25%                       14.000000  \n",
       "50%                       30.000000  \n",
       "75%                       45.000000  \n",
       "max                       59.000000  \n",
       "\n",
       "[8 rows x 23 columns]"
      ]
     },
     "execution_count": 14,
     "metadata": {},
     "output_type": "execute_result"
    }
   ],
   "source": [
    "x_train.describe()"
   ]
  },
  {
   "cell_type": "code",
   "execution_count": 15,
   "metadata": {},
   "outputs": [
    {
     "name": "stdout",
     "output_type": "stream",
     "text": [
      "2221\n",
      "7\n",
      "total amount greater than 300 899\n"
     ]
    }
   ],
   "source": [
    "print(len(x_train[x_train['trip_distance'] > 20]))\n",
    "print(len(x_train[x_train['tip_amount'] > 100]))\n",
    "print('total amount greater than 300', len(x_train[x_train['total_amount'] > 125]))"
   ]
  },
  {
   "cell_type": "code",
   "execution_count": 16,
   "metadata": {},
   "outputs": [
    {
     "data": {
      "text/plain": [
       "array([1, 0, 2])"
      ]
     },
     "execution_count": 16,
     "metadata": {},
     "output_type": "execute_result"
    }
   ],
   "source": [
    "x_train['VendorID'].unique()"
   ]
  },
  {
   "cell_type": "code",
   "execution_count": 17,
   "metadata": {},
   "outputs": [],
   "source": [
    "vendor_id_pipe = Pipeline([\n",
    "  ('one_hot_encoder', OneHotEncoder(handle_unknown='ignore'))\n",
    "])\n",
    "passanger_count_pipe = Pipeline([\n",
    "    # ('simple_imputer', SimpleImputer(missing_values=np.nan, strategy='constant', fill_value= 1)),\n",
    "    ('knn_imputer', KNNImputer(missing_values= np.nan, n_neighbors= 5)),\n",
    "    ('std_scaler', StandardScaler())\n",
    "])\n",
    "rate_code_id_pipe = Pipeline([\n",
    "    #    ('simple_imputer', SimpleImputer(missing_values=np.nan, strategy='constant',\n",
    "    #                                      fill_value= 1)),\n",
    "        ('knn_imputer', KNNImputer(missing_values= np.nan, n_neighbors= 5)),\n",
    "       ('one_hot_encoder', OneHotEncoder(handle_unknown='ignore')) ## TODO: experimental changes\n",
    "])\n",
    "store_and_fwd_pipe = Pipeline([\n",
    "    ('simple_immmputer', SimpleImputer(missing_values= np.nan, strategy='constant', fill_value='N')),\n",
    "    # ('knn_imputer', KNNImputer(missing_values= np.nan, n_neighbors= 5)),\n",
    "    ('one_hot_encoder', OneHotEncoder(handle_unknown='ignore'))\n",
    "])\n",
    "\n",
    "congestion_charger_pipe = Pipeline([\n",
    "    # ('simple_imputer', SimpleImputer(missing_values=np.nan, strategy='constant', fill_value= 0)),\n",
    "    ('knn_imputer', KNNImputer(missing_values= np.nan, n_neighbors= 5)),\n",
    "    ('std_scaler', StandardScaler())\n",
    "])\n",
    "airport_fee_pipe = Pipeline([\n",
    "    # ('simple_imputer', SimpleImputer(missing_values=np.nan, strategy='constant', fill_value= 0)),\n",
    "    ('knn_imputer', KNNImputer(missing_values= np.nan, n_neighbors= 5)),\n",
    "    ('std_scale', StandardScaler())\n",
    "])\n",
    "payment_type_pipe = Pipeline([\n",
    "    ('one_hot_encoder', OneHotEncoder(handle_unknown='ignore'))\n",
    "])"
   ]
  },
  {
   "cell_type": "code",
   "execution_count": 18,
   "metadata": {},
   "outputs": [],
   "source": [
    "feature_scaling_and_trans = ColumnTransformer([\n",
    "  ('vendor_id', vendor_id_pipe, ['VendorID']),\n",
    "  ('passanger_count', passanger_count_pipe, ['passenger_count']),\n",
    "  ('rate_code_id', rate_code_id_pipe, ['RatecodeID']), # experimental changes\n",
    "  ('s_nd_f_flag', store_and_fwd_pipe, ['store_and_fwd_flag']),\n",
    "  ('pu_loc', StandardScaler(), ['PULocationID']),\n",
    "  ('du_loc', StandardScaler(), [\"DOLocationID\"]),\n",
    "  ('payment_t', payment_type_pipe, ['payment_type']),\n",
    "  ('extra_t', StandardScaler(), ['extra']),\n",
    "  ('tip_amount_t', StandardScaler(), ['tip_amount']),\n",
    "  ('tolls_amount_t', StandardScaler(), [\"tolls_amount\"]),\n",
    "  ('improvement_c', StandardScaler(), ['improvement_surcharge']),\n",
    "  ('cong_charge', congestion_charger_pipe, ['congestion_surcharge']),\n",
    "  ('Airport_fee_t', airport_fee_pipe, ['Airport_fee']),\n",
    "  ('std_scaler', StandardScaler(), [i for i in range(14, 22)])\n",
    "], remainder= 'passthrough')"
   ]
  },
  {
   "cell_type": "code",
   "execution_count": 19,
   "metadata": {},
   "outputs": [],
   "source": [
    "linear_reg = LinearRegression()\n"
   ]
  },
  {
   "cell_type": "code",
   "execution_count": 20,
   "metadata": {},
   "outputs": [],
   "source": [
    "y = x_train['total_amount']\n",
    "X = x_train.drop('total_amount', axis= 1)"
   ]
  },
  {
   "cell_type": "code",
   "execution_count": 21,
   "metadata": {},
   "outputs": [],
   "source": [
    "X_t = feature_scaling_and_trans.fit_transform(X=X)"
   ]
  },
  {
   "cell_type": "code",
   "execution_count": 22,
   "metadata": {},
   "outputs": [],
   "source": [
    "com_train_features, dev_test_features, com_train_labels, dev_test_labels = train_test_split(X_t, y, test_size= 0.2)"
   ]
  },
  {
   "cell_type": "code",
   "execution_count": 23,
   "metadata": {},
   "outputs": [
    {
     "data": {
      "text/plain": [
       "0.7771721799788414"
      ]
     },
     "execution_count": 23,
     "metadata": {},
     "output_type": "execute_result"
    }
   ],
   "source": [
    "linear_reg.fit(com_train_features, com_train_labels)\n",
    "linear_reg.score(com_train_features, com_train_labels)"
   ]
  },
  {
   "cell_type": "code",
   "execution_count": 24,
   "metadata": {},
   "outputs": [
    {
     "data": {
      "text/plain": [
       "0.7754014319655227"
      ]
     },
     "execution_count": 24,
     "metadata": {},
     "output_type": "execute_result"
    }
   ],
   "source": [
    "linear_reg.score(dev_test_features, dev_test_labels)\n"
   ]
  },
  {
   "cell_type": "code",
   "execution_count": 25,
   "metadata": {},
   "outputs": [
    {
     "data": {
      "text/plain": [
       "0.7608696410225717"
      ]
     },
     "execution_count": 25,
     "metadata": {},
     "output_type": "execute_result"
    }
   ],
   "source": [
    "x_test = x_test_copy.copy()\n",
    "y_test = x_test['total_amount']\n",
    "x_test = x_test.drop('total_amount', axis = 1)\n",
    "x_test_t = feature_scaling_and_trans.transform(x_test)\n",
    "linear_reg.score(x_test_t, y_test)"
   ]
  },
  {
   "cell_type": "markdown",
   "metadata": {},
   "source": [
    "### Recursive features elimination"
   ]
  },
  {
   "cell_type": "code",
   "execution_count": 26,
   "metadata": {},
   "outputs": [
    {
     "name": "stdout",
     "output_type": "stream",
     "text": [
      "Fitting estimator with 37 features.\n",
      "Fitting estimator with 36 features.\n",
      "Fitting estimator with 35 features.\n",
      "Fitting estimator with 34 features.\n",
      "Fitting estimator with 33 features.\n",
      "Fitting estimator with 32 features.\n",
      "Fitting estimator with 31 features.\n",
      "Fitting estimator with 30 features.\n",
      "Fitting estimator with 29 features.\n",
      "Fitting estimator with 28 features.\n",
      "Fitting estimator with 27 features.\n",
      "Fitting estimator with 26 features.\n"
     ]
    }
   ],
   "source": [
    "from sklearn.feature_selection import RFE\n",
    "\n",
    "selector = RFE(linear_reg, n_features_to_select= 25, step=1, verbose= 1)\n",
    "selector = selector.fit(com_train_features, com_train_labels)\n"
   ]
  },
  {
   "cell_type": "code",
   "execution_count": 27,
   "metadata": {},
   "outputs": [
    {
     "data": {
      "text/plain": [
       "array([ True,  True,  True, False,  True,  True,  True,  True,  True,\n",
       "        True,  True,  True,  True, False, False,  True,  True,  True,\n",
       "        True,  True, False,  True,  True,  True, False,  True, False,\n",
       "        True,  True, False, False, False,  True,  True, False, False,\n",
       "       False])"
      ]
     },
     "execution_count": 27,
     "metadata": {},
     "output_type": "execute_result"
    }
   ],
   "source": [
    "selector.support_"
   ]
  },
  {
   "cell_type": "code",
   "execution_count": 28,
   "metadata": {},
   "outputs": [
    {
     "data": {
      "text/plain": [
       "array([ 1,  1,  1,  7,  1,  1,  1,  1,  1,  1,  1,  1,  1, 10,  9,  1,  1,\n",
       "        1,  1,  1,  3,  1,  1,  1,  2,  1, 12,  1,  1,  4,  6, 13,  1,  1,\n",
       "       11,  5,  8])"
      ]
     },
     "execution_count": 28,
     "metadata": {},
     "output_type": "execute_result"
    }
   ],
   "source": [
    "selector.ranking_"
   ]
  },
  {
   "cell_type": "code",
   "execution_count": 29,
   "metadata": {},
   "outputs": [
    {
     "data": {
      "text/plain": [
       "array(['x0', 'x1', 'x2', 'x4', 'x5', 'x6', 'x7', 'x8', 'x9', 'x10', 'x11',\n",
       "       'x12', 'x15', 'x16', 'x17', 'x18', 'x19', 'x21', 'x22', 'x23',\n",
       "       'x25', 'x27', 'x28', 'x32', 'x33'], dtype=object)"
      ]
     },
     "execution_count": 29,
     "metadata": {},
     "output_type": "execute_result"
    }
   ],
   "source": [
    "selector.get_feature_names_out()"
   ]
  },
  {
   "cell_type": "code",
   "execution_count": 30,
   "metadata": {},
   "outputs": [
    {
     "data": {
      "text/plain": [
       "0.7689939076888792"
      ]
     },
     "execution_count": 30,
     "metadata": {},
     "output_type": "execute_result"
    }
   ],
   "source": [
    "selector.score(dev_test_features, dev_test_labels)"
   ]
  },
  {
   "cell_type": "code",
   "execution_count": 31,
   "metadata": {},
   "outputs": [
    {
     "data": {
      "text/plain": [
       "0.7542318924824837"
      ]
     },
     "execution_count": 31,
     "metadata": {},
     "output_type": "execute_result"
    }
   ],
   "source": [
    "selector.score(x_test_t, y_test)"
   ]
  },
  {
   "cell_type": "markdown",
   "metadata": {},
   "source": [
    "## checking cross validation"
   ]
  },
  {
   "cell_type": "code",
   "execution_count": 32,
   "metadata": {},
   "outputs": [],
   "source": [
    "def printTestResult(result, model:str):\n",
    "  train_error, test_error = -1 * result['train_score'],  -1 * result['test_score']\n",
    "  print(f'Mean absolute error of {model} model on the train set:\\n',\n",
    "      f\"{train_error.mean():.3f} +/- {train_error.std():.3f}\")\n",
    "\n",
    "  print(f'Mean absolute error of linear {model} on the test set:\\n',\n",
    "      f'{test_error.mean():.3f} +/- {test_error.std():.3f}')"
   ]
  },
  {
   "cell_type": "code",
   "execution_count": 33,
   "metadata": {},
   "outputs": [
    {
     "name": "stdout",
     "output_type": "stream",
     "text": [
      "Mean absolute error of Linear Regression model on the train set:\n",
      " 145.033 +/- 1.634\n",
      "Mean absolute error of linear Linear Regression on the test set:\n",
      " 138.170 +/- 7.031\n"
     ]
    },
    {
     "data": {
      "text/plain": [
       "0.7749067565485299"
      ]
     },
     "execution_count": 33,
     "metadata": {},
     "output_type": "execute_result"
    }
   ],
   "source": [
    "cv_5 = ShuffleSplit(n_splits= 5, test_size= 0.2, random_state= 42)\n",
    "lin_reg_cross_validation = cross_validate(\n",
    "  linear_reg,\n",
    "  com_train_features,\n",
    "  com_train_labels,\n",
    "  cv=cv_5,\n",
    "  scoring= 'neg_mean_squared_error',\n",
    "  return_train_score= True,\n",
    "  return_estimator= True)\n",
    "printTestResult(lin_reg_cross_validation, 'Linear Regression')\n",
    "lin_reg_cross_validation['estimator'][0].score(dev_test_features, dev_test_labels)"
   ]
  },
  {
   "cell_type": "markdown",
   "metadata": {},
   "source": [
    "### checking grid search cv"
   ]
  },
  {
   "cell_type": "code",
   "execution_count": 58,
   "metadata": {},
   "outputs": [],
   "source": [
    "params = {\n",
    "  'ridge__alpha': [0.1, 0.01, 0.001, 0.5, 0.05, 0.005, 0.00001, 0]\n",
    "}"
   ]
  },
  {
   "cell_type": "code",
   "execution_count": 35,
   "metadata": {},
   "outputs": [
    {
     "data": {
      "text/html": [
       "<style>#sk-container-id-1 {color: black;background-color: white;}#sk-container-id-1 pre{padding: 0;}#sk-container-id-1 div.sk-toggleable {background-color: white;}#sk-container-id-1 label.sk-toggleable__label {cursor: pointer;display: block;width: 100%;margin-bottom: 0;padding: 0.3em;box-sizing: border-box;text-align: center;}#sk-container-id-1 label.sk-toggleable__label-arrow:before {content: \"▸\";float: left;margin-right: 0.25em;color: #696969;}#sk-container-id-1 label.sk-toggleable__label-arrow:hover:before {color: black;}#sk-container-id-1 div.sk-estimator:hover label.sk-toggleable__label-arrow:before {color: black;}#sk-container-id-1 div.sk-toggleable__content {max-height: 0;max-width: 0;overflow: hidden;text-align: left;background-color: #f0f8ff;}#sk-container-id-1 div.sk-toggleable__content pre {margin: 0.2em;color: black;border-radius: 0.25em;background-color: #f0f8ff;}#sk-container-id-1 input.sk-toggleable__control:checked~div.sk-toggleable__content {max-height: 200px;max-width: 100%;overflow: auto;}#sk-container-id-1 input.sk-toggleable__control:checked~label.sk-toggleable__label-arrow:before {content: \"▾\";}#sk-container-id-1 div.sk-estimator input.sk-toggleable__control:checked~label.sk-toggleable__label {background-color: #d4ebff;}#sk-container-id-1 div.sk-label input.sk-toggleable__control:checked~label.sk-toggleable__label {background-color: #d4ebff;}#sk-container-id-1 input.sk-hidden--visually {border: 0;clip: rect(1px 1px 1px 1px);clip: rect(1px, 1px, 1px, 1px);height: 1px;margin: -1px;overflow: hidden;padding: 0;position: absolute;width: 1px;}#sk-container-id-1 div.sk-estimator {font-family: monospace;background-color: #f0f8ff;border: 1px dotted black;border-radius: 0.25em;box-sizing: border-box;margin-bottom: 0.5em;}#sk-container-id-1 div.sk-estimator:hover {background-color: #d4ebff;}#sk-container-id-1 div.sk-parallel-item::after {content: \"\";width: 100%;border-bottom: 1px solid gray;flex-grow: 1;}#sk-container-id-1 div.sk-label:hover label.sk-toggleable__label {background-color: #d4ebff;}#sk-container-id-1 div.sk-serial::before {content: \"\";position: absolute;border-left: 1px solid gray;box-sizing: border-box;top: 0;bottom: 0;left: 50%;z-index: 0;}#sk-container-id-1 div.sk-serial {display: flex;flex-direction: column;align-items: center;background-color: white;padding-right: 0.2em;padding-left: 0.2em;position: relative;}#sk-container-id-1 div.sk-item {position: relative;z-index: 1;}#sk-container-id-1 div.sk-parallel {display: flex;align-items: stretch;justify-content: center;background-color: white;position: relative;}#sk-container-id-1 div.sk-item::before, #sk-container-id-1 div.sk-parallel-item::before {content: \"\";position: absolute;border-left: 1px solid gray;box-sizing: border-box;top: 0;bottom: 0;left: 50%;z-index: -1;}#sk-container-id-1 div.sk-parallel-item {display: flex;flex-direction: column;z-index: 1;position: relative;background-color: white;}#sk-container-id-1 div.sk-parallel-item:first-child::after {align-self: flex-end;width: 50%;}#sk-container-id-1 div.sk-parallel-item:last-child::after {align-self: flex-start;width: 50%;}#sk-container-id-1 div.sk-parallel-item:only-child::after {width: 0;}#sk-container-id-1 div.sk-dashed-wrapped {border: 1px dashed gray;margin: 0 0.4em 0.5em 0.4em;box-sizing: border-box;padding-bottom: 0.4em;background-color: white;}#sk-container-id-1 div.sk-label label {font-family: monospace;font-weight: bold;display: inline-block;line-height: 1.2em;}#sk-container-id-1 div.sk-label-container {text-align: center;}#sk-container-id-1 div.sk-container {/* jupyter's `normalize.less` sets `[hidden] { display: none; }` but bootstrap.min.css set `[hidden] { display: none !important; }` so we also need the `!important` here to be able to override the default hidden behavior on the sphinx rendered scikit-learn.org. See: https://github.com/scikit-learn/scikit-learn/issues/21755 */display: inline-block !important;position: relative;}#sk-container-id-1 div.sk-text-repr-fallback {display: none;}</style><div id=\"sk-container-id-1\" class=\"sk-top-container\"><div class=\"sk-text-repr-fallback\"><pre>Lasso()</pre><b>In a Jupyter environment, please rerun this cell to show the HTML representation or trust the notebook. <br />On GitHub, the HTML representation is unable to render, please try loading this page with nbviewer.org.</b></div><div class=\"sk-container\" hidden><div class=\"sk-item\"><div class=\"sk-estimator sk-toggleable\"><input class=\"sk-toggleable__control sk-hidden--visually\" id=\"sk-estimator-id-1\" type=\"checkbox\" checked><label for=\"sk-estimator-id-1\" class=\"sk-toggleable__label sk-toggleable__label-arrow\">Lasso</label><div class=\"sk-toggleable__content\"><pre>Lasso()</pre></div></div></div></div></div>"
      ],
      "text/plain": [
       "Lasso()"
      ]
     },
     "execution_count": 35,
     "metadata": {},
     "output_type": "execute_result"
    }
   ],
   "source": [
    "lasso_regression = Lasso()\n",
    "lasso_regression.fit(com_train_features, com_train_labels)"
   ]
  },
  {
   "cell_type": "code",
   "execution_count": 36,
   "metadata": {},
   "outputs": [
    {
     "name": "stdout",
     "output_type": "stream",
     "text": [
      "0.7242238571466426\n",
      "0.711045150499638\n"
     ]
    }
   ],
   "source": [
    "print(lasso_regression.score(com_train_features, com_train_labels))\n",
    "print(lasso_regression.score(dev_test_features, dev_test_labels))\n"
   ]
  },
  {
   "cell_type": "code",
   "execution_count": 37,
   "metadata": {},
   "outputs": [
    {
     "data": {
      "text/html": [
       "<style>#sk-container-id-2 {color: black;background-color: white;}#sk-container-id-2 pre{padding: 0;}#sk-container-id-2 div.sk-toggleable {background-color: white;}#sk-container-id-2 label.sk-toggleable__label {cursor: pointer;display: block;width: 100%;margin-bottom: 0;padding: 0.3em;box-sizing: border-box;text-align: center;}#sk-container-id-2 label.sk-toggleable__label-arrow:before {content: \"▸\";float: left;margin-right: 0.25em;color: #696969;}#sk-container-id-2 label.sk-toggleable__label-arrow:hover:before {color: black;}#sk-container-id-2 div.sk-estimator:hover label.sk-toggleable__label-arrow:before {color: black;}#sk-container-id-2 div.sk-toggleable__content {max-height: 0;max-width: 0;overflow: hidden;text-align: left;background-color: #f0f8ff;}#sk-container-id-2 div.sk-toggleable__content pre {margin: 0.2em;color: black;border-radius: 0.25em;background-color: #f0f8ff;}#sk-container-id-2 input.sk-toggleable__control:checked~div.sk-toggleable__content {max-height: 200px;max-width: 100%;overflow: auto;}#sk-container-id-2 input.sk-toggleable__control:checked~label.sk-toggleable__label-arrow:before {content: \"▾\";}#sk-container-id-2 div.sk-estimator input.sk-toggleable__control:checked~label.sk-toggleable__label {background-color: #d4ebff;}#sk-container-id-2 div.sk-label input.sk-toggleable__control:checked~label.sk-toggleable__label {background-color: #d4ebff;}#sk-container-id-2 input.sk-hidden--visually {border: 0;clip: rect(1px 1px 1px 1px);clip: rect(1px, 1px, 1px, 1px);height: 1px;margin: -1px;overflow: hidden;padding: 0;position: absolute;width: 1px;}#sk-container-id-2 div.sk-estimator {font-family: monospace;background-color: #f0f8ff;border: 1px dotted black;border-radius: 0.25em;box-sizing: border-box;margin-bottom: 0.5em;}#sk-container-id-2 div.sk-estimator:hover {background-color: #d4ebff;}#sk-container-id-2 div.sk-parallel-item::after {content: \"\";width: 100%;border-bottom: 1px solid gray;flex-grow: 1;}#sk-container-id-2 div.sk-label:hover label.sk-toggleable__label {background-color: #d4ebff;}#sk-container-id-2 div.sk-serial::before {content: \"\";position: absolute;border-left: 1px solid gray;box-sizing: border-box;top: 0;bottom: 0;left: 50%;z-index: 0;}#sk-container-id-2 div.sk-serial {display: flex;flex-direction: column;align-items: center;background-color: white;padding-right: 0.2em;padding-left: 0.2em;position: relative;}#sk-container-id-2 div.sk-item {position: relative;z-index: 1;}#sk-container-id-2 div.sk-parallel {display: flex;align-items: stretch;justify-content: center;background-color: white;position: relative;}#sk-container-id-2 div.sk-item::before, #sk-container-id-2 div.sk-parallel-item::before {content: \"\";position: absolute;border-left: 1px solid gray;box-sizing: border-box;top: 0;bottom: 0;left: 50%;z-index: -1;}#sk-container-id-2 div.sk-parallel-item {display: flex;flex-direction: column;z-index: 1;position: relative;background-color: white;}#sk-container-id-2 div.sk-parallel-item:first-child::after {align-self: flex-end;width: 50%;}#sk-container-id-2 div.sk-parallel-item:last-child::after {align-self: flex-start;width: 50%;}#sk-container-id-2 div.sk-parallel-item:only-child::after {width: 0;}#sk-container-id-2 div.sk-dashed-wrapped {border: 1px dashed gray;margin: 0 0.4em 0.5em 0.4em;box-sizing: border-box;padding-bottom: 0.4em;background-color: white;}#sk-container-id-2 div.sk-label label {font-family: monospace;font-weight: bold;display: inline-block;line-height: 1.2em;}#sk-container-id-2 div.sk-label-container {text-align: center;}#sk-container-id-2 div.sk-container {/* jupyter's `normalize.less` sets `[hidden] { display: none; }` but bootstrap.min.css set `[hidden] { display: none !important; }` so we also need the `!important` here to be able to override the default hidden behavior on the sphinx rendered scikit-learn.org. See: https://github.com/scikit-learn/scikit-learn/issues/21755 */display: inline-block !important;position: relative;}#sk-container-id-2 div.sk-text-repr-fallback {display: none;}</style><div id=\"sk-container-id-2\" class=\"sk-top-container\"><div class=\"sk-text-repr-fallback\"><pre>Ridge()</pre><b>In a Jupyter environment, please rerun this cell to show the HTML representation or trust the notebook. <br />On GitHub, the HTML representation is unable to render, please try loading this page with nbviewer.org.</b></div><div class=\"sk-container\" hidden><div class=\"sk-item\"><div class=\"sk-estimator sk-toggleable\"><input class=\"sk-toggleable__control sk-hidden--visually\" id=\"sk-estimator-id-2\" type=\"checkbox\" checked><label for=\"sk-estimator-id-2\" class=\"sk-toggleable__label sk-toggleable__label-arrow\">Ridge</label><div class=\"sk-toggleable__content\"><pre>Ridge()</pre></div></div></div></div></div>"
      ],
      "text/plain": [
       "Ridge()"
      ]
     },
     "execution_count": 37,
     "metadata": {},
     "output_type": "execute_result"
    }
   ],
   "source": [
    "ridge_regression = Ridge()\n",
    "ridge_regression.fit(com_train_features, com_train_labels)"
   ]
  },
  {
   "cell_type": "code",
   "execution_count": 38,
   "metadata": {},
   "outputs": [
    {
     "name": "stdout",
     "output_type": "stream",
     "text": [
      "0.777147284415141\n",
      "0.7754357170489007\n"
     ]
    }
   ],
   "source": [
    "print(ridge_regression.score(com_train_features, com_train_labels))\n",
    "print(ridge_regression.score(dev_test_features, dev_test_labels))"
   ]
  },
  {
   "cell_type": "code",
   "execution_count": 42,
   "metadata": {},
   "outputs": [
    {
     "data": {
      "text/plain": [
       "array([[ 0.  ,  1.  ,  0.  , ...,  1.71,  7.  , 55.  ],\n",
       "       [ 0.  ,  1.  ,  0.  , ...,  1.7 , 18.  , 26.  ],\n",
       "       [ 0.  ,  1.  ,  0.  , ...,  1.19, 11.  , 56.  ],\n",
       "       ...,\n",
       "       [ 1.  ,  0.  ,  0.  , ...,  2.1 , 22.  , 18.  ],\n",
       "       [ 0.  ,  1.  ,  0.  , ...,  0.65,  7.  , 32.  ],\n",
       "       [ 0.  ,  1.  ,  0.  , ..., 11.91,  2.  , 15.  ]])"
      ]
     },
     "execution_count": 42,
     "metadata": {},
     "output_type": "execute_result"
    }
   ],
   "source": [
    "X_t"
   ]
  },
  {
   "cell_type": "code",
   "execution_count": 59,
   "metadata": {},
   "outputs": [],
   "source": [
    "ridge_pipeline = Pipeline([\n",
    "  # ('feature_trans', feature_scaling_and_trans),\n",
    "  ('ridge', ridge_regression)\n",
    "])\n",
    "\n",
    "hpt_ridge = GridSearchCV(ridge_pipeline, param_grid=params,\n",
    "                         cv= cv_5,\n",
    "                         return_train_score= True,\n",
    "                         scoring= 'neg_mean_squared_error'\n",
    "                         )\n",
    "# type()\n",
    "hpt_ridge_result = hpt_ridge.fit(com_train_features, com_train_labels)\n"
   ]
  },
  {
   "cell_type": "code",
   "execution_count": 60,
   "metadata": {},
   "outputs": [
    {
     "data": {
      "text/plain": [
       "0.7754014630147492"
      ]
     },
     "execution_count": 60,
     "metadata": {},
     "output_type": "execute_result"
    }
   ],
   "source": [
    "hpt_ridge_result.best_estimator_.score(dev_test_features, dev_test_labels)"
   ]
  },
  {
   "cell_type": "code",
   "execution_count": 62,
   "metadata": {},
   "outputs": [
    {
     "data": {
      "text/plain": [
       "0.7771722127409239"
      ]
     },
     "execution_count": 62,
     "metadata": {},
     "output_type": "execute_result"
    }
   ],
   "source": [
    "hpt_ridge_result.best_estimator_.score(com_train_features, com_train_labels)"
   ]
  },
  {
   "cell_type": "code",
   "execution_count": 61,
   "metadata": {},
   "outputs": [
    {
     "data": {
      "text/plain": [
       "{'ridge__alpha': 1e-05}"
      ]
     },
     "execution_count": 61,
     "metadata": {},
     "output_type": "execute_result"
    }
   ],
   "source": [
    "hpt_ridge_result.best_params_"
   ]
  },
  {
   "cell_type": "code",
   "execution_count": 64,
   "metadata": {},
   "outputs": [],
   "source": [
    "# impute_unknown_values(test_pd)\n",
    "convert_dt_obj_to_datetime(test_pd, 'tpep_pickup_datetime')\n",
    "test_pd = test_pd.drop('tpep_pickup_datetime', axis= 1)\n",
    "\n",
    "convert_dt_obj_to_datetime(test_pd, 'tpep_dropoff_datetime')\n",
    "test_pd = test_pd.drop('tpep_dropoff_datetime', axis= 1)\n"
   ]
  },
  {
   "cell_type": "code",
   "execution_count": 65,
   "metadata": {},
   "outputs": [],
   "source": [
    "test_pd_t = feature_scaling_and_trans.transform(test_pd)"
   ]
  },
  {
   "cell_type": "code",
   "execution_count": 66,
   "metadata": {},
   "outputs": [],
   "source": [
    "prediction = lin_reg_cross_validation['estimator'][0].predict(test_pd_t)"
   ]
  },
  {
   "cell_type": "code",
   "execution_count": 68,
   "metadata": {},
   "outputs": [],
   "source": [
    "prediction = hpt_ridge_result.best_estimator_.predict(test_pd_t)"
   ]
  },
  {
   "cell_type": "code",
   "execution_count": 69,
   "metadata": {},
   "outputs": [],
   "source": [
    "submission = pd.DataFrame(columns= ['ID', \"total_amount\"])\n",
    "submission['ID'] = [i for i in range(1, 50001)]\n",
    "submission['total_amount'] = prediction\n",
    "submission.to_csv('submission.csv', index=False)"
   ]
  },
  {
   "cell_type": "markdown",
   "metadata": {},
   "source": [
    "### testing SVR algo"
   ]
  },
  {
   "cell_type": "code",
   "execution_count": 70,
   "metadata": {},
   "outputs": [],
   "source": [
    "svr = SVR(kernel= 'linear')\n",
    "# svr.fit(com_train_features, com_train_labels)"
   ]
  },
  {
   "cell_type": "code",
   "execution_count": null,
   "metadata": {},
   "outputs": [],
   "source": [
    "# svr.score(com_train_features, com_train_labels)"
   ]
  },
  {
   "cell_type": "code",
   "execution_count": null,
   "metadata": {},
   "outputs": [],
   "source": [
    "# svr.score(dev_test_features, dev_test_labels)"
   ]
  },
  {
   "cell_type": "code",
   "execution_count": null,
   "metadata": {},
   "outputs": [],
   "source": [
    "# svr.score(x_test_t, y_test)"
   ]
  },
  {
   "cell_type": "code",
   "execution_count": 71,
   "metadata": {},
   "outputs": [
    {
     "data": {
      "text/html": [
       "<div>\n",
       "<style scoped>\n",
       "    .dataframe tbody tr th:only-of-type {\n",
       "        vertical-align: middle;\n",
       "    }\n",
       "\n",
       "    .dataframe tbody tr th {\n",
       "        vertical-align: top;\n",
       "    }\n",
       "\n",
       "    .dataframe thead th {\n",
       "        text-align: right;\n",
       "    }\n",
       "</style>\n",
       "<table border=\"1\" class=\"dataframe\">\n",
       "  <thead>\n",
       "    <tr style=\"text-align: right;\">\n",
       "      <th></th>\n",
       "      <th>ID</th>\n",
       "      <th>total_amount</th>\n",
       "    </tr>\n",
       "  </thead>\n",
       "  <tbody>\n",
       "    <tr>\n",
       "      <th>count</th>\n",
       "      <td>50000.000000</td>\n",
       "      <td>50000.000000</td>\n",
       "    </tr>\n",
       "    <tr>\n",
       "      <th>mean</th>\n",
       "      <td>25000.500000</td>\n",
       "      <td>29.397385</td>\n",
       "    </tr>\n",
       "    <tr>\n",
       "      <th>std</th>\n",
       "      <td>14433.901067</td>\n",
       "      <td>21.904111</td>\n",
       "    </tr>\n",
       "    <tr>\n",
       "      <th>min</th>\n",
       "      <td>1.000000</td>\n",
       "      <td>-94.103677</td>\n",
       "    </tr>\n",
       "    <tr>\n",
       "      <th>25%</th>\n",
       "      <td>12500.750000</td>\n",
       "      <td>19.670443</td>\n",
       "    </tr>\n",
       "    <tr>\n",
       "      <th>50%</th>\n",
       "      <td>25000.500000</td>\n",
       "      <td>23.238133</td>\n",
       "    </tr>\n",
       "    <tr>\n",
       "      <th>75%</th>\n",
       "      <td>37500.250000</td>\n",
       "      <td>28.156980</td>\n",
       "    </tr>\n",
       "    <tr>\n",
       "      <th>max</th>\n",
       "      <td>50000.000000</td>\n",
       "      <td>279.877805</td>\n",
       "    </tr>\n",
       "  </tbody>\n",
       "</table>\n",
       "</div>"
      ],
      "text/plain": [
       "                 ID  total_amount\n",
       "count  50000.000000  50000.000000\n",
       "mean   25000.500000     29.397385\n",
       "std    14433.901067     21.904111\n",
       "min        1.000000    -94.103677\n",
       "25%    12500.750000     19.670443\n",
       "50%    25000.500000     23.238133\n",
       "75%    37500.250000     28.156980\n",
       "max    50000.000000    279.877805"
      ]
     },
     "execution_count": 71,
     "metadata": {},
     "output_type": "execute_result"
    }
   ],
   "source": [
    "submission.describe()"
   ]
  },
  {
   "cell_type": "code",
   "execution_count": 72,
   "metadata": {},
   "outputs": [
    {
     "data": {
      "text/html": [
       "<div>\n",
       "<style scoped>\n",
       "    .dataframe tbody tr th:only-of-type {\n",
       "        vertical-align: middle;\n",
       "    }\n",
       "\n",
       "    .dataframe tbody tr th {\n",
       "        vertical-align: top;\n",
       "    }\n",
       "\n",
       "    .dataframe thead th {\n",
       "        text-align: right;\n",
       "    }\n",
       "</style>\n",
       "<table border=\"1\" class=\"dataframe\">\n",
       "  <thead>\n",
       "    <tr style=\"text-align: right;\">\n",
       "      <th></th>\n",
       "      <th>ID</th>\n",
       "      <th>total_amount</th>\n",
       "    </tr>\n",
       "  </thead>\n",
       "  <tbody>\n",
       "    <tr>\n",
       "      <th>12</th>\n",
       "      <td>13</td>\n",
       "      <td>-36.953071</td>\n",
       "    </tr>\n",
       "    <tr>\n",
       "      <th>99</th>\n",
       "      <td>100</td>\n",
       "      <td>-22.525393</td>\n",
       "    </tr>\n",
       "    <tr>\n",
       "      <th>133</th>\n",
       "      <td>134</td>\n",
       "      <td>-30.378701</td>\n",
       "    </tr>\n",
       "    <tr>\n",
       "      <th>199</th>\n",
       "      <td>200</td>\n",
       "      <td>-29.757140</td>\n",
       "    </tr>\n",
       "    <tr>\n",
       "      <th>419</th>\n",
       "      <td>420</td>\n",
       "      <td>-27.794169</td>\n",
       "    </tr>\n",
       "    <tr>\n",
       "      <th>...</th>\n",
       "      <td>...</td>\n",
       "      <td>...</td>\n",
       "    </tr>\n",
       "    <tr>\n",
       "      <th>49714</th>\n",
       "      <td>49715</td>\n",
       "      <td>-52.542130</td>\n",
       "    </tr>\n",
       "    <tr>\n",
       "      <th>49741</th>\n",
       "      <td>49742</td>\n",
       "      <td>-28.583170</td>\n",
       "    </tr>\n",
       "    <tr>\n",
       "      <th>49858</th>\n",
       "      <td>49859</td>\n",
       "      <td>-23.645230</td>\n",
       "    </tr>\n",
       "    <tr>\n",
       "      <th>49867</th>\n",
       "      <td>49868</td>\n",
       "      <td>-0.065846</td>\n",
       "    </tr>\n",
       "    <tr>\n",
       "      <th>49927</th>\n",
       "      <td>49928</td>\n",
       "      <td>-2.795672</td>\n",
       "    </tr>\n",
       "  </tbody>\n",
       "</table>\n",
       "<p>450 rows × 2 columns</p>\n",
       "</div>"
      ],
      "text/plain": [
       "          ID  total_amount\n",
       "12        13    -36.953071\n",
       "99       100    -22.525393\n",
       "133      134    -30.378701\n",
       "199      200    -29.757140\n",
       "419      420    -27.794169\n",
       "...      ...           ...\n",
       "49714  49715    -52.542130\n",
       "49741  49742    -28.583170\n",
       "49858  49859    -23.645230\n",
       "49867  49868     -0.065846\n",
       "49927  49928     -2.795672\n",
       "\n",
       "[450 rows x 2 columns]"
      ]
     },
     "execution_count": 72,
     "metadata": {},
     "output_type": "execute_result"
    }
   ],
   "source": [
    "submission[submission['total_amount'] < 0]"
   ]
  },
  {
   "cell_type": "code",
   "execution_count": null,
   "metadata": {},
   "outputs": [],
   "source": []
  }
 ],
 "metadata": {
  "kernelspec": {
   "display_name": "jupitor_notebook",
   "language": "python",
   "name": "python3"
  },
  "language_info": {
   "codemirror_mode": {
    "name": "ipython",
    "version": 3
   },
   "file_extension": ".py",
   "mimetype": "text/x-python",
   "name": "python",
   "nbconvert_exporter": "python",
   "pygments_lexer": "ipython3",
   "version": "3.10.12"
  }
 },
 "nbformat": 4,
 "nbformat_minor": 2
}

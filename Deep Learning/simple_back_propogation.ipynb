{
 "cells": [
  {
   "cell_type": "markdown",
   "metadata": {},
   "source": [
    "<p>hello Deep world</p>\n",
    "<code>\n",
    "a<sub>i</sub> = w<sub>i</sub> &deg; h<sub>i-1</sub> + b<sub>i</sub>\n",
    "</code>"
   ]
  },
  {
   "cell_type": "code",
   "execution_count": 48,
   "metadata": {},
   "outputs": [],
   "source": [
    "import numpy as np\n",
    "import matplotlib.pyplot as plt\n",
    "import pandas as pd\n",
    "import seaborn as sns \n",
    "from keras.datasets import fashion_mnist\n"
   ]
  },
  {
   "cell_type": "markdown",
   "metadata": {},
   "source": [
    "## Creating Forward pass"
   ]
  },
  {
   "cell_type": "code",
   "execution_count": 49,
   "metadata": {},
   "outputs": [
    {
     "data": {
      "text/plain": [
       "numpy.ndarray"
      ]
     },
     "execution_count": 49,
     "metadata": {},
     "output_type": "execute_result"
    }
   ],
   "source": [
    "(x_train, y_train), (x_test, y_test) = fashion_mnist.load_data()\n",
    "type(x_train)"
   ]
  },
  {
   "cell_type": "code",
   "execution_count": 50,
   "metadata": {},
   "outputs": [
    {
     "data": {
      "image/png": "[encoded data removed]",
      "text/plain": [
       "<Figure size 1000x800 with 10 Axes>"
      ]
     },
     "metadata": {},
     "output_type": "display_data"
    }
   ],
   "source": [
    "# dispaly the image for each type of dataset\n",
    "displayed = []\n",
    "\n",
    "row = 0\n",
    "col = 0\n",
    "index = 0\n",
    "plt.figure(figsize=(10, 8))\n",
    "while len(displayed) < len(np.unique(y_train)):\n",
    "  if y_train[index] not in displayed:\n",
    "\n",
    "    plt.subplot(4,3, len(displayed) + 1 ).imshow(x_train[index,:, :], cmap='gray')\n",
    "    displayed.append(y_train[index])\n",
    "    plt.title(y_train[index])\n",
    "    plt.xticks([])\n",
    "    plt.yticks([])\n",
    "\n",
    "  index += 1"
   ]
  },
  {
   "cell_type": "markdown",
   "metadata": {},
   "source": [
    "## Solving graded assignmet week 3"
   ]
  },
  {
   "cell_type": "code",
   "execution_count": 51,
   "metadata": {},
   "outputs": [],
   "source": [
    "params = np.load('week3/parameters.npz')\n",
    "params.values()\n",
    "W1, W2, W3 = params['W1'], params['W2'], params['W3']\n",
    "b1, b2, b3 = params['b1'], params['b2'], params['b3']\n",
    "x= np.array([1, 0, 1]).reshape(3, 1)\n",
    "y = np.array([0, 0, 1]).reshape(3, 1)"
   ]
  },
  {
   "cell_type": "markdown",
   "metadata": {},
   "source": [
    "### Important functinos\n",
    "- this is a classification problem \n",
    "- using softmax function\n",
    "- normal gradient descent function for error solving\n",
    "- using cross entropy loss for solving this function"
   ]
  },
  {
   "cell_type": "code",
   "execution_count": 52,
   "metadata": {},
   "outputs": [],
   "source": [
    "def corss_entropy_loss(y, y_hat):\n",
    "  return -np.sum(y * np.log(y_hat))\n",
    "\n",
    "# cross entropy loss/ outupt function + a-N(preactivation for output)\n",
    "def derivative_wrt_output_layer(y, y_hat):\n",
    "  return -1*(y-y_hat)\n",
    "\n",
    "def derivative_wrt_hidden_layer(w, der_prev):\n",
    "  return w.T @ der_prev\n",
    "\n",
    "def sigmoid(x):\n",
    "  return 1/ (1 + np.exp(-x))\n",
    "\n",
    "def derivative_of_sigmoid(x):\n",
    "  return sigmoid(x) * (1 - sigmoid(x))\n",
    "\n",
    "def derivative_wrt_hidden_preactivation(prev_der, g_x, g_func= 'sigmoid'):\n",
    "  if g_func == 'sigmoid':\n",
    "    g_dash_x = derivative_of_sigmoid(g_x)\n",
    "  else:\n",
    "    assert(False)\n",
    "  return prev_der * g_dash_x\n",
    "\n",
    "def derivative_wrt_W(prev_der, prev_h):\n",
    "  return prev_der @ prev_h.T\n",
    "\n",
    "def derivative_wrt_b(prev_der):\n",
    "  return prev_der\n",
    "\n",
    "def softmax_fun(y):\n",
    "  return np.exp(y)/ np.sum(np.exp(y))\n",
    "\n"
   ]
  },
  {
   "cell_type": "code",
   "execution_count": 53,
   "metadata": {},
   "outputs": [
    {
     "name": "stdout",
     "output_type": "stream",
     "text": [
      "[0.73105858 0.5        0.73105858]\n"
     ]
    },
    {
     "data": {
      "text/plain": [
       "array([0.21936186, 0.23500371, 0.21936186])"
      ]
     },
     "execution_count": 53,
     "metadata": {},
     "output_type": "execute_result"
    }
   ],
   "source": [
    "ar = np.array([1,0,1])\n",
    "sa = sigmoid(ar)\n",
    "print(sa)\n",
    "d_s = derivative_of_sigmoid(sa)\n",
    "d_s"
   ]
  },
  {
   "cell_type": "markdown",
   "metadata": {},
   "source": [
    "#### Hidden layer one forward pass"
   ]
  },
  {
   "cell_type": "code",
   "execution_count": 54,
   "metadata": {},
   "outputs": [
    {
     "data": {
      "text/plain": [
       "array([[0.82273938],\n",
       "       [0.87894766],\n",
       "       [0.87326546]])"
      ]
     },
     "execution_count": 54,
     "metadata": {},
     "output_type": "execute_result"
    }
   ],
   "source": [
    "a1 = W1 @ x + b1\n",
    "h1 = sigmoid(a1)\n",
    "h1"
   ]
  },
  {
   "cell_type": "markdown",
   "metadata": {},
   "source": [
    "#### Hidden layer 2"
   ]
  },
  {
   "cell_type": "code",
   "execution_count": 55,
   "metadata": {},
   "outputs": [
    {
     "data": {
      "text/plain": [
       "array([[0.89492782],\n",
       "       [0.78211479],\n",
       "       [0.95435049]])"
      ]
     },
     "execution_count": 55,
     "metadata": {},
     "output_type": "execute_result"
    }
   ],
   "source": [
    "a2 = W2 @ h1 + b2\n",
    "h2 = sigmoid(a2)\n",
    "h2"
   ]
  },
  {
   "cell_type": "markdown",
   "metadata": {},
   "source": [
    "#### Hidden layer 3/ output layer"
   ]
  },
  {
   "cell_type": "code",
   "execution_count": 56,
   "metadata": {},
   "outputs": [
    {
     "data": {
      "text/plain": [
       "array([[0.23691422],\n",
       "       [0.33838847],\n",
       "       [0.42469732]])"
      ]
     },
     "execution_count": 56,
     "metadata": {},
     "output_type": "execute_result"
    }
   ],
   "source": [
    "a3 = W3 @ h2 + b3\n",
    "output_layer = softmax_fun(a3)\n",
    "output_layer"
   ]
  },
  {
   "cell_type": "code",
   "execution_count": 57,
   "metadata": {},
   "outputs": [
    {
     "name": "stdout",
     "output_type": "stream",
     "text": [
      "sum of a1: 5.44766562448759, sum of h1 2.5749524957231924, value of loss 0.8563785622753882\n"
     ]
    }
   ],
   "source": [
    "print(f'sum of a1: {np.sum(a1)}, sum of h1 {np.sum(h1)}, value of loss {corss_entropy_loss(y, output_layer)}')"
   ]
  },
  {
   "cell_type": "markdown",
   "metadata": {},
   "source": [
    "### Back propogation process starting"
   ]
  },
  {
   "cell_type": "code",
   "execution_count": 58,
   "metadata": {},
   "outputs": [
    {
     "data": {
      "text/plain": [
       "array([[ 0.23691422],\n",
       "       [ 0.33838847],\n",
       "       [-0.57530268]])"
      ]
     },
     "execution_count": 58,
     "metadata": {},
     "output_type": "execute_result"
    }
   ],
   "source": [
    "del_a3 = derivative_wrt_output_layer(y, output_layer)\n",
    "del_a3\n"
   ]
  },
  {
   "cell_type": "code",
   "execution_count": 59,
   "metadata": {},
   "outputs": [
    {
     "data": {
      "text/plain": [
       "array([[ 0.21202113,  0.18529411,  0.2260992 ],\n",
       "       [ 0.30283325,  0.26465862,  0.3229412 ],\n",
       "       [-0.51485438, -0.44995274, -0.5490404 ]])"
      ]
     },
     "execution_count": 59,
     "metadata": {},
     "output_type": "execute_result"
    }
   ],
   "source": [
    "del_w3 = derivative_wrt_W(del_a3, h2)\n",
    "del_w3"
   ]
  },
  {
   "cell_type": "code",
   "execution_count": 60,
   "metadata": {},
   "outputs": [
    {
     "data": {
      "text/plain": [
       "array([[ 0.23691422],\n",
       "       [ 0.33838847],\n",
       "       [-0.57530268]])"
      ]
     },
     "execution_count": 60,
     "metadata": {},
     "output_type": "execute_result"
    }
   ],
   "source": [
    "del_b3 = derivative_wrt_b(del_a3)\n",
    "del_b3"
   ]
  },
  {
   "cell_type": "code",
   "execution_count": 61,
   "metadata": {},
   "outputs": [
    {
     "data": {
      "text/plain": [
       "array([[ 0.1954864 ],\n",
       "       [-0.11722488],\n",
       "       [-0.08814526]])"
      ]
     },
     "execution_count": 61,
     "metadata": {},
     "output_type": "execute_result"
    }
   ],
   "source": [
    "del_h2 = derivative_wrt_hidden_layer(W3, del_a3)\n",
    "del_h2"
   ]
  },
  {
   "cell_type": "code",
   "execution_count": 62,
   "metadata": {},
   "outputs": [
    {
     "data": {
      "text/plain": [
       "array([[ 0.01838198],\n",
       "       [-0.01997644],\n",
       "       [-0.0038401 ]])"
      ]
     },
     "execution_count": 62,
     "metadata": {},
     "output_type": "execute_result"
    }
   ],
   "source": [
    "del_a2 = derivative_wrt_hidden_preactivation(del_h2, a2)\n",
    "del_a2"
   ]
  },
  {
   "cell_type": "code",
   "execution_count": 63,
   "metadata": {},
   "outputs": [
    {
     "data": {
      "text/plain": [
       "array([[ 0.01512358,  0.0161568 ,  0.01605235],\n",
       "       [-0.0164354 , -0.01755824, -0.01744473],\n",
       "       [-0.0031594 , -0.00337525, -0.00335343]])"
      ]
     },
     "execution_count": 63,
     "metadata": {},
     "output_type": "execute_result"
    }
   ],
   "source": [
    "del_w2 = derivative_wrt_W(del_a2, h1)\n",
    "del_w2"
   ]
  },
  {
   "cell_type": "code",
   "execution_count": 64,
   "metadata": {},
   "outputs": [
    {
     "data": {
      "text/plain": [
       "array([[ 0.01838198],\n",
       "       [-0.01997644],\n",
       "       [-0.0038401 ]])"
      ]
     },
     "execution_count": 64,
     "metadata": {},
     "output_type": "execute_result"
    }
   ],
   "source": [
    "del_b2 = derivative_wrt_b(del_a2)\n",
    "del_b2"
   ]
  },
  {
   "cell_type": "code",
   "execution_count": 67,
   "metadata": {},
   "outputs": [],
   "source": [
    "del_h1 = derivative_wrt_hidden_layer(W1, del_a2)\n",
    "del_a1 = derivative_wrt_hidden_preactivation(del_h1, a1)\n",
    "del_w1 = derivative_wrt_W(del_a1, x)\n",
    "del_b1 = derivative_wrt_b(del_a1)"
   ]
  },
  {
   "cell_type": "code",
   "execution_count": 68,
   "metadata": {},
   "outputs": [],
   "source": [
    "w1_new = W1 - del_w1\n",
    "b1_new = b1 - del_b1\n",
    "w2_new = W2 - del_w2\n",
    "b2_new = b2 - del_b2\n",
    "w3_new = W3 - del_w3\n",
    "b3_new = b3 - del_b3"
   ]
  },
  {
   "cell_type": "markdown",
   "metadata": {},
   "source": [
    "### Forward pass after weight update"
   ]
  },
  {
   "cell_type": "code",
   "execution_count": 69,
   "metadata": {},
   "outputs": [],
   "source": [
    "new_a1 = w1_new @ x + b1_new\n",
    "new_h1 = sigmoid(new_a1)\n",
    "new_a2 = w2_new @ new_h1 + b2_new\n",
    "new_h2 = sigmoid(new_a2)\n",
    "new_a3 = w3_new @ new_h2 + b3_new\n",
    "new_output_layer = softmax_fun(new_a3)\n",
    "\n"
   ]
  },
  {
   "cell_type": "code",
   "execution_count": 70,
   "metadata": {},
   "outputs": [
    {
     "name": "stdout",
     "output_type": "stream",
     "text": [
      "old loss: 0.8563785622753882, new loss: 0.07253379004106905\n"
     ]
    }
   ],
   "source": [
    "print(f'old loss: {corss_entropy_loss(y, output_layer)}, new loss: {corss_entropy_loss(y, new_output_layer)}')"
   ]
  },
  {
   "cell_type": "code",
   "execution_count": null,
   "metadata": {},
   "outputs": [],
   "source": []
  }
 ],
 "metadata": {
  "kernelspec": {
   "display_name": "BS",
   "language": "python",
   "name": "python3"
  },
  "language_info": {
   "codemirror_mode": {
    "name": "ipython",
    "version": 3
   },
   "file_extension": ".py",
   "mimetype": "text/x-python",
   "name": "python",
   "nbconvert_exporter": "python",
   "pygments_lexer": "ipython3",
   "version": "3.10.12"
  }
 },
 "nbformat": 4,
 "nbformat_minor": 2
}

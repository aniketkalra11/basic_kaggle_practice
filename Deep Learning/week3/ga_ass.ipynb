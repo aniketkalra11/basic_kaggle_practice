{
 "cells": [
  {
   "cell_type": "markdown",
   "metadata": {},
   "source": [
    "## week3  graded assignment\n"
   ]
  },
  {
   "cell_type": "code",
   "execution_count": 1,
   "metadata": {},
   "outputs": [],
   "source": [
    "import numpy as np\n",
    "import matplotlib.pyplot as plt\n"
   ]
  },
  {
   "cell_type": "code",
   "execution_count": 3,
   "metadata": {},
   "outputs": [],
   "source": [
    "params = np.load('parameters.npz')"
   ]
  },
  {
   "cell_type": "code",
   "execution_count": 11,
   "metadata": {},
   "outputs": [
    {
     "data": {
      "text/plain": [
       "array([[0.5488135 , 0.71518937, 0.60276338],\n",
       "       [0.54488318, 0.4236548 , 0.64589411],\n",
       "       [0.43758721, 0.891773  , 0.96366276]])"
      ]
     },
     "execution_count": 11,
     "metadata": {},
     "output_type": "execute_result"
    }
   ],
   "source": [
    "params['W1']"
   ]
  },
  {
   "cell_type": "code",
   "execution_count": 44,
   "metadata": {},
   "outputs": [],
   "source": [
    "def compute_a(x, w,b):\n",
    "    a = np.dot(w,x) + b\n",
    "    return a\n",
    "\n",
    "def compute_sigmoid(a):\n",
    "    return 1/(1+np.exp(-a))\n",
    "\n",
    "def compute_softmax(a):\n",
    "    return np.exp(a)/np.sum(np.exp(a))\n",
    "\n",
    "def compute_loss(y, y_hat):\n",
    "    return -np.sum(y*np.log(y_hat))\n",
    "\n",
    "def compute_graidient_loss(y, y_hat):\n",
    "    return y_hat - y\n",
    "\n",
    "def grad_of_softmax(a, grad_loss):\n",
    "    return grad_loss * a * (1-a)\n",
    "\n",
    "def grad_of_sigmoid(a, grad_loss):\n",
    "    return grad_loss * a * (1-a)\n",
    "\n",
    "\n",
    "def compute_gradient_w(x, grad_loss):\n",
    "    return np.outer(grad_loss, x)\n",
    "\n",
    "def compute_updated_w(w, grad_w, learning_rate):\n",
    "    return w - learning_rate*grad_w\n",
    "\n",
    "def cross_entroy_loss(y, y_hat):\n",
    "    return -np.sum(y*np.log(y_hat))"
   ]
  },
  {
   "cell_type": "code",
   "execution_count": 26,
   "metadata": {},
   "outputs": [
    {
     "name": "stdout",
     "output_type": "stream",
     "text": [
      "(3, 1)\n",
      "dict_items([('W1', array([[0.5488135 , 0.71518937, 0.60276338],\n",
      "       [0.54488318, 0.4236548 , 0.64589411],\n",
      "       [0.43758721, 0.891773  , 0.96366276]])), ('b1', array([[0.38344152],\n",
      "       [0.79172504],\n",
      "       [0.52889492]])), ('W2', array([[0.56804456, 0.92559664, 0.07103606],\n",
      "       [0.0871293 , 0.0202184 , 0.83261985],\n",
      "       [0.77815675, 0.87001215, 0.97861834]])), ('b2', array([[0.79915856],\n",
      "       [0.46147936],\n",
      "       [0.78052918]])), ('W3', array([[0.11827443, 0.63992102, 0.14335329],\n",
      "       [0.94466892, 0.52184832, 0.41466194],\n",
      "       [0.26455561, 0.77423369, 0.45615033]])), ('b3', array([[0.56843395],\n",
      "       [0.0187898 ],\n",
      "       [0.6176355 ]]))])\n"
     ]
    }
   ],
   "source": [
    "dict_of_neurons = {}\n",
    "x = np.array([1, 0, 1]).reshape(3, 1)\n",
    "print(x.shape)\n",
    "y = np.array([0, 0, 1]).reshape(3, 1)\n",
    "\n",
    "dict_of_neurons['W1'] = params['W1']\n",
    "dict_of_neurons['b1'] = params['b1']\n",
    "dict_of_neurons['W2'] = params['W2']\n",
    "dict_of_neurons['b2'] = params['b2']\n",
    "dict_of_neurons['W3'] = params['W3']\n",
    "dict_of_neurons['b3'] = params['b3']\n",
    "print(dict_of_neurons.items())"
   ]
  },
  {
   "cell_type": "code",
   "execution_count": 33,
   "metadata": {},
   "outputs": [
    {
     "name": "stdout",
     "output_type": "stream",
     "text": [
      "value of a1 is: 5.44766562448759\n"
     ]
    }
   ],
   "source": [
    "# calculating the value of a1\n",
    "a1 = np.dot(dict_of_neurons['W1'], x) + dict_of_neurons['b1']\n",
    "print('value of a1 is:', np.sum(a1))"
   ]
  },
  {
   "cell_type": "code",
   "execution_count": 34,
   "metadata": {},
   "outputs": [
    {
     "data": {
      "text/plain": [
       "2.5749524957231924"
      ]
     },
     "execution_count": 34,
     "metadata": {},
     "output_type": "execute_result"
    }
   ],
   "source": [
    "h1 = compute_sigmoid(a1)\n",
    "np.sum(h1)"
   ]
  },
  {
   "cell_type": "code",
   "execution_count": 42,
   "metadata": {},
   "outputs": [
    {
     "name": "stdout",
     "output_type": "stream",
     "text": [
      "6.5\n",
      "value of a2: 6.5 and value of h2: 2.63 and value of a3: (4.874920988265704, 2) and value of y_hat: [[0.23691422]\n",
      " [0.33838847]\n",
      " [0.42469732]]\n",
      "value of y_hat is: [[0.23691422]\n",
      " [0.33838847]\n",
      " [0.42469732]]\n"
     ]
    }
   ],
   "source": [
    "a2 = dict_of_neurons['W2'] @ h1 + dict_of_neurons['b2']\n",
    "h2 = compute_sigmoid(a2)\n",
    "a3 = dict_of_neurons['W3'] @ h2 + dict_of_neurons['b3']\n",
    "y_hat = compute_softmax(a3)\n",
    "v = round(np.sum(a2), 1)\n",
    "print(v)\n",
    "print(f'value of a2: {round(np.sum(a2), 1)} and value of h2: {round(np.sum(h2), 2)} and value of a3: {(np.sum(a3), 2)} and value of y_hat: {y_hat}')\n",
    "# sanity check\n",
    "# assert(round(np.sum(a2), 1) == 6.4)\n",
    "# assert(round(np.sum(h2), 2) == 2.63)\n",
    "# assert(round(np.sum(a3), 2) == 4.87)\n",
    "print('value of y_hat is:', y_hat)"
   ]
  },
  {
   "cell_type": "code",
   "execution_count": 45,
   "metadata": {},
   "outputs": [
    {
     "name": "stdout",
     "output_type": "stream",
     "text": [
      "cross entropy loss is: 0.8563785622753882\n"
     ]
    }
   ],
   "source": [
    "# cross entropy loss of the following function is:\n",
    "loss = cross_entroy_loss(y, y_hat)\n",
    "print('cross entropy loss is:', loss)"
   ]
  },
  {
   "cell_type": "code",
   "execution_count": 54,
   "metadata": {},
   "outputs": [
    {
     "name": "stdout",
     "output_type": "stream",
     "text": [
      "grad_h3: [[ 0.23691422]\n",
      " [ 0.33838847]\n",
      " [-0.57530268]]\n"
     ]
    }
   ],
   "source": [
    "grad_of_loss  = compute_graidient_loss(y, y_hat)\n",
    "print('grad_h3:', grad_of_loss)"
   ]
  },
  {
   "cell_type": "code",
   "execution_count": 55,
   "metadata": {},
   "outputs": [
    {
     "name": "stdout",
     "output_type": "stream",
     "text": [
      "grad_a3: [[-0.09681863]\n",
      " [-0.37710253]\n",
      " [ 0.97614604]]\n"
     ]
    }
   ],
   "source": [
    "grad_h3 = grad_of_softmax(a3, grad_of_loss)\n",
    "print('grad_a3:', grad_h3)"
   ]
  },
  {
   "cell_type": "code",
   "execution_count": 70,
   "metadata": {},
   "outputs": [
    {
     "name": "stdout",
     "output_type": "stream",
     "text": [
      "(3, 1)\n",
      "loss 0th: [-0.]\n",
      "loss 1th: [-0.]\n",
      "loss 2th: [-2.35461813]\n"
     ]
    },
    {
     "data": {
      "text/plain": [
       "array([[-0.        ],\n",
       "       [-0.        ],\n",
       "       [-2.35461813]])"
      ]
     },
     "execution_count": 70,
     "metadata": {},
     "output_type": "execute_result"
    }
   ],
   "source": [
    "# loss funtion according to input\n",
    "loss_y = []\n",
    "print(y_hat.shape)\n",
    "for i in range(y_hat.shape[0]):\n",
    "    l = -(y[i]/y_hat[i])\n",
    "    loss_y.append(l)\n",
    "    print(f'loss {i}th:', -(y[i]/y_hat[i]))\n",
    "grad_h3 = np.array(loss_y).reshape(3, 1)\n",
    "grad_h3"
   ]
  },
  {
   "cell_type": "code",
   "execution_count": 69,
   "metadata": {},
   "outputs": [
    {
     "data": {
      "text/plain": [
       "array([[0.23691422],\n",
       "       [0.33838847],\n",
       "       [2.77931545]])"
      ]
     },
     "execution_count": 69,
     "metadata": {},
     "output_type": "execute_result"
    }
   ],
   "source": [
    "grad_a3 = -1*( grad_h3 - y_hat)\n",
    "grad_a3"
   ]
  },
  {
   "cell_type": "code",
   "execution_count": null,
   "metadata": {},
   "outputs": [],
   "source": []
  }
 ],
 "metadata": {
  "kernelspec": {
   "display_name": "BS",
   "language": "python",
   "name": "python3"
  },
  "language_info": {
   "codemirror_mode": {
    "name": "ipython",
    "version": 3
   },
   "file_extension": ".py",
   "mimetype": "text/x-python",
   "name": "python",
   "nbconvert_exporter": "python",
   "pygments_lexer": "ipython3",
   "version": "3.10.12"
  }
 },
 "nbformat": 4,
 "nbformat_minor": 2
}

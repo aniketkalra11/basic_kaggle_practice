{
 "cells": [
  {
   "cell_type": "markdown",
   "metadata": {},
   "source": [
    "### Starting Linear regression on house price prediction"
   ]
  },
  {
   "cell_type": "code",
   "execution_count": 2,
   "metadata": {},
   "outputs": [],
   "source": [
    "import numpy as np\n",
    "import pandas as pd\n",
    "import matplotlib.pyplot as plt\n",
    "import seaborn as sns\n",
    "\n",
    "from scipy.stats import loguniform\n",
    "from scipy.stats import uniform\n",
    "\n",
    "from sklearn.datasets import fetch_california_housing\n",
    "from sklearn.dummy import DummyRegressor\n",
    "from sklearn.linear_model import LinearRegression\n",
    "from sklearn.linear_model import Lasso, LassoCV\n",
    "from sklearn.linear_model import Ridge, RidgeCV\n",
    "from sklearn.linear_model import SGDRegressor\n",
    "from sklearn.metrics import mean_squared_error, mean_absolute_error, mean_absolute_percentage_error\n",
    "\n",
    "from sklearn.model_selection import cross_validate\n",
    "from sklearn.model_selection import cross_val_score\n",
    "from sklearn.model_selection import train_test_split\n",
    "from sklearn.model_selection import ShuffleSplit\n",
    "from sklearn.model_selection import validation_curve\n",
    "\n",
    "from sklearn.model_selection import GridSearchCV\n",
    "from sklearn.model_selection import RandomizedSearchCV\n",
    "\n",
    "from sklearn.preprocessing import PolynomialFeatures\n",
    "from sklearn.preprocessing import StandardScaler\n",
    "\n",
    "from sklearn.pipeline import Pipeline\n",
    "\n"
   ]
  },
  {
   "cell_type": "markdown",
   "metadata": {},
   "source": [
    "Common setup"
   ]
  },
  {
   "cell_type": "code",
   "execution_count": null,
   "metadata": {},
   "outputs": [],
   "source": [
    "np.random.seed(42)"
   ]
  },
  {
   "cell_type": "markdown",
   "metadata": {},
   "source": [
    "setting shuffle split"
   ]
  },
  {
   "cell_type": "code",
   "execution_count": 3,
   "metadata": {},
   "outputs": [],
   "source": [
    "cross_validation_shuffle = ShuffleSplit(n_splits=10, test_size= 0.2, random_state= 42)"
   ]
  },
  {
   "cell_type": "markdown",
   "metadata": {},
   "source": [
    "### Loading and spliting of data"
   ]
  },
  {
   "cell_type": "code",
   "execution_count": 4,
   "metadata": {},
   "outputs": [],
   "source": [
    "features, labels = fetch_california_housing(return_X_y= True, as_frame= True)\n",
    "com_train_features, test_features, com_train_labels, test_labels = train_test_split(features, labels, random_state= 42)\n",
    "\n",
    "train_features, dev_features, train_labels, dev_labels = train_test_split(com_train_features, com_train_labels, random_state= 42)"
   ]
  },
  {
   "cell_type": "markdown",
   "metadata": {},
   "source": [
    "## Linear Regression with normal equation"
   ]
  },
  {
   "cell_type": "code",
   "execution_count": 15,
   "metadata": {},
   "outputs": [],
   "source": [
    "def printTestResult(result, model:str):\n",
    "  train_error, test_error = -1 * result['train_score'],  -1 * result['test_score']\n",
    "  print(f'Mean absolute error of {model} model on the train set:\\n',\n",
    "      f\"{train_error.mean():.3f} +/- {train_error.std():.3f}\")\n",
    "\n",
    "  print(f'Mean absolute error of linear {model} on the test set:\\n',\n",
    "      f'{test_error.mean():.3f} +/- {test_error.std():.3f}')"
   ]
  },
  {
   "cell_type": "code",
   "execution_count": 16,
   "metadata": {},
   "outputs": [
    {
     "name": "stdout",
     "output_type": "stream",
     "text": [
      "Mean absolute error of Linear Regression model on the train set:\n",
      " 0.530 +/- 0.002\n",
      "Mean absolute error of linear Linear Regression on the test set:\n",
      " 0.527 +/- 0.008\n"
     ]
    }
   ],
   "source": [
    "lin_reg_pipeline = Pipeline([\n",
    "  ('features_scaling', StandardScaler()),\n",
    "  ('lin_reg', LinearRegression())\n",
    "])\n",
    "\n",
    "lin_reg_cv_results = cross_validate(lin_reg_pipeline,\n",
    "                                    com_train_features,\n",
    "                                    com_train_labels,\n",
    "                                    cv= cross_validation_shuffle,\n",
    "                                    scoring= 'neg_mean_absolute_error',\n",
    "                                    return_train_score= True,\n",
    "                                    return_estimator= True)\n",
    "\n",
    "printTestResult(lin_reg_cv_results, 'Linear Regression')\n",
    "\n"
   ]
  },
  {
   "cell_type": "markdown",
   "metadata": {},
   "source": [
    "## Linear regression with SGD\n"
   ]
  },
  {
   "cell_type": "code",
   "execution_count": 17,
   "metadata": {},
   "outputs": [
    {
     "name": "stdout",
     "output_type": "stream",
     "text": [
      "Mean absolute error of SGD Regression model on the train set:\n",
      " 0.534 +/- 0.013\n",
      "Mean absolute error of linear SGD Regression on the test set:\n",
      " 0.530 +/- 0.010\n"
     ]
    }
   ],
   "source": [
    "sgd_reg_pipeline = Pipeline([\n",
    "  ('features_scaling', StandardScaler()),\n",
    "  ('sgd_reg', SGDRegressor(\n",
    "    max_iter= int(np.ceil(\n",
    "      1e6/com_train_features.shape[0])),\n",
    "      early_stopping= True,\n",
    "      eta0= 1e-4,\n",
    "      learning_rate= 'constant',\n",
    "      tol= 1e-5,\n",
    "      validation_fraction= 0.1,\n",
    "      n_iter_no_change= 5,\n",
    "      average= 10,\n",
    "      random_state= 42\n",
    "  ))\n",
    "])\n",
    "\n",
    "sgd_reg_cv_result = cross_validate(sgd_reg_pipeline,\n",
    "                                   com_train_features,\n",
    "                                   com_train_labels,\n",
    "                                   cv= cross_validation_shuffle,\n",
    "                                   scoring= 'neg_mean_absolute_error',\n",
    "                                   return_train_score= True,\n",
    "                                   return_estimator= True)\n",
    "printTestResult(sgd_reg_cv_result, \"SGD Regression\")"
   ]
  },
  {
   "cell_type": "markdown",
   "metadata": {},
   "source": [
    "## Polynomial Regression model with Degree 2"
   ]
  },
  {
   "cell_type": "code",
   "execution_count": 18,
   "metadata": {},
   "outputs": [
    {
     "name": "stdout",
     "output_type": "stream",
     "text": [
      "Mean absolute error of Polynomial Regression model on the train set:\n",
      " 0.461 +/- 0.003\n",
      "Mean absolute error of linear Polynomial Regression on the test set:\n",
      " 0.485 +/- 0.030\n"
     ]
    }
   ],
   "source": [
    "poly_reg_pipeline = Pipeline([\n",
    "  ('poly', PolynomialFeatures(degree= 2)),\n",
    "  ('feature_scaling', StandardScaler()),\n",
    "  ('lin_reg', LinearRegression())\n",
    "])\n",
    "\n",
    "poly_reg_cv_result = cross_validate(poly_reg_pipeline,\n",
    "                                    com_train_features,\n",
    "                                    com_train_labels,\n",
    "                                    cv = cross_validation_shuffle,\n",
    "                                    scoring= 'neg_mean_absolute_error', \n",
    "                                    return_train_score= True,\n",
    "                                    return_estimator= True)\n",
    "\n",
    "printTestResult(poly_reg_cv_result, \"Polynomial Regression\")"
   ]
  },
  {
   "cell_type": "markdown",
   "metadata": {},
   "source": [
    "### for only interaction features\n",
    "interaction features means exclude all higher order features"
   ]
  },
  {
   "cell_type": "code",
   "execution_count": 19,
   "metadata": {},
   "outputs": [
    {
     "name": "stdout",
     "output_type": "stream",
     "text": [
      "Mean absolute error of Interactive Polynomial result model on the train set:\n",
      " 0.478 +/- 0.003\n",
      "Mean absolute error of linear Interactive Polynomial result on the test set:\n",
      " 0.497 +/- 0.024\n"
     ]
    }
   ],
   "source": [
    "poly_reg_interact_pipeline = Pipeline([\n",
    "  ('poly', PolynomialFeatures(degree= 2, interaction_only= True)),\n",
    "  ('scaler', StandardScaler()),\n",
    "  ('lin_reg', LinearRegression())\n",
    "])\n",
    "\n",
    "poly_interactive_result = cross_validate(poly_reg_interact_pipeline,\n",
    "                                         com_train_features,\n",
    "                                         com_train_labels,\n",
    "                                         cv= cross_validation_shuffle,\n",
    "                                         scoring='neg_mean_absolute_error',\n",
    "                                         return_train_score= True,\n",
    "                                         return_estimator= True)\n",
    "\n",
    "printTestResult(poly_interactive_result, 'Interactive Polynomial result')"
   ]
  },
  {
   "cell_type": "code",
   "execution_count": 21,
   "metadata": {},
   "outputs": [
    {
     "data": {
      "image/png": "[encoded data removed]",
      "text/plain": [
       "<Figure size 640x480 with 1 Axes>"
      ]
     },
     "metadata": {},
     "output_type": "display_data"
    }
   ],
   "source": [
    "degree = [x for x in range(1, 6)]\n",
    "\n",
    "train_scores, test_scores =  validation_curve(\n",
    "  poly_reg_interact_pipeline, com_train_features, com_train_labels, param_name= 'poly__degree',\n",
    "  param_range= degree, cv = cross_validation_shuffle, scoring='neg_mean_absolute_error', n_jobs=2\n",
    ")\n",
    "\n",
    "train_errors, test_errors = -train_scores, -test_scores\n",
    "\n",
    "plt.plot(degree, train_errors.mean(axis= 1), 'b-x', label='Training error')\n",
    "plt.plot(degree, test_errors.mean(axis= 1), 'r-x', label='Test error')\n",
    "plt.legend()\n",
    "\n",
    "plt.xlabel('degree')\n",
    "plt.ylabel('mean absolute error (k$)')\n",
    "plots = plt.title('Validation curve for polynomial regression')\n"
   ]
  },
  {
   "cell_type": "code",
   "execution_count": null,
   "metadata": {},
   "outputs": [],
   "source": []
  }
 ],
 "metadata": {
  "kernelspec": {
   "display_name": "jupitor_notebook",
   "language": "python",
   "name": "python3"
  },
  "language_info": {
   "codemirror_mode": {
    "name": "ipython",
    "version": 3
   },
   "file_extension": ".py",
   "mimetype": "text/x-python",
   "name": "python",
   "nbconvert_exporter": "python",
   "pygments_lexer": "ipython3",
   "version": "3.10.12"
  }
 },
 "nbformat": 4,
 "nbformat_minor": 2
}

{
 "cells": [
  {
   "cell_type": "markdown",
   "metadata": {},
   "source": [
    "### KNN algorithm\n"
   ]
  },
  {
   "cell_type": "code",
   "execution_count": 9,
   "metadata": {},
   "outputs": [],
   "source": [
    "import pandas as pd\n",
    "import seaborn as sns\n",
    "\n",
    "from sklearn.preprocessing import StandardScaler\n",
    "from sklearn.pipeline import Pipeline\n",
    "from sklearn.linear_model import SGDRegressor\n"
   ]
  },
  {
   "cell_type": "code",
   "execution_count": 4,
   "metadata": {},
   "outputs": [],
   "source": [
    "chunk_size = 20000"
   ]
  },
  {
   "cell_type": "code",
   "execution_count": 18,
   "metadata": {},
   "outputs": [],
   "source": [
    "iter = 1# \n",
    "# Load the dataset from link(\"https://archive.ics.uci.edu/ml/machine-learning-databases/00246/3D_spatial_network.txt\"). \n",
    "data = pd.read_csv('https://archive.ics.uci.edu/ml/machine-learning-databases/00246/3D_spatial_network.txt')\n",
    "scaler = StandardScaler()\n",
    "\n"
   ]
  },
  {
   "cell_type": "code",
   "execution_count": 19,
   "metadata": {},
   "outputs": [],
   "source": [
    "data.to_csv('laser_data.csv')"
   ]
  },
  {
   "cell_type": "code",
   "execution_count": 34,
   "metadata": {},
   "outputs": [],
   "source": [
    "data = pd.read_csv('laser_data.csv')"
   ]
  },
  {
   "cell_type": "code",
   "execution_count": 35,
   "metadata": {},
   "outputs": [],
   "source": [
    "y = data.iloc[:, 3].to_numpy()\n",
    "X = data.iloc[:, :3]\n",
    "data = scaler.fit_transform(X)"
   ]
  },
  {
   "cell_type": "code",
   "execution_count": 36,
   "metadata": {},
   "outputs": [
    {
     "data": {
      "text/plain": [
       "(434873, 3)"
      ]
     },
     "execution_count": 36,
     "metadata": {},
     "output_type": "execute_result"
    }
   ],
   "source": [
    "data.shape"
   ]
  },
  {
   "cell_type": "code",
   "execution_count": 38,
   "metadata": {},
   "outputs": [
    {
     "name": "stdout",
     "output_type": "stream",
     "text": [
      "array of data: (434873, 4)\n"
     ]
    }
   ],
   "source": [
    "# data.to_csv('gr_2.csv')\n",
    "\n",
    "import numpy as np\n",
    "data_array = np.concatenate((data, y[:, np.newaxis]), axis= 1)\n",
    "print('array of data:', data_array.shape)\n",
    "np.savetxt('gr_2.csv', data_array, delimiter= ',')"
   ]
  },
  {
   "cell_type": "code",
   "execution_count": 39,
   "metadata": {},
   "outputs": [
    {
     "name": "stdout",
     "output_type": "stream",
     "text": [
      "(20000, 4)\n",
      "(20000, 4)\n",
      "(20000, 4)\n",
      "(20000, 4)\n",
      "(20000, 4)\n",
      "(20000, 4)\n",
      "(20000, 4)\n",
      "intercept after 7 iter is: [57.10734149]\n",
      "longitute coefiicient after 7th iter: [0.04377026 0.06775676 0.1816753 ]\n",
      "(20000, 4)\n",
      "(20000, 4)\n",
      "(20000, 4)\n",
      "(20000, 4)\n",
      "(20000, 4)\n",
      "(20000, 4)\n",
      "(20000, 4)\n",
      "(20000, 4)\n",
      "(20000, 4)\n",
      "(20000, 4)\n",
      "(20000, 4)\n",
      "(20000, 4)\n",
      "(20000, 4)\n",
      "(20000, 4)\n",
      "(14872, 4)\n"
     ]
    }
   ],
   "source": [
    "iter= 1\n",
    "sgd_regressor = SGDRegressor(random_state= 10)\n",
    "\n",
    "sgd_pipe = Pipeline(steps=[\n",
    "    ('scaler', scaler),\n",
    "    ('sgd', sgd_regressor)\n",
    "])\n",
    "val_iter = 7\n",
    "for iter_data in pd.read_csv('gr_2.csv', chunksize= chunk_size, iterator= True):\n",
    "    print(iter_data.shape)\n",
    "    if (iter == val_iter):\n",
    "        print('intercept after {0} iter is: {1}'.format(val_iter, sgd_regressor.intercept_))\n",
    "        print('longitute coefiicient after {0}th iter: {1}'.format(val_iter, sgd_regressor.coef_))\n",
    "    partial_x_train = iter_data.iloc[:, 0:3]\n",
    "    partial_y_train = iter_data.iloc[:, 3]\n",
    "    scaled_data = scaler.fit_transform(partial_x_train)\n",
    "    sgd_regressor.partial_fit(scaled_data, partial_y_train)\n",
    "    iter += 1\n",
    "    # sgd_pipe.partial_fit(partial_x_train, partial_y_train)"
   ]
  },
  {
   "cell_type": "code",
   "execution_count": null,
   "metadata": {},
   "outputs": [],
   "source": []
  }
 ],
 "metadata": {
  "kernelspec": {
   "display_name": "jupyter_notebook",
   "language": "python",
   "name": "python3"
  },
  "language_info": {
   "codemirror_mode": {
    "name": "ipython",
    "version": 3
   },
   "file_extension": ".py",
   "mimetype": "text/x-python",
   "name": "python",
   "nbconvert_exporter": "python",
   "pygments_lexer": "ipython3",
   "version": "3.10.12"
  }
 },
 "nbformat": 4,
 "nbformat_minor": 2
}

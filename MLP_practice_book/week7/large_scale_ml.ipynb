{
 "cells": [
  {
   "cell_type": "markdown",
   "metadata": {},
   "source": [
    "## Large scale machine learning in Sklearn\n",
    "* For large scale data models we use following methods\n",
    "* - fit() vs partial_fit() \n",
    "* combining preprocessing and incremental learning"
   ]
  },
  {
   "cell_type": "markdown",
   "metadata": {},
   "source": [
    "### Incremental Learning in sklearn\n",
    "to perform incremental learning, Scikit-learn implements  ```partial_fit``` method that hels in training an out-of-memory dataset. In otherwords, it has the ability to learn incrementally from a batch of instances.<br><br>\n",
    "In this colab, we will see an example of how to read, process, and train on such a large dataset that can't be loaded in memeory entirely.<br><br>\n",
    "This method is expected to be called several times consecutively on different chunks of a dataset so as to implement out-of-core(online) learning. This function has some performance overhead, so it's recommended to call it on a considerable large batch of data(that fits into the memory), to overcomethe limitation of overhead."
   ]
  },
  {
   "cell_type": "markdown",
   "metadata": {},
   "source": [
    "### partial_fit()attributes:\n",
    "partial_fit(X, y, [classes], [sample_weights]):\n",
    "where, \n",
    "* x: array of shape (n_samples, n_features) n_smaples:- num_of_samples, n_features:- number of features\n",
    "* y: array of target variable\n",
    "* classes: array of shape(n_classes,) containing a list of all the classes that can possibly appear in the y vector.\n",
    "must be provided at the firt call to partial_fit, can be omitted in subsequent calls\n",
    "* sample_weight: array of shape containing weights applied to individual samples\n",
    "---\n",
    "For classification tasks, we have to pass the list of possible target class laels in  ```classes``` parameter to cope-up with the unseen target classes in the 1st batch of the data "
   ]
  },
  {
   "cell_type": "markdown",
   "metadata": {},
   "source": [
    "The partial fit method is available in the following classe: -\n",
    "* **Classification** \n",
    "* - MultinomialNB\n",
    "* - BernoulliNB\n",
    "* - SGDClassifier\n",
    "* - Perceptron\n",
    "* **Regression:**\n",
    "* - SGDRegressor\n",
    "* **Clustering:**\n",
    "* - MiniBatchKmeans"
   ]
  },
  {
   "cell_type": "markdown",
   "metadata": {},
   "source": [
    "### Example"
   ]
  },
  {
   "cell_type": "code",
   "execution_count": 1,
   "metadata": {},
   "outputs": [],
   "source": [
    "from sklearn.linear_model import SGDClassifier\n",
    "from sklearn.datasets import make_classification\n",
    "from sklearn.model_selection import train_test_split\n",
    "from sklearn.metrics import ConfusionMatrixDisplay\n",
    "from sklearn.metrics import classification_report"
   ]
  },
  {
   "cell_type": "code",
   "execution_count": 2,
   "metadata": {},
   "outputs": [],
   "source": [
    "X, y = make_classification(n_samples= 50000, n_features= 10,\n",
    "                           n_classes= 3, n_clusters_per_class= 1)\n",
    "x_train, x_test, y_train, y_test = train_test_split(X, y, test_size= 0.15)"
   ]
  },
  {
   "cell_type": "code",
   "execution_count": 4,
   "metadata": {},
   "outputs": [],
   "source": [
    "clf1 = SGDClassifier(max_iter= 1000, tol= 0.01)"
   ]
  },
  {
   "cell_type": "code",
   "execution_count": 5,
   "metadata": {},
   "outputs": [
    {
     "data": {
      "text/plain": [
       "0.8179764705882353"
      ]
     },
     "execution_count": 5,
     "metadata": {},
     "output_type": "execute_result"
    }
   ],
   "source": [
    "clf1.fit(x_train, y_train)\n",
    "clf1.score(x_train, y_train)"
   ]
  },
  {
   "cell_type": "code",
   "execution_count": 6,
   "metadata": {},
   "outputs": [
    {
     "data": {
      "text/plain": [
       "0.8224"
      ]
     },
     "execution_count": 6,
     "metadata": {},
     "output_type": "execute_result"
    }
   ],
   "source": [
    "clf1.score(x_test, y_test)"
   ]
  },
  {
   "cell_type": "code",
   "execution_count": 7,
   "metadata": {},
   "outputs": [
    {
     "data": {
      "image/png": "[encoded data removed]",
      "text/plain": [
       "<Figure size 640x480 with 2 Axes>"
      ]
     },
     "metadata": {},
     "output_type": "display_data"
    }
   ],
   "source": [
    "Cf_m = ConfusionMatrixDisplay.from_estimator(clf1, x_test, y_test)"
   ]
  },
  {
   "cell_type": "code",
   "execution_count": 8,
   "metadata": {},
   "outputs": [
    {
     "name": "stdout",
     "output_type": "stream",
     "text": [
      "confusion report               precision    recall  f1-score   support\n",
      "\n",
      "           0       0.82      0.88      0.85      2491\n",
      "           1       0.87      0.86      0.86      2466\n",
      "           2       0.78      0.73      0.76      2543\n",
      "\n",
      "    accuracy                           0.82      7500\n",
      "   macro avg       0.82      0.82      0.82      7500\n",
      "weighted avg       0.82      0.82      0.82      7500\n",
      "\n"
     ]
    }
   ],
   "source": [
    "print('confusion report', classification_report(y_test, clf1.predict(x_test)))"
   ]
  },
  {
   "cell_type": "code",
   "execution_count": 9,
   "metadata": {},
   "outputs": [],
   "source": [
    "import numpy as np"
   ]
  },
  {
   "cell_type": "code",
   "execution_count": 10,
   "metadata": {},
   "outputs": [],
   "source": [
    "train_data = np.concatenate((x_train, y_train[:, np.newaxis]), axis= 1)\n",
    "a = np.asarray(train_data)\n",
    "np.savetxt('train_data.csv', a, delimiter=',')"
   ]
  },
  {
   "cell_type": "code",
   "execution_count": 12,
   "metadata": {},
   "outputs": [],
   "source": [
    "clf2 = SGDClassifier(max_iter= 1000, tol= 0.01)\n"
   ]
  },
  {
   "cell_type": "markdown",
   "metadata": {},
   "source": [
    "### Processing data chunk by chunk\n"
   ]
  },
  {
   "cell_type": "code",
   "execution_count": 13,
   "metadata": {},
   "outputs": [
    {
     "name": "stdout",
     "output_type": "stream",
     "text": [
      "after iter 1\n",
      "coefficent is: [[ -1.90933805   4.95263531  -1.22626532  -9.64035923  25.72327031\n",
      "   24.16436306   5.93243807  -1.09306276   1.85296565   8.91904286]\n",
      " [ -8.37419634  13.41257457   0.67898233   5.10349038 -36.50766069\n",
      "  -49.38462078  18.62858906  19.08925417 -23.83292803  -8.38829801]\n",
      " [ 14.3521199    6.40099422  -4.12734915  12.68106745 -17.52860482\n",
      "    1.30095725 -17.18166787 -13.65644562 -11.52795923 -11.10550271]]\n",
      "Intercept is: [-18.14589396 -52.21568529 -47.46024024]\n",
      "after iter 2\n",
      "coefficent is: [[ -2.03941712  -1.36808961   1.29960916   5.82468291  22.82686299\n",
      "   20.97372183  -0.20312966  14.91798045 -10.67958502   8.04770455]\n",
      " [ -6.11851968 -10.65843037   7.52960871  -5.05705127 -30.91211453\n",
      "  -40.49194926   3.2821487   -6.88430478   0.63848972  -7.4771358 ]\n",
      " [ 12.27386008  -0.54923258  -3.26820839  -3.8512591  -10.85456238\n",
      "    5.4156609   -8.56513408  -0.5550072    1.17889815  -8.18162087]]\n",
      "Intercept is: [-17.1685309  -29.28377916 -42.01432243]\n",
      "after iter 3\n",
      "coefficent is: [[ -3.93514495  -3.37956751  -1.92270217   3.32102274  20.13280628\n",
      "   15.58991671   2.32147795   7.18412399  -3.31282307   7.92094211]\n",
      " [ -4.36463413  -1.90096824  -1.90634622   5.60894019 -21.07245531\n",
      "  -27.86662958   6.19613398   4.76694736  -3.28666086  -5.02245963]\n",
      " [  5.25875018   2.938119     8.78081534  10.59834087  -0.42412407\n",
      "    6.71781921   3.16527754  -2.6470017   12.85832984  -2.16081706]]\n",
      "Intercept is: [ -3.05815511 -29.38036807 -23.94708519]\n",
      "after iter 4\n",
      "coefficent is: [[ -3.1624677    7.69109179   0.28629717   1.02226627  11.3939979\n",
      "    7.54955626  -2.59459749  -3.76828343   1.63578386   4.84314922]\n",
      " [ -6.34194615  -1.64995508   5.6531598    1.78155682 -20.48313687\n",
      "  -29.94532604   2.44459755  -3.76985825  -4.56876317  -4.07323409]\n",
      " [  4.59669674  -1.6623944    1.66627697  -7.51968615  -2.99301713\n",
      "    3.14372571  -9.21020341  -3.94540756  10.35408974  -2.7230229 ]]\n",
      "Intercept is: [ -6.06521319 -20.69171415 -12.80342797]\n",
      "after iter 5\n",
      "coefficent is: [[ -6.36377526  -1.51662186  -3.29081344  -3.2616084   11.18558027\n",
      "    2.97454933  -3.09594178  -4.33221099  -3.23557418   6.01012027]\n",
      " [ -5.56717028   3.9414603    1.01535546  -3.32323139 -10.46333859\n",
      "  -18.46551058  -6.12195017  -8.1399453   -4.88941807  -1.18405573]\n",
      " [  4.04293656   3.57720989   7.67227626  -5.67117689  -2.32151851\n",
      "    3.08851208  -4.76708925   6.78415423   4.89480371  -2.29606399]]\n",
      "Intercept is: [ -4.26540657 -15.45413194 -12.69946912]\n",
      "after iter 6\n",
      "coefficent is: [[ -1.5916298   -0.40692239   2.21951608   3.10257459   7.04023786\n",
      "    5.15819309   2.17554942   1.50863246   0.85299913   2.85291161]\n",
      " [ -1.65915173  -3.46879415  -0.31681646   4.83363525 -15.56811336\n",
      "  -18.45649972   1.58593847  -0.40612468  -0.93824543  -4.31359649]\n",
      " [  3.78697655   6.22236799  -1.27135359   9.21662812  -2.98301177\n",
      "    2.05180809   0.34253114  -2.02880836  -3.59429121  -2.40790213]]\n",
      "Intercept is: [ -8.70131449 -18.39812612 -15.74983412]\n",
      "after iter 7\n",
      "coefficent is: [[ -3.66817028   2.28783942  -1.02728232  -4.9470558    9.75720258\n",
      "    5.15811137   1.26726097   1.97258064   0.79355695   4.51724398]\n",
      " [ -3.03557525   0.05217336   3.76464209  -2.8521958  -13.33039433\n",
      "  -18.00209349   4.34069902   0.08107752   1.75978127  -3.07144323]\n",
      " [  4.80135824   2.00182516  -1.02793846   3.6068896   -3.04127262\n",
      "    3.3721382    2.66015528  -3.46747645   0.59358537  -2.81721877]]\n",
      "Intercept is: [ -4.34000499 -13.1535612  -15.24297746]\n",
      "after iter 8\n",
      "coefficent is: [[ -2.30578751   2.76214631  -1.95901781  -0.37277256   6.61541951\n",
      "    3.74396061  -0.97902214   1.44074137  -0.16893641   2.99288489]\n",
      " [ -6.49180505  -0.46069404   5.67253186   1.03357811  -5.67115203\n",
      "  -14.73826756  -0.11829671   0.0337       2.33376108   0.69671676]\n",
      " [  3.61616817   1.49651556  -0.61991369  -1.37179199  -1.37146233\n",
      "    3.49600522  -3.31237593  -3.77202925  -7.39161641  -1.8294085 ]]\n",
      "Intercept is: [  0.18616663 -13.39397523  -5.85994007]\n",
      "after iter 9\n",
      "coefficent is: [[ -1.60048996   2.87422675  -0.92978784  -3.56705588   8.94470806\n",
      "    7.12762971   3.98884296   1.40460674   1.44417627   3.4622046 ]\n",
      " [ -3.85423693   0.49812372   2.81967928  -4.8097698   -6.74748767\n",
      "  -12.26743432   0.49987036   2.90104506  -2.17232639  -0.66180422]\n",
      " [  4.81503774   1.10741854   0.34316316   1.00732146  -3.47821016\n",
      "    2.9361511   -0.15012773   0.96302554  -1.2901855   -2.96149404]]\n",
      "Intercept is: [-4.16606447 -9.1211259  -9.27578366]\n",
      "after iter 10\n",
      "coefficent is: [[-3.9934073  -2.74416002  1.367745    0.59318526  6.35737234  1.17800382\n",
      "   1.01028662  0.99343909  0.99856941  3.56093186]\n",
      " [-5.16152124 -0.71499638 -2.56693306 -4.56358318 -2.66883925 -9.80351635\n",
      "   0.20070505  1.20487219  1.83256023  1.13937885]\n",
      " [ 3.59828714  3.9530495   0.47322028  0.23392006 -3.33505978  1.42864527\n",
      "  -0.29276136 -0.06261814 -1.40174576 -2.44721015]]\n",
      "Intercept is: [-4.11836502 -7.32061693 -7.38941838]\n",
      "after iter 11\n",
      "coefficent is: [[ -3.04038116  -0.07943971   1.21593337  -0.49963424   5.42783826\n",
      "    1.5082936    0.36834471  -1.72863532   1.66036611   2.89806893]\n",
      " [ -0.08060417  -3.7400783    1.06701558  -2.75255828  -9.61611874\n",
      "  -10.11478511  -5.48222995  -0.87521336   0.73192198  -3.0281772 ]\n",
      " [  2.81551837  -0.51669506   1.39311442   1.25687405   0.13915596\n",
      "    3.97774261  -1.24012805   3.0188629   -2.36228709  -1.04038369]]\n",
      "Intercept is: [ 0.98876113 -8.24946332 -9.19339298]\n",
      "after iter 12\n",
      "coefficent is: [[-3.56996513  1.53861907  0.0737371   2.53938857  5.62928     0.99692388\n",
      "   0.47785221  0.28781402  1.12812041  3.16617236]\n",
      " [-1.78742274  2.48731122 -1.29857379  0.25357259 -6.29268684 -8.98054262\n",
      "   5.32830856 -1.76350413  1.7721887  -1.31333823]\n",
      " [ 2.12229244 -1.20504995  2.21827872  0.13135463 -2.63661108  0.14597063\n",
      "   0.26710041  2.4236962  -2.13884505 -1.65639457]]\n",
      "Intercept is: [ -3.09478417 -11.3720557   -9.97143071]\n",
      "after iter 13\n",
      "coefficent is: [[-1.79361381e+00  1.70722601e+00 -9.37009831e-01 -3.90069148e-01\n",
      "   5.44614178e+00  3.22464736e+00 -3.41233258e-01  1.34822553e-01\n",
      "   3.81049994e-01  2.42358557e+00]\n",
      " [-2.61573544e+00 -8.92100192e-04 -4.03098824e+00 -2.36400576e+00\n",
      "  -4.96516380e+00 -8.72696538e+00 -1.47256857e+00  9.68604740e-01\n",
      "   1.88496997e-01 -5.71905637e-01]\n",
      " [ 2.88489617e+00 -2.31150137e-01 -1.52687584e+00 -3.01430140e+00\n",
      "  -9.93908074e-01  2.89329932e+00 -5.94497857e-01  4.79848266e-01\n",
      "  -1.85629512e+00 -1.42757884e+00]]\n",
      "Intercept is: [-4.49998821 -6.86613312 -5.45862959]\n",
      "after iter 14\n",
      "coefficent is: [[-0.81688327  0.93949559 -0.62272636 -1.47034096  5.53207797  4.64374963\n",
      "   0.27036594 -2.17717042  1.13700241  2.07464792]\n",
      " [-1.56151137 -4.00082507  3.07172712  1.85303264 -6.04390393 -8.41414876\n",
      "  -2.41566267  1.25092412 -0.06411242 -1.32122195]\n",
      " [ 3.9392168  -0.49588529  0.05898797 -0.0962027  -3.12845898  2.10773319\n",
      "   0.74176578  2.02084515 -3.0121049  -2.5128233 ]]\n",
      "Intercept is: [-1.68681618 -8.18634427 -8.24924215]\n",
      "after iter 15\n",
      "coefficent is: [[-2.22247299 -0.5525139   1.37839924 -1.03944618  3.75821319  0.88461325\n",
      "   1.40483175 -2.52042488 -0.71872955  2.05180977]\n",
      " [-2.83165014  1.24241288 -2.85207312 -0.911854   -4.30557549 -8.3346388\n",
      "  -0.72989137  2.98231791 -0.25598189 -0.27888787]\n",
      " [ 1.53989523 -0.52606516 -1.34404586 -0.10040388 -0.55129331  1.52277406\n",
      "   2.41210162 -1.13149731  2.85942704 -0.76861735]]\n",
      "Intercept is: [-2.33925708 -6.84669351 -8.73920805]\n",
      "after iter 16\n",
      "coefficent is: [[-2.2766675   1.09389697 -0.74420991 -0.50724728  3.39019679  0.42793331\n",
      "   0.69703664 -1.28942791 -0.57728885  1.95560864]\n",
      " [-0.66069731 -0.81037207 -0.22008011 -0.58036514 -5.50577181 -6.62791132\n",
      "  -0.77667756  0.69561907  0.38955357 -1.49705383]\n",
      " [ 2.07583518  1.44037799  1.18104114 -1.32968241 -0.79889299  1.99477177\n",
      "  -0.73990715 -1.56589739 -2.62748956 -1.05385385]]\n",
      "Intercept is: [-1.16656671 -8.62702996 -6.24482896]\n",
      "after iter 17\n",
      "coefficent is: [[-2.05460657 -0.70524443 -1.54629697 -0.55850847  4.76148165  2.15698806\n",
      "  -1.5542461   1.74115135  0.6792198   2.30631605]\n",
      " [-1.57287595 -2.68850453 -1.33125948 -0.71569871 -5.58741449 -7.95466748\n",
      "   1.98318882  0.71449566  0.46830416 -1.17161832]\n",
      " [ 3.0484185  -0.12453191 -1.20161925 -0.38847801 -1.52970548  2.55844519\n",
      "   0.19594445 -1.80255578 -0.16332175 -1.66103061]]\n",
      "Intercept is: [-1.77667319 -6.30781384 -5.10264279]\n",
      "after iter 18\n",
      "coefficent is: [[-1.60292731  0.26032193 -0.71584176 -0.7609445   4.76379099  2.77429277\n",
      "  -0.42497278 -0.87826698 -0.5788828   2.13304519]\n",
      " [-2.75893843  0.26305499 -2.7412844  -0.98830321 -4.31352542 -8.24392283\n",
      "   0.4232136   0.06379591  0.34801188 -0.30942858]\n",
      " [ 2.87731169  1.6231845   1.93914127  0.87076118 -1.93376333  1.90510532\n",
      "   0.79154207 -0.86979859  0.20953029 -1.72365836]]\n",
      "Intercept is: [-1.8000133  -4.19876119 -5.65216264]\n",
      "after iter 19\n",
      "coefficent is: [[-0.56176117  0.64077501 -0.9095677   0.02014389  3.14307831  2.50543951\n",
      "   0.0777982  -0.0286454   1.53808524  1.2163386 ]\n",
      " [-0.60253163  0.32866773 -0.2948905   1.74396832 -5.36486801 -6.40212357\n",
      "  -0.52171065  1.50149429  0.17086843 -1.47463515]\n",
      " [ 3.05156177 -0.1797053   0.41044939 -0.85925321  0.53284123  4.70869298\n",
      "  -1.02546718 -2.05793364 -1.93791276 -1.00607209]]\n",
      "Intercept is: [-2.80897611 -6.2419286  -5.15140338]\n",
      "after iter 20\n",
      "coefficent is: [[-1.51589829e+00 -1.66478958e+00 -4.64644486e-01 -1.10509070e+00\n",
      "   3.64573851e+00  1.72949802e+00 -1.97968657e+00 -5.85041417e-01\n",
      "   1.17800103e-01  1.74382577e+00]\n",
      " [-6.53572308e-01  7.55064691e-01  1.32793820e+00 -1.45611611e+00\n",
      "  -5.02266480e+00 -6.11556477e+00 -3.31142739e-01  5.85788456e-05\n",
      "   2.03454463e+00 -1.34610516e+00]\n",
      " [ 1.76189311e+00  1.62400020e+00  8.08294437e-01 -6.54851166e-01\n",
      "   9.75322278e-02  2.50006300e+00 -2.89296012e+00 -1.82890601e+00\n",
      "  -7.75312994e-01 -6.47725642e-01]]\n",
      "Intercept is: [-2.2813552  -6.2376935  -2.79327636]\n",
      "after iter 21\n",
      "coefficent is: [[-0.65249774  1.41858302 -0.80448337  0.49941282  2.22091394  1.42245128\n",
      "   0.37808903 -1.05589578  1.16856808  0.95792081]\n",
      " [-1.70734294 -1.46417046 -0.33558478 -0.45175291 -2.6627034  -5.09472243\n",
      "  -0.06015051 -0.50208372 -0.76889181 -0.18936149]\n",
      " [ 0.40960418  1.42894146 -0.43103334  0.73505318  0.03161213  0.59051298\n",
      "  -0.5463075  -0.47551997  0.80219561 -0.14773953]]\n",
      "Intercept is: [-0.88160708 -6.18005951 -7.44223689]\n",
      "after iter 22\n",
      "coefficent is: [[-0.76453053  1.17779069 -0.62678361  1.88269937  3.27901654  2.37083207\n",
      "   1.46318613  2.78059091  0.95539751  1.33770053]\n",
      " [-1.76859244  1.06989832  0.30360843  1.45828746 -4.91287462 -7.51928742\n",
      "   0.5369287   0.28508815 -1.16218725 -0.88162512]\n",
      " [ 0.63037231 -2.23457498 -1.65505399 -0.68740794 -0.32783547  0.51707394\n",
      "   0.93717371  0.20760186 -1.51050188 -0.34714161]]\n",
      "Intercept is: [-2.22761056 -6.10558636 -5.18551025]\n",
      "after iter 23\n",
      "coefficent is: [[-2.21498112  1.07773353  0.0710264  -0.89524952  5.51942694  2.72726038\n",
      "   1.10454774  0.20894783  0.69176881  2.60922831]\n",
      " [-1.44149675  0.67470201  0.72246697  0.95635939 -5.12082291 -7.29034858\n",
      "  -0.31049045  0.14406951  0.07711009 -1.07379165]\n",
      " [ 1.76875908 -0.60622195  0.32627254 -0.04038952 -1.57388301  0.77039267\n",
      "   1.39596018  1.30776871  0.40958924 -1.18210731]]\n",
      "Intercept is: [-0.13543972 -6.09662235 -4.74439838]\n",
      "after iter 24\n",
      "coefficent is: [[-1.02405896e+00 -5.04592346e-01 -1.49653403e-02  1.21731764e-01\n",
      "   3.86204353e+00  2.62412635e+00 -1.11779206e+00 -8.66336669e-01\n",
      "  -1.03648967e+00  1.62316323e+00]\n",
      " [-1.60796130e+00 -6.05742215e-01 -2.02902297e-01  1.19500869e+00\n",
      "  -4.19301339e+00 -6.55163242e+00  1.17355528e+00  1.06785221e+00\n",
      "   1.05922671e+00 -7.14493428e-01]\n",
      " [ 1.16193986e+00  2.01451836e-01  4.85797357e-01 -4.07983543e-03\n",
      "  -1.82778466e-01  1.39165732e+00  1.55986952e+00  5.30325175e-01\n",
      "  -7.57034444e-01 -5.05775630e-01]]\n",
      "Intercept is: [-2.19681145 -5.68913864 -5.53751562]\n",
      "after iter 25\n",
      "coefficent is: [[-0.55265453 -0.83940295 -1.02556229 -0.28307532  3.56019451  2.95182392\n",
      "  -0.77538061  0.12267799  0.06005897  1.34552984]\n",
      " [-2.94424241  1.11883537  1.65323163 -0.00922338 -2.3077704  -6.40930989\n",
      "  -1.06702553 -0.18525938 -0.45040019  0.40006016]\n",
      " [ 2.48674619 -0.45408004 -0.8834623   0.296012   -1.58459945  1.7366879\n",
      "  -0.13811262  1.59680996  0.73536324 -1.46211493]]\n",
      "Intercept is: [-1.40434951 -4.8980219  -3.19696552]\n",
      "after iter 26\n",
      "coefficent is: [[-0.27294632  0.40142441  0.71672779  1.59358146  2.48942539  2.21853235\n",
      "   1.22352901 -0.76907421 -0.83372137  0.89712494]\n",
      " [-0.3228401  -0.54475983 -0.11216457  0.29149541 -4.12531333 -4.73167049\n",
      "   0.10365391  1.06901279 -0.16778623 -1.18803748]\n",
      " [ 2.38155784 -0.4320161   0.05671945  0.52168829 -1.01284332  2.18836922\n",
      "  -0.90774044 -0.20267964  0.85455363 -1.23969607]]\n",
      "Intercept is: [-1.42619728 -4.15017107 -3.22667595]\n",
      "after iter 27\n",
      "coefficent is: [[-0.82698094  0.50718173  0.11694779 -0.83526331  2.3893876   1.36020308\n",
      "   0.24278192  0.16232765 -0.2734107   1.07873642]\n",
      " [-0.34305557  0.72761256  0.40861145 -0.17379594 -3.61781825 -4.23116992\n",
      "   0.67765558 -0.56914327 -0.64251212 -1.01879742]\n",
      " [ 0.77638335 -0.4629791   0.21429309 -1.82338112 -0.19683204  0.8521508\n",
      "   1.0644498  -1.35876595  0.90265826 -0.36171426]]\n",
      "Intercept is: [ 0.00799683 -3.05894613 -4.68001204]\n",
      "after iter 28\n",
      "coefficent is: [[-1.07991952  0.58184844  0.87707996  0.09691175  3.11447467  1.77027446\n",
      "  -0.3240734   1.05377996 -1.47025354  1.4068548 ]\n",
      " [ 0.02252965  0.36556827 -0.25757161 -0.25413686 -4.74696197 -4.90828685\n",
      "  -0.38690788 -0.19543156 -2.14306891 -1.51885673]\n",
      " [ 1.51103001  0.18552657  0.09361418 -1.15569952 -0.20118488  1.84774681\n",
      "   1.44713256  0.68413392  1.00611003 -0.64611533]]\n",
      "Intercept is: [-1.40317747 -4.82576871 -5.01753986]\n",
      "after iter 29\n",
      "coefficent is: [[-1.62224136  0.78804749 -0.79743488  0.50812485  3.50974653  1.44323358\n",
      "  -0.46553506  0.81014106 -0.89685798  1.74152964]\n",
      " [-1.08325791  0.7757548  -0.09512065  1.57123781 -3.7694855  -5.39665976\n",
      "   0.49233004  0.34701097  0.51241142 -0.7818916 ]\n",
      " [ 2.09577265  0.63046712  1.35569886  0.61479833 -1.52176983  1.26979964\n",
      "   0.79797105 -0.76516363  0.77018033 -1.29150741]]\n",
      "Intercept is: [-2.08850923 -4.49522966 -3.98841533]\n",
      "after iter 30\n",
      "coefficent is: [[-1.24006739 -0.0396186  -0.35861908  0.09491753  2.74309732  1.16585605\n",
      "   0.09021487 -1.07899479 -0.39876103  1.35040205]\n",
      " [-1.83355712 -0.84128033  2.21919677  0.45908769 -3.03786535 -5.65688223\n",
      "  -0.22969868  0.66565745 -0.29791299 -0.26009093]\n",
      " [ 1.32087594 -0.49239991  0.21085386  1.11271549 -0.35634054  1.42744593\n",
      "  -0.30616877  0.34344989  1.0581964  -0.62222065]]\n",
      "Intercept is: [-2.08278201 -4.81836964 -4.31642639]\n",
      "after iter 31\n",
      "coefficent is: [[-1.88872465e+00 -1.07148520e+00  2.92506201e-01  1.23113014e-01\n",
      "   3.12436499e+00  6.79482872e-01  3.94553810e-01  1.08740714e+00\n",
      "  -1.21757102e+00  1.72158645e+00]\n",
      " [-1.14385178e+00 -2.90453311e-01  3.53121545e-01 -2.26271562e-01\n",
      "  -4.11642299e+00 -5.84012011e+00  9.24631601e-01  1.70081595e-01\n",
      "  -5.53639477e-03 -8.68921486e-01]\n",
      " [ 1.44870453e+00 -1.03617035e+00 -4.85341852e-01  1.65618423e-01\n",
      "  -2.61788065e-01  1.69984451e+00  9.22358336e-02 -5.65511853e-02\n",
      "   1.01140950e+00 -6.41385006e-01]]\n",
      "Intercept is: [-0.81441257 -3.873602   -4.00249074]\n",
      "after iter 32\n",
      "coefficent is: [[-0.19155444  0.95778646 -0.56355161 -0.07778928  2.40697624  2.2435528\n",
      "   0.20329547 -0.51815445 -0.44953454  0.83953942]\n",
      " [-1.68960788 -0.63170276  0.21097106 -0.38221771 -2.26229368 -4.65397374\n",
      "  -0.95799528  0.53416976  0.17237656 -0.0688092 ]\n",
      " [ 1.3242659   0.01406651  0.97490495  0.83878027 -0.52836124  1.25308264\n",
      "  -1.14543186  0.86920827  0.04194218 -0.6782525 ]]\n",
      "Intercept is: [-2.04141192 -3.87231716 -2.7767224 ]\n",
      "after iter 33\n",
      "coefficent is: [[-0.53758506 -0.23763671  0.12233821  0.22650726  2.50900655  1.87863461\n",
      "  -0.04959883  0.40228743  0.80572078  1.00530419]\n",
      " [-1.7006844  -0.69546187 -0.75428939  0.36470192 -1.96439156 -4.35910188\n",
      "   1.00097251  0.78723508  0.69577003  0.03023119]\n",
      " [ 1.38405386  1.20831971 -1.05399495  1.26400124  0.35697503  2.25562076\n",
      "   0.91061829 -1.02021203 -0.13853927 -0.41962835]]\n",
      "Intercept is: [-1.71428824 -2.97601024 -3.09759866]\n",
      "after iter 34\n",
      "coefficent is: [[-1.52424813 -0.30812194 -0.47322636 -0.39982652  2.95254358  0.99689885\n",
      "   0.01300044  0.81272908 -0.44450569  1.52651252]\n",
      " [-1.32941822 -0.5622371  -0.61728093  0.1756654  -2.94856327 -4.87764935\n",
      "  -0.36290463 -0.60927162  0.99655711 -0.42589592]\n",
      " [ 0.55082233 -0.33329434 -0.07814512  0.23237349  0.21442578  0.97297068\n",
      "   0.95097765 -0.90788286  0.12866116 -0.14398308]]\n",
      "Intercept is: [-1.41743482 -3.26294552 -4.25954711]\n",
      "after iter 35\n",
      "coefficent is: [[-0.37127556  0.27639247 -1.50314611  1.06145367  2.45131625  2.04501951\n",
      "  -0.09113999  0.11883999 -0.33549219  0.92288156]\n",
      " [-1.31529121 -0.29208885  0.26919144  0.6439789  -2.70884545 -4.60900381\n",
      "  -0.51179479 -0.64616829 -1.94281024 -0.35507546]\n",
      " [ 1.20987808  0.0641149   0.35359273 -0.35573627 -0.01697784  1.62942552\n",
      "   0.60039152  0.8951164   0.12850746 -0.47149634]]\n",
      "Intercept is: [-0.85498403 -4.39754707 -2.2883066 ]\n",
      "after iter 36\n",
      "coefficent is: [[-0.70292129 -0.18922703  0.4791079   0.96686702  2.0773615   1.20444766\n",
      "  -0.89362352  0.32426509  1.20757462  0.93167691]\n",
      " [-0.65137775  0.17805808  0.06916805  0.58176125 -3.52905791 -4.55855972\n",
      "  -0.84425996 -0.54150522 -1.03524288 -0.87178114]\n",
      " [ 2.05750381 -0.54302578 -0.04894365  1.37907672 -1.285797    1.46321865\n",
      "   0.51164286  0.32414766  0.72631637 -1.20169332]]\n",
      "Intercept is: [-0.8669818  -3.56484222 -4.21577029]\n",
      "after iter 37\n",
      "coefficent is: [[-0.92609093 -1.27987617  0.73915182 -0.28197635  2.96112162  1.82013629\n",
      "  -0.92156196  0.24016212  0.20345843  1.2988066 ]\n",
      " [-1.17986745 -0.37271675  0.64896061 -0.24404301 -2.98016485 -4.70693538\n",
      "  -0.31807782 -0.00553699  1.07669985 -0.49356264]\n",
      " [ 1.22703259  0.20818294  0.87331656 -1.03429756 -0.39344524  1.26108509\n",
      "  -0.7978012   0.62993083  0.05318447 -0.59787263]]\n",
      "Intercept is: [-3.24620927 -4.36485933 -4.73067085]\n",
      "after iter 38\n",
      "coefficent is: [[-0.43938134  0.57880011 -0.25842478  0.01001083  2.62298112  2.13091049\n",
      "   1.54528889 -0.63711785 -0.83756896  1.00373142]\n",
      " [-0.66848303 -0.14116545 -0.76138466  0.04515428 -2.98142004 -4.01205862\n",
      "   0.42813504 -0.6070933  -0.44284048 -0.6909684 ]\n",
      " [ 1.3673017  -0.51304801  0.86068695  0.25369622  0.14927347  2.01671262\n",
      "   1.1201863   0.87483838  1.54063658 -0.47925198]]\n",
      "Intercept is: [-0.63230547 -3.83927387 -3.94068486]\n",
      "after iter 39\n",
      "coefficent is: [[-0.97396714  0.71374113 -0.49155046 -0.50097461  2.54803253  1.32516218\n",
      "  -0.036271    0.16396888  0.54819275  1.18583217]\n",
      " [-0.52987197  0.25319645 -0.1252012  -0.81483961 -3.78856928 -4.66315315\n",
      "   0.38436408  0.06324476  0.82778051 -1.00114999]\n",
      " [ 1.44790761 -0.4245063   0.18445722 -0.86035583 -0.48847291  1.46290624\n",
      "  -0.41140653 -0.15429141  0.87203203 -0.71319451]]\n",
      "Intercept is: [-1.14829007 -4.33979563 -3.68155819]\n",
      "after iter 40\n",
      "coefficent is: [[-0.63092935 -1.09424461  0.18816641  1.38961882  2.0033444   1.22544442\n",
      "   0.94603498 -0.47318705  0.41712363  0.88039517]\n",
      " [-1.55044737  0.52880194 -0.66371016 -0.04678786 -2.71294704 -4.93340552\n",
      "  -1.07543072 -0.52876313 -0.55600401 -0.26578844]\n",
      " [ 1.53421259 -0.10533753  0.1056293  -0.15297858 -0.86107119  1.19273071\n",
      "  -0.43647921 -0.54878998 -0.50428558 -0.86497952]]\n",
      "Intercept is: [-1.64423865 -5.06614797 -2.69409619]\n",
      "after iter 41\n",
      "coefficent is: [[-0.57453897  0.6203835   1.28188869 -0.0271159   2.54955298  1.8705131\n",
      "  -0.04909499  0.36332241  0.45556847  1.03243963]\n",
      " [-0.74295101  0.2095913  -0.89607752  0.47800608 -3.23776787 -4.3801531\n",
      "  -0.07651687  1.11250265 -0.70277038 -0.74383361]\n",
      " [ 0.92730692 -0.72379404  0.0437718  -0.53608416 -0.82149432  0.40768599\n",
      "   0.12190806 -0.25224914 -1.26674827 -0.61858354]]\n",
      "Intercept is: [-0.92181108 -3.3722724  -3.18608026]\n",
      "after iter 42\n",
      "coefficent is: [[-0.5451791   1.2464556   0.59728447  0.46217377  2.16530056  1.51068878\n",
      "   0.63553618  0.59376844 -0.0943503   0.89888464]\n",
      " [-0.33597685  0.32564787  0.25225984  0.15608596 -3.07958845 -3.66153409\n",
      "  -0.90948566  0.34797753  0.32825962 -0.8502944 ]\n",
      " [ 1.93612386 -0.01806902 -0.11219889 -0.66450427 -0.92381278  1.67460086\n",
      "  -0.44930388 -0.31888828 -0.59240968 -1.03977269]]\n",
      "Intercept is: [-1.15415807 -4.07772234 -3.88990232]\n",
      "after iter 43\n",
      "coefficent is: [[-1.27879299  0.34191155 -0.2585588  -1.20951772  3.14815505  1.53457697\n",
      "  -0.06069852  1.74312663 -0.33730473  1.49418401]\n",
      " [ 0.10993175 -0.4290056   0.33526301  1.04025123 -3.84401471 -3.84983243\n",
      "   0.32380968 -0.52592192  1.3716888  -1.26526801]\n",
      " [ 0.45238301  0.18072803  0.44579391 -0.04034694  0.29706707  0.92494229\n",
      "   0.63381936 -1.45316531 -1.09289559 -0.07976905]]\n",
      "Intercept is: [-0.92619024 -3.84760217 -2.9635326 ]\n"
     ]
    }
   ],
   "source": [
    "import pandas as pd\n",
    "\n",
    "chunksize = 1000\n",
    "iter = 0\n",
    "for train_df in pd.read_csv('train_data.csv', chunksize= chunksize, iterator= True):\n",
    "    iter += 1\n",
    "    if iter== 1:\n",
    "        x_train_partial = train_df.iloc[:, 0:10]\n",
    "        y_train_partial = train_df.iloc[:, 10]\n",
    "        clf2.partial_fit(x_train_partial, y_train_partial,\n",
    "                         classes= np.array([0, 1, 2]))\n",
    "    else:\n",
    "        x_train_partial = train_df.iloc[:, 0:10]\n",
    "        y_train_partial = train_df.iloc[:, 10]\n",
    "        clf2.partial_fit(x_train_partial, y_train_partial)\n",
    "    print('after iter {0}'.format(iter))\n",
    "    print('coefficent is:', clf2.coef_)\n",
    "    print('Intercept is:', clf2.intercept_)\n",
    "    "
   ]
  },
  {
   "cell_type": "code",
   "execution_count": 14,
   "metadata": {},
   "outputs": [
    {
     "name": "stdout",
     "output_type": "stream",
     "text": [
      "Train score is 0.7148470588235294, and Test score is: 0.7113333333333334\n"
     ]
    },
    {
     "name": "stderr",
     "output_type": "stream",
     "text": [
      "/home/anni/Data/BS/jupyter_notebook/lib/python3.10/site-packages/sklearn/base.py:465: UserWarning: X does not have valid feature names, but SGDClassifier was fitted with feature names\n",
      "  warnings.warn(\n",
      "/home/anni/Data/BS/jupyter_notebook/lib/python3.10/site-packages/sklearn/base.py:465: UserWarning: X does not have valid feature names, but SGDClassifier was fitted with feature names\n",
      "  warnings.warn(\n"
     ]
    }
   ],
   "source": [
    "train_score = clf2.score(x_train, y_train)\n",
    "test_score = clf2.score(x_test, y_test)\n",
    "print('Train score is {0}, and Test score is: {1}'.format(train_score, test_score))"
   ]
  },
  {
   "cell_type": "code",
   "execution_count": 15,
   "metadata": {},
   "outputs": [
    {
     "name": "stdout",
     "output_type": "stream",
     "text": [
      "classification report                precision    recall  f1-score   support\n",
      "\n",
      "           0       0.77      0.83      0.80      2491\n",
      "           1       0.66      0.94      0.78      2466\n",
      "           2       0.72      0.37      0.49      2543\n",
      "\n",
      "    accuracy                           0.71      7500\n",
      "   macro avg       0.72      0.71      0.69      7500\n",
      "weighted avg       0.72      0.71      0.69      7500\n",
      "\n"
     ]
    },
    {
     "name": "stderr",
     "output_type": "stream",
     "text": [
      "/home/anni/Data/BS/jupyter_notebook/lib/python3.10/site-packages/sklearn/base.py:465: UserWarning: X does not have valid feature names, but SGDClassifier was fitted with feature names\n",
      "  warnings.warn(\n"
     ]
    }
   ],
   "source": [
    "print('classification report ', classification_report(y_test, clf2.predict(x_test)))"
   ]
  },
  {
   "cell_type": "markdown",
   "metadata": {},
   "source": [
    "### Incremental Preporcessing Example\n",
    "```CountVectorizer``` VS ```HashingVetorizer```\n",
    "Vectorizers are used to convert a collectiono of text documents to vector representation, thus helping in preprocessing them before applying any model on these text documents.\n"
   ]
  },
  {
   "cell_type": "code",
   "execution_count": 28,
   "metadata": {},
   "outputs": [],
   "source": [
    "text_documents = [''' If you're looking for random paragraphs, you've come to the right place. When a random word or a random sentence isn't quite enough, the next logical step is to find a random paragraph. We created the Random Paragraph Generator with you in mind. The process is quite simple. Choose the number of random paragraphs you'd like to see and click the button. Your chosen number of paragraphs will instantly appear.\n",
    "\n",
    "While it may not be obvious to everyone, there are a number of reasons creating random paragraphs can be useful. A few examples of how some people use this generator are listed in the following paragraphs. ''',\n",
    "'''### Incremental Learning in sklearn\n",
    "to perform incremental learning, Scikit-learn implements  ```partial_fit``` method that hels in training an out-of-memory dataset. In otherwords, it has the ability to learn incrementally from a batch of instances.<br><br>\n",
    "In this colab, we will see an example of how to read, process, and train on such a large dataset that can't be loaded in memeory entirely.<br><br>\n",
    "This method is expected to be called several times consecutively on different chunks of a dataset so as to implement out-of-core(online) learning. This function has some performance overhead, so it's recommended to call it on a considerable large batch of data(that fits into the memory), to overcomethe limitation of overhead.''']\n"
   ]
  },
  {
   "cell_type": "code",
   "execution_count": 29,
   "metadata": {},
   "outputs": [],
   "source": [
    "from sklearn.feature_extraction.text import CountVectorizer \n",
    "c_vectorizer = CountVectorizer()\n"
   ]
  },
  {
   "cell_type": "code",
   "execution_count": 30,
   "metadata": {},
   "outputs": [],
   "source": [
    "X_c = c_vectorizer.fit_transform(text_documents)"
   ]
  },
  {
   "cell_type": "code",
   "execution_count": 31,
   "metadata": {},
   "outputs": [
    {
     "data": {
      "text/plain": [
       "(2, 126)"
      ]
     },
     "execution_count": 31,
     "metadata": {},
     "output_type": "execute_result"
    }
   ],
   "source": [
    "X_c.shape"
   ]
  },
  {
   "cell_type": "code",
   "execution_count": 24,
   "metadata": {},
   "outputs": [
    {
     "data": {
      "text/plain": [
       "{'if': 21,\n",
       " 'you': 67,\n",
       " 're': 46,\n",
       " 'looking': 30,\n",
       " 'for': 18,\n",
       " 'random': 45,\n",
       " 'paragraphs': 40,\n",
       " 've': 60,\n",
       " 'come': 9,\n",
       " 'to': 57,\n",
       " 'the': 54,\n",
       " 'right': 48,\n",
       " 'place': 42,\n",
       " 'when': 62,\n",
       " 'word': 66,\n",
       " 'or': 38,\n",
       " 'sentence': 50,\n",
       " 'isn': 25,\n",
       " 'quite': 44,\n",
       " 'enough': 12,\n",
       " 'next': 33,\n",
       " 'logical': 29,\n",
       " 'step': 53,\n",
       " 'is': 24,\n",
       " 'find': 16,\n",
       " 'paragraph': 39,\n",
       " 'we': 61,\n",
       " 'created': 10,\n",
       " 'generator': 19,\n",
       " 'with': 65,\n",
       " 'in': 22,\n",
       " 'mind': 32,\n",
       " 'process': 43,\n",
       " 'simple': 51,\n",
       " 'choose': 6,\n",
       " 'number': 35,\n",
       " 'of': 37,\n",
       " 'like': 27,\n",
       " 'see': 49,\n",
       " 'and': 0,\n",
       " 'click': 8,\n",
       " 'button': 4,\n",
       " 'your': 68,\n",
       " 'chosen': 7,\n",
       " 'will': 64,\n",
       " 'instantly': 23,\n",
       " 'appear': 1,\n",
       " 'while': 63,\n",
       " 'it': 26,\n",
       " 'may': 31,\n",
       " 'not': 34,\n",
       " 'be': 3,\n",
       " 'obvious': 36,\n",
       " 'everyone': 13,\n",
       " 'there': 55,\n",
       " 'are': 2,\n",
       " 'reasons': 47,\n",
       " 'creating': 11,\n",
       " 'can': 5,\n",
       " 'useful': 59,\n",
       " 'few': 15,\n",
       " 'examples': 14,\n",
       " 'how': 20,\n",
       " 'some': 52,\n",
       " 'people': 41,\n",
       " 'use': 58,\n",
       " 'this': 56,\n",
       " 'listed': 28,\n",
       " 'following': 17}"
      ]
     },
     "execution_count": 24,
     "metadata": {},
     "output_type": "execute_result"
    }
   ],
   "source": [
    "c_vectorizer.vocabulary_"
   ]
  },
  {
   "cell_type": "code",
   "execution_count": 32,
   "metadata": {},
   "outputs": [
    {
     "name": "stdout",
     "output_type": "stream",
     "text": [
      "  (0, 44)\t1\n",
      "  (0, 124)\t4\n",
      "  (0, 92)\t1\n",
      "  (0, 64)\t1\n",
      "  (0, 37)\t1\n",
      "  (0, 91)\t7\n",
      "  (0, 83)\t5\n",
      "  (0, 117)\t1\n",
      "  (0, 18)\t1\n",
      "  (0, 112)\t4\n",
      "  (0, 108)\t7\n",
      "  (0, 96)\t1\n",
      "  (0, 88)\t1\n",
      "  (0, 119)\t1\n",
      "  (0, 123)\t1\n",
      "  (0, 77)\t1\n",
      "  (0, 99)\t1\n",
      "  (0, 54)\t1\n",
      "  (0, 90)\t2\n",
      "  (0, 27)\t1\n",
      "  (0, 70)\t1\n",
      "  (0, 63)\t1\n",
      "  (0, 105)\t1\n",
      "  (0, 53)\t2\n",
      "  (0, 34)\t1\n",
      "  :\t:\n",
      "  (1, 66)\t1\n",
      "  (1, 28)\t1\n",
      "  (1, 32)\t1\n",
      "  (1, 11)\t1\n",
      "  (1, 100)\t1\n",
      "  (1, 111)\t1\n",
      "  (1, 19)\t1\n",
      "  (1, 26)\t1\n",
      "  (1, 15)\t1\n",
      "  (1, 103)\t2\n",
      "  (1, 5)\t1\n",
      "  (1, 45)\t1\n",
      "  (1, 21)\t1\n",
      "  (1, 76)\t1\n",
      "  (1, 39)\t1\n",
      "  (1, 87)\t1\n",
      "  (1, 81)\t2\n",
      "  (1, 95)\t1\n",
      "  (1, 10)\t1\n",
      "  (1, 20)\t1\n",
      "  (1, 24)\t1\n",
      "  (1, 35)\t1\n",
      "  (1, 52)\t1\n",
      "  (1, 80)\t1\n",
      "  (1, 60)\t1\n"
     ]
    }
   ],
   "source": [
    "print(X_c)"
   ]
  },
  {
   "cell_type": "code",
   "execution_count": 33,
   "metadata": {},
   "outputs": [],
   "source": [
    "from sklearn.feature_extraction.text import HashingVectorizer\n"
   ]
  },
  {
   "cell_type": "code",
   "execution_count": 34,
   "metadata": {},
   "outputs": [],
   "source": [
    "h_vectorizer = HashingVectorizer(n_features= 50)\n"
   ]
  },
  {
   "cell_type": "code",
   "execution_count": 35,
   "metadata": {},
   "outputs": [],
   "source": [
    "x_h = h_vectorizer.fit_transform(text_documents)"
   ]
  },
  {
   "cell_type": "code",
   "execution_count": 36,
   "metadata": {},
   "outputs": [
    {
     "data": {
      "text/plain": [
       "(2, 50)"
      ]
     },
     "execution_count": 36,
     "metadata": {},
     "output_type": "execute_result"
    }
   ],
   "source": [
    "x_h.shape"
   ]
  },
  {
   "cell_type": "code",
   "execution_count": 37,
   "metadata": {},
   "outputs": [
    {
     "name": "stdout",
     "output_type": "stream",
     "text": [
      "  (0, 0)\t-0.05965499862718936\n",
      "  (0, 2)\t-0.05965499862718936\n",
      "  (0, 3)\t-0.05965499862718936\n",
      "  (0, 5)\t0.17896499588156806\n",
      "  (0, 6)\t-0.11930999725437871\n",
      "  (0, 7)\t-0.11930999725437871\n",
      "  (0, 8)\t-0.4175849903903255\n",
      "  (0, 10)\t0.05965499862718936\n",
      "  (0, 11)\t0.0\n",
      "  (0, 13)\t-0.05965499862718936\n",
      "  (0, 14)\t0.05965499862718936\n",
      "  (0, 15)\t-0.05965499862718936\n",
      "  (0, 16)\t0.05965499862718936\n",
      "  (0, 17)\t-0.05965499862718936\n",
      "  (0, 18)\t0.11930999725437871\n",
      "  (0, 19)\t0.0\n",
      "  (0, 20)\t0.05965499862718936\n",
      "  (0, 21)\t0.0\n",
      "  (0, 26)\t0.05965499862718936\n",
      "  (0, 27)\t0.0\n",
      "  (0, 28)\t0.0\n",
      "  (0, 31)\t0.0\n",
      "  (0, 32)\t0.11930999725437871\n",
      "  (0, 34)\t-0.11930999725437871\n",
      "  (0, 35)\t0.17896499588156806\n",
      "  (0, 36)\t-0.4175849903903255\n",
      "  (0, 37)\t0.0\n",
      "  (0, 38)\t0.2982749931359468\n",
      "  (0, 39)\t0.05965499862718936\n",
      "  (0, 40)\t0.05965499862718936\n",
      "  (0, 41)\t0.2982749931359468\n",
      "  (0, 42)\t-0.05965499862718936\n",
      "  (0, 43)\t-0.05965499862718936\n",
      "  (0, 45)\t-0.05965499862718936\n",
      "  (0, 46)\t0.4175849903903255\n",
      "  (0, 47)\t0.05965499862718936\n",
      "  (0, 48)\t-0.11930999725437871\n",
      "  (0, 49)\t0.2982749931359468\n"
     ]
    }
   ],
   "source": [
    "print(x_h[0])"
   ]
  },
  {
   "cell_type": "markdown",
   "metadata": {},
   "source": [
    "## combine example of incremental preprocessing and model training"
   ]
  },
  {
   "cell_type": "code",
   "execution_count": 38,
   "metadata": {},
   "outputs": [],
   "source": [
    "import pandas as pd\n",
    "from io import StringIO, BytesIO, TextIOWrapper\n",
    "from zipfile import ZipFile\n",
    "import urllib.request"
   ]
  },
  {
   "cell_type": "code",
   "execution_count": 41,
   "metadata": {},
   "outputs": [],
   "source": [
    "resp = urllib.request.urlopen('https://archive.ics.uci.edu/ml/machine-learning-databases/00331/sentiment%20labelled%20sentences.zip')\n",
    "zipfile = ZipFile(BytesIO(resp.read()))\n"
   ]
  },
  {
   "cell_type": "code",
   "execution_count": 42,
   "metadata": {},
   "outputs": [],
   "source": [
    "data = TextIOWrapper(zipfile.open('sentiment labelled sentences/amazon_cells_labelled.txt'), encoding= 'utf-8')\n",
    "\n",
    "df = pd.read_csv(data, sep= '\\t')\n",
    "df.columns = ['review', 'sentiment']"
   ]
  },
  {
   "cell_type": "code",
   "execution_count": 43,
   "metadata": {},
   "outputs": [
    {
     "name": "stdout",
     "output_type": "stream",
     "text": [
      "<class 'pandas.core.frame.DataFrame'>\n",
      "RangeIndex: 999 entries, 0 to 998\n",
      "Data columns (total 2 columns):\n",
      " #   Column     Non-Null Count  Dtype \n",
      "---  ------     --------------  ----- \n",
      " 0   review     999 non-null    object\n",
      " 1   sentiment  999 non-null    int64 \n",
      "dtypes: int64(1), object(1)\n",
      "memory usage: 15.7+ KB\n"
     ]
    }
   ],
   "source": [
    "df.info()"
   ]
  },
  {
   "cell_type": "code",
   "execution_count": 44,
   "metadata": {},
   "outputs": [
    {
     "data": {
      "text/html": [
       "<div>\n",
       "<style scoped>\n",
       "    .dataframe tbody tr th:only-of-type {\n",
       "        vertical-align: middle;\n",
       "    }\n",
       "\n",
       "    .dataframe tbody tr th {\n",
       "        vertical-align: top;\n",
       "    }\n",
       "\n",
       "    .dataframe thead th {\n",
       "        text-align: right;\n",
       "    }\n",
       "</style>\n",
       "<table border=\"1\" class=\"dataframe\">\n",
       "  <thead>\n",
       "    <tr style=\"text-align: right;\">\n",
       "      <th></th>\n",
       "      <th>review</th>\n",
       "      <th>sentiment</th>\n",
       "    </tr>\n",
       "  </thead>\n",
       "  <tbody>\n",
       "    <tr>\n",
       "      <th>0</th>\n",
       "      <td>Good case, Excellent value.</td>\n",
       "      <td>1</td>\n",
       "    </tr>\n",
       "    <tr>\n",
       "      <th>1</th>\n",
       "      <td>Great for the jawbone.</td>\n",
       "      <td>1</td>\n",
       "    </tr>\n",
       "    <tr>\n",
       "      <th>2</th>\n",
       "      <td>Tied to charger for conversations lasting more...</td>\n",
       "      <td>0</td>\n",
       "    </tr>\n",
       "    <tr>\n",
       "      <th>3</th>\n",
       "      <td>The mic is great.</td>\n",
       "      <td>1</td>\n",
       "    </tr>\n",
       "    <tr>\n",
       "      <th>4</th>\n",
       "      <td>I have to jiggle the plug to get it to line up...</td>\n",
       "      <td>0</td>\n",
       "    </tr>\n",
       "  </tbody>\n",
       "</table>\n",
       "</div>"
      ],
      "text/plain": [
       "                                              review  sentiment\n",
       "0                        Good case, Excellent value.          1\n",
       "1                             Great for the jawbone.          1\n",
       "2  Tied to charger for conversations lasting more...          0\n",
       "3                                  The mic is great.          1\n",
       "4  I have to jiggle the plug to get it to line up...          0"
      ]
     },
     "execution_count": 44,
     "metadata": {},
     "output_type": "execute_result"
    }
   ],
   "source": [
    "df.head()"
   ]
  },
  {
   "cell_type": "code",
   "execution_count": 45,
   "metadata": {},
   "outputs": [
    {
     "data": {
      "text/html": [
       "<div>\n",
       "<style scoped>\n",
       "    .dataframe tbody tr th:only-of-type {\n",
       "        vertical-align: middle;\n",
       "    }\n",
       "\n",
       "    .dataframe tbody tr th {\n",
       "        vertical-align: top;\n",
       "    }\n",
       "\n",
       "    .dataframe thead th {\n",
       "        text-align: right;\n",
       "    }\n",
       "</style>\n",
       "<table border=\"1\" class=\"dataframe\">\n",
       "  <thead>\n",
       "    <tr style=\"text-align: right;\">\n",
       "      <th></th>\n",
       "      <th>review</th>\n",
       "      <th>sentiment</th>\n",
       "    </tr>\n",
       "  </thead>\n",
       "  <tbody>\n",
       "    <tr>\n",
       "      <th>994</th>\n",
       "      <td>The screen does get smudged easily because it ...</td>\n",
       "      <td>0</td>\n",
       "    </tr>\n",
       "    <tr>\n",
       "      <th>995</th>\n",
       "      <td>What a piece of junk.. I lose more calls on th...</td>\n",
       "      <td>0</td>\n",
       "    </tr>\n",
       "    <tr>\n",
       "      <th>996</th>\n",
       "      <td>Item Does Not Match Picture.</td>\n",
       "      <td>0</td>\n",
       "    </tr>\n",
       "    <tr>\n",
       "      <th>997</th>\n",
       "      <td>The only thing that disappoint me is the infra...</td>\n",
       "      <td>0</td>\n",
       "    </tr>\n",
       "    <tr>\n",
       "      <th>998</th>\n",
       "      <td>You can not answer calls with the unit, never ...</td>\n",
       "      <td>0</td>\n",
       "    </tr>\n",
       "  </tbody>\n",
       "</table>\n",
       "</div>"
      ],
      "text/plain": [
       "                                                review  sentiment\n",
       "994  The screen does get smudged easily because it ...          0\n",
       "995  What a piece of junk.. I lose more calls on th...          0\n",
       "996                       Item Does Not Match Picture.          0\n",
       "997  The only thing that disappoint me is the infra...          0\n",
       "998  You can not answer calls with the unit, never ...          0"
      ]
     },
     "execution_count": 45,
     "metadata": {},
     "output_type": "execute_result"
    }
   ],
   "source": [
    "df.tail()"
   ]
  },
  {
   "cell_type": "code",
   "execution_count": 46,
   "metadata": {},
   "outputs": [
    {
     "data": {
      "text/html": [
       "<div>\n",
       "<style scoped>\n",
       "    .dataframe tbody tr th:only-of-type {\n",
       "        vertical-align: middle;\n",
       "    }\n",
       "\n",
       "    .dataframe tbody tr th {\n",
       "        vertical-align: top;\n",
       "    }\n",
       "\n",
       "    .dataframe thead th {\n",
       "        text-align: right;\n",
       "    }\n",
       "</style>\n",
       "<table border=\"1\" class=\"dataframe\">\n",
       "  <thead>\n",
       "    <tr style=\"text-align: right;\">\n",
       "      <th></th>\n",
       "      <th>sentiment</th>\n",
       "    </tr>\n",
       "  </thead>\n",
       "  <tbody>\n",
       "    <tr>\n",
       "      <th>count</th>\n",
       "      <td>999.000000</td>\n",
       "    </tr>\n",
       "    <tr>\n",
       "      <th>mean</th>\n",
       "      <td>0.500501</td>\n",
       "    </tr>\n",
       "    <tr>\n",
       "      <th>std</th>\n",
       "      <td>0.500250</td>\n",
       "    </tr>\n",
       "    <tr>\n",
       "      <th>min</th>\n",
       "      <td>0.000000</td>\n",
       "    </tr>\n",
       "    <tr>\n",
       "      <th>25%</th>\n",
       "      <td>0.000000</td>\n",
       "    </tr>\n",
       "    <tr>\n",
       "      <th>50%</th>\n",
       "      <td>1.000000</td>\n",
       "    </tr>\n",
       "    <tr>\n",
       "      <th>75%</th>\n",
       "      <td>1.000000</td>\n",
       "    </tr>\n",
       "    <tr>\n",
       "      <th>max</th>\n",
       "      <td>1.000000</td>\n",
       "    </tr>\n",
       "  </tbody>\n",
       "</table>\n",
       "</div>"
      ],
      "text/plain": [
       "        sentiment\n",
       "count  999.000000\n",
       "mean     0.500501\n",
       "std      0.500250\n",
       "min      0.000000\n",
       "25%      0.000000\n",
       "50%      1.000000\n",
       "75%      1.000000\n",
       "max      1.000000"
      ]
     },
     "execution_count": 46,
     "metadata": {},
     "output_type": "execute_result"
    }
   ],
   "source": [
    "df.describe()"
   ]
  },
  {
   "cell_type": "code",
   "execution_count": 51,
   "metadata": {},
   "outputs": [],
   "source": [
    "X = df.loc[:, 'review']\n",
    "y = df.loc[:, 'sentiment']\n",
    "x_train, x_test, y_train, y_test = train_test_split(X, y, test_size= 0.2)"
   ]
  },
  {
   "cell_type": "code",
   "execution_count": 52,
   "metadata": {},
   "outputs": [],
   "source": [
    "from sklearn.feature_extraction.text import HashingVectorizer\n",
    "h_vectorizer = HashingVectorizer()"
   ]
  },
  {
   "cell_type": "code",
   "execution_count": 53,
   "metadata": {},
   "outputs": [],
   "source": [
    "from sklearn.linear_model import SGDClassifier\n",
    "classifier = SGDClassifier(penalty= 'l2', loss='hinge')\n"
   ]
  },
  {
   "cell_type": "code",
   "execution_count": 54,
   "metadata": {},
   "outputs": [],
   "source": [
    "x_train_part1_hashed = h_vectorizer.fit_transform(x_train[0:400])\n",
    "y_train_part1 = y_train[0:400]\n"
   ]
  },
  {
   "cell_type": "code",
   "execution_count": 55,
   "metadata": {},
   "outputs": [],
   "source": [
    "all_classes = np.unique(df.loc[:, 'sentiment'])\n"
   ]
  },
  {
   "cell_type": "code",
   "execution_count": 56,
   "metadata": {},
   "outputs": [
    {
     "data": {
      "text/html": [
       "<style>#sk-container-id-1 {color: black;}#sk-container-id-1 pre{padding: 0;}#sk-container-id-1 div.sk-toggleable {background-color: white;}#sk-container-id-1 label.sk-toggleable__label {cursor: pointer;display: block;width: 100%;margin-bottom: 0;padding: 0.3em;box-sizing: border-box;text-align: center;}#sk-container-id-1 label.sk-toggleable__label-arrow:before {content: \"▸\";float: left;margin-right: 0.25em;color: #696969;}#sk-container-id-1 label.sk-toggleable__label-arrow:hover:before {color: black;}#sk-container-id-1 div.sk-estimator:hover label.sk-toggleable__label-arrow:before {color: black;}#sk-container-id-1 div.sk-toggleable__content {max-height: 0;max-width: 0;overflow: hidden;text-align: left;background-color: #f0f8ff;}#sk-container-id-1 div.sk-toggleable__content pre {margin: 0.2em;color: black;border-radius: 0.25em;background-color: #f0f8ff;}#sk-container-id-1 input.sk-toggleable__control:checked~div.sk-toggleable__content {max-height: 200px;max-width: 100%;overflow: auto;}#sk-container-id-1 input.sk-toggleable__control:checked~label.sk-toggleable__label-arrow:before {content: \"▾\";}#sk-container-id-1 div.sk-estimator input.sk-toggleable__control:checked~label.sk-toggleable__label {background-color: #d4ebff;}#sk-container-id-1 div.sk-label input.sk-toggleable__control:checked~label.sk-toggleable__label {background-color: #d4ebff;}#sk-container-id-1 input.sk-hidden--visually {border: 0;clip: rect(1px 1px 1px 1px);clip: rect(1px, 1px, 1px, 1px);height: 1px;margin: -1px;overflow: hidden;padding: 0;position: absolute;width: 1px;}#sk-container-id-1 div.sk-estimator {font-family: monospace;background-color: #f0f8ff;border: 1px dotted black;border-radius: 0.25em;box-sizing: border-box;margin-bottom: 0.5em;}#sk-container-id-1 div.sk-estimator:hover {background-color: #d4ebff;}#sk-container-id-1 div.sk-parallel-item::after {content: \"\";width: 100%;border-bottom: 1px solid gray;flex-grow: 1;}#sk-container-id-1 div.sk-label:hover label.sk-toggleable__label {background-color: #d4ebff;}#sk-container-id-1 div.sk-serial::before {content: \"\";position: absolute;border-left: 1px solid gray;box-sizing: border-box;top: 0;bottom: 0;left: 50%;z-index: 0;}#sk-container-id-1 div.sk-serial {display: flex;flex-direction: column;align-items: center;background-color: white;padding-right: 0.2em;padding-left: 0.2em;position: relative;}#sk-container-id-1 div.sk-item {position: relative;z-index: 1;}#sk-container-id-1 div.sk-parallel {display: flex;align-items: stretch;justify-content: center;background-color: white;position: relative;}#sk-container-id-1 div.sk-item::before, #sk-container-id-1 div.sk-parallel-item::before {content: \"\";position: absolute;border-left: 1px solid gray;box-sizing: border-box;top: 0;bottom: 0;left: 50%;z-index: -1;}#sk-container-id-1 div.sk-parallel-item {display: flex;flex-direction: column;z-index: 1;position: relative;background-color: white;}#sk-container-id-1 div.sk-parallel-item:first-child::after {align-self: flex-end;width: 50%;}#sk-container-id-1 div.sk-parallel-item:last-child::after {align-self: flex-start;width: 50%;}#sk-container-id-1 div.sk-parallel-item:only-child::after {width: 0;}#sk-container-id-1 div.sk-dashed-wrapped {border: 1px dashed gray;margin: 0 0.4em 0.5em 0.4em;box-sizing: border-box;padding-bottom: 0.4em;background-color: white;}#sk-container-id-1 div.sk-label label {font-family: monospace;font-weight: bold;display: inline-block;line-height: 1.2em;}#sk-container-id-1 div.sk-label-container {text-align: center;}#sk-container-id-1 div.sk-container {/* jupyter's `normalize.less` sets `[hidden] { display: none; }` but bootstrap.min.css set `[hidden] { display: none !important; }` so we also need the `!important` here to be able to override the default hidden behavior on the sphinx rendered scikit-learn.org. See: https://github.com/scikit-learn/scikit-learn/issues/21755 */display: inline-block !important;position: relative;}#sk-container-id-1 div.sk-text-repr-fallback {display: none;}</style><div id=\"sk-container-id-1\" class=\"sk-top-container\"><div class=\"sk-text-repr-fallback\"><pre>SGDClassifier()</pre><b>In a Jupyter environment, please rerun this cell to show the HTML representation or trust the notebook. <br />On GitHub, the HTML representation is unable to render, please try loading this page with nbviewer.org.</b></div><div class=\"sk-container\" hidden><div class=\"sk-item\"><div class=\"sk-estimator sk-toggleable\"><input class=\"sk-toggleable__control sk-hidden--visually\" id=\"sk-estimator-id-1\" type=\"checkbox\" checked><label for=\"sk-estimator-id-1\" class=\"sk-toggleable__label sk-toggleable__label-arrow\">SGDClassifier</label><div class=\"sk-toggleable__content\"><pre>SGDClassifier()</pre></div></div></div></div></div>"
      ],
      "text/plain": [
       "SGDClassifier()"
      ]
     },
     "execution_count": 56,
     "metadata": {},
     "output_type": "execute_result"
    }
   ],
   "source": [
    "classifier.partial_fit(x_train_part1_hashed, y_train_part1, classes= all_classes)"
   ]
  },
  {
   "cell_type": "code",
   "execution_count": 57,
   "metadata": {},
   "outputs": [],
   "source": [
    "x_test_hased = h_vectorizer.transform(x_test)"
   ]
  },
  {
   "cell_type": "code",
   "execution_count": 58,
   "metadata": {},
   "outputs": [
    {
     "name": "stdout",
     "output_type": "stream",
     "text": [
      "Test score 0.755\n"
     ]
    }
   ],
   "source": [
    "test_score = classifier.score(x_test_hased, y_test)\n",
    "print('Test score', test_score)"
   ]
  },
  {
   "cell_type": "code",
   "execution_count": 59,
   "metadata": {},
   "outputs": [],
   "source": [
    "x_train_part2_hased = h_vectorizer.fit_transform(x_train[400:])\n",
    "y_train_part2 = y_train[400:]"
   ]
  },
  {
   "cell_type": "code",
   "execution_count": 60,
   "metadata": {},
   "outputs": [
    {
     "data": {
      "text/html": [
       "<style>#sk-container-id-2 {color: black;}#sk-container-id-2 pre{padding: 0;}#sk-container-id-2 div.sk-toggleable {background-color: white;}#sk-container-id-2 label.sk-toggleable__label {cursor: pointer;display: block;width: 100%;margin-bottom: 0;padding: 0.3em;box-sizing: border-box;text-align: center;}#sk-container-id-2 label.sk-toggleable__label-arrow:before {content: \"▸\";float: left;margin-right: 0.25em;color: #696969;}#sk-container-id-2 label.sk-toggleable__label-arrow:hover:before {color: black;}#sk-container-id-2 div.sk-estimator:hover label.sk-toggleable__label-arrow:before {color: black;}#sk-container-id-2 div.sk-toggleable__content {max-height: 0;max-width: 0;overflow: hidden;text-align: left;background-color: #f0f8ff;}#sk-container-id-2 div.sk-toggleable__content pre {margin: 0.2em;color: black;border-radius: 0.25em;background-color: #f0f8ff;}#sk-container-id-2 input.sk-toggleable__control:checked~div.sk-toggleable__content {max-height: 200px;max-width: 100%;overflow: auto;}#sk-container-id-2 input.sk-toggleable__control:checked~label.sk-toggleable__label-arrow:before {content: \"▾\";}#sk-container-id-2 div.sk-estimator input.sk-toggleable__control:checked~label.sk-toggleable__label {background-color: #d4ebff;}#sk-container-id-2 div.sk-label input.sk-toggleable__control:checked~label.sk-toggleable__label {background-color: #d4ebff;}#sk-container-id-2 input.sk-hidden--visually {border: 0;clip: rect(1px 1px 1px 1px);clip: rect(1px, 1px, 1px, 1px);height: 1px;margin: -1px;overflow: hidden;padding: 0;position: absolute;width: 1px;}#sk-container-id-2 div.sk-estimator {font-family: monospace;background-color: #f0f8ff;border: 1px dotted black;border-radius: 0.25em;box-sizing: border-box;margin-bottom: 0.5em;}#sk-container-id-2 div.sk-estimator:hover {background-color: #d4ebff;}#sk-container-id-2 div.sk-parallel-item::after {content: \"\";width: 100%;border-bottom: 1px solid gray;flex-grow: 1;}#sk-container-id-2 div.sk-label:hover label.sk-toggleable__label {background-color: #d4ebff;}#sk-container-id-2 div.sk-serial::before {content: \"\";position: absolute;border-left: 1px solid gray;box-sizing: border-box;top: 0;bottom: 0;left: 50%;z-index: 0;}#sk-container-id-2 div.sk-serial {display: flex;flex-direction: column;align-items: center;background-color: white;padding-right: 0.2em;padding-left: 0.2em;position: relative;}#sk-container-id-2 div.sk-item {position: relative;z-index: 1;}#sk-container-id-2 div.sk-parallel {display: flex;align-items: stretch;justify-content: center;background-color: white;position: relative;}#sk-container-id-2 div.sk-item::before, #sk-container-id-2 div.sk-parallel-item::before {content: \"\";position: absolute;border-left: 1px solid gray;box-sizing: border-box;top: 0;bottom: 0;left: 50%;z-index: -1;}#sk-container-id-2 div.sk-parallel-item {display: flex;flex-direction: column;z-index: 1;position: relative;background-color: white;}#sk-container-id-2 div.sk-parallel-item:first-child::after {align-self: flex-end;width: 50%;}#sk-container-id-2 div.sk-parallel-item:last-child::after {align-self: flex-start;width: 50%;}#sk-container-id-2 div.sk-parallel-item:only-child::after {width: 0;}#sk-container-id-2 div.sk-dashed-wrapped {border: 1px dashed gray;margin: 0 0.4em 0.5em 0.4em;box-sizing: border-box;padding-bottom: 0.4em;background-color: white;}#sk-container-id-2 div.sk-label label {font-family: monospace;font-weight: bold;display: inline-block;line-height: 1.2em;}#sk-container-id-2 div.sk-label-container {text-align: center;}#sk-container-id-2 div.sk-container {/* jupyter's `normalize.less` sets `[hidden] { display: none; }` but bootstrap.min.css set `[hidden] { display: none !important; }` so we also need the `!important` here to be able to override the default hidden behavior on the sphinx rendered scikit-learn.org. See: https://github.com/scikit-learn/scikit-learn/issues/21755 */display: inline-block !important;position: relative;}#sk-container-id-2 div.sk-text-repr-fallback {display: none;}</style><div id=\"sk-container-id-2\" class=\"sk-top-container\"><div class=\"sk-text-repr-fallback\"><pre>SGDClassifier()</pre><b>In a Jupyter environment, please rerun this cell to show the HTML representation or trust the notebook. <br />On GitHub, the HTML representation is unable to render, please try loading this page with nbviewer.org.</b></div><div class=\"sk-container\" hidden><div class=\"sk-item\"><div class=\"sk-estimator sk-toggleable\"><input class=\"sk-toggleable__control sk-hidden--visually\" id=\"sk-estimator-id-2\" type=\"checkbox\" checked><label for=\"sk-estimator-id-2\" class=\"sk-toggleable__label sk-toggleable__label-arrow\">SGDClassifier</label><div class=\"sk-toggleable__content\"><pre>SGDClassifier()</pre></div></div></div></div></div>"
      ],
      "text/plain": [
       "SGDClassifier()"
      ]
     },
     "execution_count": 60,
     "metadata": {},
     "output_type": "execute_result"
    }
   ],
   "source": [
    "classifier.partial_fit(x_train_part2_hased, y_train_part2)"
   ]
  },
  {
   "cell_type": "code",
   "execution_count": 61,
   "metadata": {},
   "outputs": [
    {
     "data": {
      "text/plain": [
       "0.74"
      ]
     },
     "execution_count": 61,
     "metadata": {},
     "output_type": "execute_result"
    }
   ],
   "source": [
    "classifier.score(x_test_hased, y_test)"
   ]
  },
  {
   "cell_type": "code",
   "execution_count": null,
   "metadata": {},
   "outputs": [],
   "source": []
  }
 ],
 "metadata": {
  "kernelspec": {
   "display_name": "jupyter_notebook",
   "language": "python",
   "name": "python3"
  },
  "language_info": {
   "codemirror_mode": {
    "name": "ipython",
    "version": 3
   },
   "file_extension": ".py",
   "mimetype": "text/x-python",
   "name": "python",
   "nbconvert_exporter": "python",
   "pygments_lexer": "ipython3",
   "version": "3.10.12"
  }
 },
 "nbformat": 4,
 "nbformat_minor": 2
}

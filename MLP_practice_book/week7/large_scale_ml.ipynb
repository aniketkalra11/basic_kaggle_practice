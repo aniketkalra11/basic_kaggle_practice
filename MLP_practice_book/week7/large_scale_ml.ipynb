{
 "cells": [
  {
   "cell_type": "markdown",
   "metadata": {},
   "source": [
    "## Large scale machine learning in Sklearn\n",
    "* For large scale data models we use following methods\n",
    "* - fit() vs partial_fit() \n",
    "* combining preprocessing and incremental learning"
   ]
  },
  {
   "cell_type": "markdown",
   "metadata": {},
   "source": [
    "### Incremental Learning in sklearn\n",
    "to perform incremental learning, Scikit-learn implements  ```partial_fit``` method that hels in training an out-of-memory dataset. In otherwords, it has the ability to learn incrementally from a batch of instances.<br><br>\n",
    "In this colab, we will see an example of how to read, process, and train on such a large dataset that can't be loaded in memeory entirely.<br><br>\n",
    "This method is expected to be called several times consecutively on different chunks of a dataset so as to implement out-of-core(online) learning. This function has some performance overhead, so it's recommended to call it on a considerable large batch of data(that fits into the memory), to overcomethe limitation of overhead."
   ]
  },
  {
   "cell_type": "markdown",
   "metadata": {},
   "source": [
    "### partial_fit()attributes:\n",
    "partial_fit(X, y, [classes], [sample_weights]):\n",
    "where, \n",
    "* x: array of shape (n_samples, n_features) n_smaples:- num_of_samples, n_features:- number of features\n",
    "* y: array of target variable\n",
    "* classes: array of shape(n_classes,) containing a list of all the classes that can possibly appear in the y vector.\n",
    "must be provided at the firt call to partial_fit, can be omitted in subsequent calls\n",
    "* sample_weight: array of shape containing weights applied to individual samples\n",
    "---\n",
    "For classification tasks, we have to pass the list of possible target class laels in  ```classes``` parameter to cope-up with the unseen target classes in the 1st batch of the data "
   ]
  },
  {
   "cell_type": "markdown",
   "metadata": {},
   "source": [
    "The partial fit method is available in the following classe: -\n",
    "* **Classification** \n",
    "* - MultinomialNB\n",
    "* - BernoulliNB\n",
    "* - SGDClassifier\n",
    "* - Perceptron\n",
    "* **Regression:**\n",
    "* - SGDRegressor\n",
    "* **Clustering:**\n",
    "* - MiniBatchKmeans"
   ]
  },
  {
   "cell_type": "code",
   "execution_count": null,
   "metadata": {},
   "outputs": [],
   "source": []
  }
 ],
 "metadata": {
  "kernelspec": {
   "display_name": "jupyter_notebook",
   "language": "python",
   "name": "python3"
  },
  "language_info": {
   "name": "python",
   "version": "3.10.12"
  }
 },
 "nbformat": 4,
 "nbformat_minor": 2
}

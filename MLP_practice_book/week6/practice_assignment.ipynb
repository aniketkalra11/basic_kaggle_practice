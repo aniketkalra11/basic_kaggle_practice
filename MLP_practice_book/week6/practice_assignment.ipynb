{
 "cells": [
  {
   "cell_type": "markdown",
   "metadata": {},
   "source": [
    "### Week 6 practice assignment"
   ]
  },
  {
   "cell_type": "code",
   "execution_count": 5,
   "metadata": {},
   "outputs": [],
   "source": [
    "from sklearn.datasets import fetch_openml\n",
    "from sklearn.model_selection import train_test_split\n",
    "import pandas as pd \n",
    "import numpy as np"
   ]
  },
  {
   "cell_type": "code",
   "execution_count": 7,
   "metadata": {},
   "outputs": [
    {
     "name": "stderr",
     "output_type": "stream",
     "text": [
      "/home/anni/BS/python_notebook/BS/lib/python3.10/site-packages/sklearn/datasets/_openml.py:1022: FutureWarning: The default value of `parser` will change from `'liac-arff'` to `'auto'` in 1.4. You can set `parser='auto'` to silence this warning. Therefore, an `ImportError` will be raised from 1.4 if the dataset is dense and pandas is not installed. Note that the pandas parser may return different data types. See the Notes Section in fetch_openml's API doc for details.\n",
      "  warn(\n"
     ]
    }
   ],
   "source": [
    "X, y = fetch_openml(name='mnist_784', as_frame= True, return_X_y= True, version= 1)"
   ]
  },
  {
   "cell_type": "code",
   "execution_count": 10,
   "metadata": {},
   "outputs": [
    {
     "data": {
      "text/plain": [
       "48995    3\n",
       "48996    9\n",
       "48997    8\n",
       "48998    3\n",
       "48999    6\n",
       "Name: class, dtype: category\n",
       "Categories (10, object): ['0', '1', '2', '3', ..., '6', '7', '8', '9']"
      ]
     },
     "execution_count": 10,
     "metadata": {},
     "output_type": "execute_result"
    }
   ],
   "source": [
    "x_train, x_test, y_train, y_test = X[:49000], X[49000:], y[:49000], y[49000:]\n",
    "y_train.tail()"
   ]
  },
  {
   "cell_type": "code",
   "execution_count": 13,
   "metadata": {},
   "outputs": [],
   "source": [
    "x_train_6, x_train_9 = x_train[y_train == '6'], x_train[y_train == '9']\n",
    "x_train_69 = pd.concat([x_train_6, x_train_9], axis= 0)\n",
    "y_train_6, y_train_9 = y_train[y_train == '6'], y_train[y_train == '9']\n",
    "y_train_69 = pd.concat([y_train_6, y_train_9], axis= 0)\n",
    "\n",
    "y_train_69 = y_train_69.transform(lambda x: 1 if x == '6' else 0)"
   ]
  },
  {
   "cell_type": "code",
   "execution_count": 14,
   "metadata": {},
   "outputs": [],
   "source": [
    "x_test_6, x_test_9 = x_test[y_test == '6'], x_test[y_test == '9']\n",
    "x_test_69 = pd.concat([x_test_6, x_test_9], axis= 0)\n",
    "y_test_6, y_test_9 = y_test[y_test == '6'], y_test[y_test == '9']\n",
    "y_test_69 = pd.concat([y_test_6, y_test_9], axis= 0)\n",
    "y_test_69 = y_test_69.transform(lambda x: 1 if x == '6' else 0)\n"
   ]
  },
  {
   "cell_type": "code",
   "execution_count": 18,
   "metadata": {},
   "outputs": [],
   "source": [
    "from sklearn.preprocessing import StandardScaler\n",
    "s_s = StandardScaler()\n",
    "x_train_69Tf = s_s.fit_transform(x_train_69)\n"
   ]
  },
  {
   "cell_type": "markdown",
   "metadata": {},
   "source": [
    "### Directly starting from decision function"
   ]
  },
  {
   "cell_type": "code",
   "execution_count": 21,
   "metadata": {},
   "outputs": [
    {
     "data": {
      "text/html": [
       "<style>#sk-container-id-3 {color: black;}#sk-container-id-3 pre{padding: 0;}#sk-container-id-3 div.sk-toggleable {background-color: white;}#sk-container-id-3 label.sk-toggleable__label {cursor: pointer;display: block;width: 100%;margin-bottom: 0;padding: 0.3em;box-sizing: border-box;text-align: center;}#sk-container-id-3 label.sk-toggleable__label-arrow:before {content: \"▸\";float: left;margin-right: 0.25em;color: #696969;}#sk-container-id-3 label.sk-toggleable__label-arrow:hover:before {color: black;}#sk-container-id-3 div.sk-estimator:hover label.sk-toggleable__label-arrow:before {color: black;}#sk-container-id-3 div.sk-toggleable__content {max-height: 0;max-width: 0;overflow: hidden;text-align: left;background-color: #f0f8ff;}#sk-container-id-3 div.sk-toggleable__content pre {margin: 0.2em;color: black;border-radius: 0.25em;background-color: #f0f8ff;}#sk-container-id-3 input.sk-toggleable__control:checked~div.sk-toggleable__content {max-height: 200px;max-width: 100%;overflow: auto;}#sk-container-id-3 input.sk-toggleable__control:checked~label.sk-toggleable__label-arrow:before {content: \"▾\";}#sk-container-id-3 div.sk-estimator input.sk-toggleable__control:checked~label.sk-toggleable__label {background-color: #d4ebff;}#sk-container-id-3 div.sk-label input.sk-toggleable__control:checked~label.sk-toggleable__label {background-color: #d4ebff;}#sk-container-id-3 input.sk-hidden--visually {border: 0;clip: rect(1px 1px 1px 1px);clip: rect(1px, 1px, 1px, 1px);height: 1px;margin: -1px;overflow: hidden;padding: 0;position: absolute;width: 1px;}#sk-container-id-3 div.sk-estimator {font-family: monospace;background-color: #f0f8ff;border: 1px dotted black;border-radius: 0.25em;box-sizing: border-box;margin-bottom: 0.5em;}#sk-container-id-3 div.sk-estimator:hover {background-color: #d4ebff;}#sk-container-id-3 div.sk-parallel-item::after {content: \"\";width: 100%;border-bottom: 1px solid gray;flex-grow: 1;}#sk-container-id-3 div.sk-label:hover label.sk-toggleable__label {background-color: #d4ebff;}#sk-container-id-3 div.sk-serial::before {content: \"\";position: absolute;border-left: 1px solid gray;box-sizing: border-box;top: 0;bottom: 0;left: 50%;z-index: 0;}#sk-container-id-3 div.sk-serial {display: flex;flex-direction: column;align-items: center;background-color: white;padding-right: 0.2em;padding-left: 0.2em;position: relative;}#sk-container-id-3 div.sk-item {position: relative;z-index: 1;}#sk-container-id-3 div.sk-parallel {display: flex;align-items: stretch;justify-content: center;background-color: white;position: relative;}#sk-container-id-3 div.sk-item::before, #sk-container-id-3 div.sk-parallel-item::before {content: \"\";position: absolute;border-left: 1px solid gray;box-sizing: border-box;top: 0;bottom: 0;left: 50%;z-index: -1;}#sk-container-id-3 div.sk-parallel-item {display: flex;flex-direction: column;z-index: 1;position: relative;background-color: white;}#sk-container-id-3 div.sk-parallel-item:first-child::after {align-self: flex-end;width: 50%;}#sk-container-id-3 div.sk-parallel-item:last-child::after {align-self: flex-start;width: 50%;}#sk-container-id-3 div.sk-parallel-item:only-child::after {width: 0;}#sk-container-id-3 div.sk-dashed-wrapped {border: 1px dashed gray;margin: 0 0.4em 0.5em 0.4em;box-sizing: border-box;padding-bottom: 0.4em;background-color: white;}#sk-container-id-3 div.sk-label label {font-family: monospace;font-weight: bold;display: inline-block;line-height: 1.2em;}#sk-container-id-3 div.sk-label-container {text-align: center;}#sk-container-id-3 div.sk-container {/* jupyter's `normalize.less` sets `[hidden] { display: none; }` but bootstrap.min.css set `[hidden] { display: none !important; }` so we also need the `!important` here to be able to override the default hidden behavior on the sphinx rendered scikit-learn.org. See: https://github.com/scikit-learn/scikit-learn/issues/21755 */display: inline-block !important;position: relative;}#sk-container-id-3 div.sk-text-repr-fallback {display: none;}</style><div id=\"sk-container-id-3\" class=\"sk-top-container\"><div class=\"sk-text-repr-fallback\"><pre>SGDClassifier(eta0=1e-06, loss=&#x27;log_loss&#x27;, random_state=10)</pre><b>In a Jupyter environment, please rerun this cell to show the HTML representation or trust the notebook. <br />On GitHub, the HTML representation is unable to render, please try loading this page with nbviewer.org.</b></div><div class=\"sk-container\" hidden><div class=\"sk-item\"><div class=\"sk-estimator sk-toggleable\"><input class=\"sk-toggleable__control sk-hidden--visually\" id=\"sk-estimator-id-3\" type=\"checkbox\" checked><label for=\"sk-estimator-id-3\" class=\"sk-toggleable__label sk-toggleable__label-arrow\">SGDClassifier</label><div class=\"sk-toggleable__content\"><pre>SGDClassifier(eta0=1e-06, loss=&#x27;log_loss&#x27;, random_state=10)</pre></div></div></div></div></div>"
      ],
      "text/plain": [
       "SGDClassifier(eta0=1e-06, loss='log_loss', random_state=10)"
      ]
     },
     "execution_count": 21,
     "metadata": {},
     "output_type": "execute_result"
    }
   ],
   "source": [
    "from sklearn.linear_model import SGDClassifier\n",
    "from sklearn.model_selection import learning_curve\n",
    "sgd = SGDClassifier(random_state= 10, loss= 'log_loss', eta0= 0.000001)\n",
    "\n",
    "sgd"
   ]
  },
  {
   "cell_type": "code",
   "execution_count": 22,
   "metadata": {},
   "outputs": [
    {
     "name": "stderr",
     "output_type": "stream",
     "text": [
      "/home/anni/BS/python_notebook/BS/lib/python3.10/site-packages/sklearn/base.py:465: UserWarning: X does not have valid feature names, but SGDClassifier was fitted with feature names\n",
      "  warnings.warn(\n",
      "/home/anni/BS/python_notebook/BS/lib/python3.10/site-packages/sklearn/linear_model/_stochastic_gradient.py:1353: RuntimeWarning: divide by zero encountered in log\n",
      "  return np.log(self.predict_proba(X))\n",
      "/home/anni/BS/python_notebook/BS/lib/python3.10/site-packages/sklearn/base.py:465: UserWarning: X does not have valid feature names, but SGDClassifier was fitted with feature names\n",
      "  warnings.warn(\n",
      "/home/anni/BS/python_notebook/BS/lib/python3.10/site-packages/sklearn/linear_model/_stochastic_gradient.py:1353: RuntimeWarning: divide by zero encountered in log\n",
      "  return np.log(self.predict_proba(X))\n",
      "/home/anni/BS/python_notebook/BS/lib/python3.10/site-packages/sklearn/base.py:465: UserWarning: X does not have valid feature names, but SGDClassifier was fitted with feature names\n",
      "  warnings.warn(\n",
      "/home/anni/BS/python_notebook/BS/lib/python3.10/site-packages/sklearn/linear_model/_stochastic_gradient.py:1353: RuntimeWarning: divide by zero encountered in log\n",
      "  return np.log(self.predict_proba(X))\n",
      "/home/anni/BS/python_notebook/BS/lib/python3.10/site-packages/sklearn/base.py:465: UserWarning: X does not have valid feature names, but SGDClassifier was fitted with feature names\n",
      "  warnings.warn(\n",
      "/home/anni/BS/python_notebook/BS/lib/python3.10/site-packages/sklearn/linear_model/_stochastic_gradient.py:1353: RuntimeWarning: divide by zero encountered in log\n",
      "  return np.log(self.predict_proba(X))\n",
      "/home/anni/BS/python_notebook/BS/lib/python3.10/site-packages/sklearn/base.py:465: UserWarning: X does not have valid feature names, but SGDClassifier was fitted with feature names\n",
      "  warnings.warn(\n",
      "/home/anni/BS/python_notebook/BS/lib/python3.10/site-packages/sklearn/linear_model/_stochastic_gradient.py:1353: RuntimeWarning: divide by zero encountered in log\n",
      "  return np.log(self.predict_proba(X))\n",
      "/home/anni/BS/python_notebook/BS/lib/python3.10/site-packages/sklearn/base.py:465: UserWarning: X does not have valid feature names, but SGDClassifier was fitted with feature names\n",
      "  warnings.warn(\n",
      "/home/anni/BS/python_notebook/BS/lib/python3.10/site-packages/sklearn/linear_model/_stochastic_gradient.py:1353: RuntimeWarning: divide by zero encountered in log\n",
      "  return np.log(self.predict_proba(X))\n",
      "/home/anni/BS/python_notebook/BS/lib/python3.10/site-packages/sklearn/base.py:465: UserWarning: X does not have valid feature names, but SGDClassifier was fitted with feature names\n",
      "  warnings.warn(\n",
      "/home/anni/BS/python_notebook/BS/lib/python3.10/site-packages/sklearn/linear_model/_stochastic_gradient.py:1353: RuntimeWarning: divide by zero encountered in log\n",
      "  return np.log(self.predict_proba(X))\n",
      "/home/anni/BS/python_notebook/BS/lib/python3.10/site-packages/sklearn/base.py:465: UserWarning: X does not have valid feature names, but SGDClassifier was fitted with feature names\n",
      "  warnings.warn(\n",
      "/home/anni/BS/python_notebook/BS/lib/python3.10/site-packages/sklearn/linear_model/_stochastic_gradient.py:1353: RuntimeWarning: divide by zero encountered in log\n",
      "  return np.log(self.predict_proba(X))\n",
      "/home/anni/BS/python_notebook/BS/lib/python3.10/site-packages/sklearn/base.py:465: UserWarning: X does not have valid feature names, but SGDClassifier was fitted with feature names\n",
      "  warnings.warn(\n",
      "/home/anni/BS/python_notebook/BS/lib/python3.10/site-packages/sklearn/linear_model/_stochastic_gradient.py:1353: RuntimeWarning: divide by zero encountered in log\n",
      "  return np.log(self.predict_proba(X))\n",
      "/home/anni/BS/python_notebook/BS/lib/python3.10/site-packages/sklearn/base.py:465: UserWarning: X does not have valid feature names, but SGDClassifier was fitted with feature names\n",
      "  warnings.warn(\n",
      "/home/anni/BS/python_notebook/BS/lib/python3.10/site-packages/sklearn/linear_model/_stochastic_gradient.py:1353: RuntimeWarning: divide by zero encountered in log\n",
      "  return np.log(self.predict_proba(X))\n"
     ]
    },
    {
     "data": {
      "text/plain": [
       "array([[-inf,   0.],\n",
       "       [-inf,   0.],\n",
       "       [-inf,   0.],\n",
       "       ...,\n",
       "       [  0., -inf],\n",
       "       [  0., -inf],\n",
       "       [  0., -inf]])"
      ]
     },
     "execution_count": 22,
     "metadata": {},
     "output_type": "execute_result"
    }
   ],
   "source": [
    "from sklearn.metrics import log_loss\n",
    "iteration = 10\n",
    "Loss = []\n",
    "for x in range(iteration):\n",
    "  sgd.fit(x_train_69, y_train_69)\n",
    "  y_hat = sgd.predict_log_proba(x_train_69Tf)\n",
    "  # Loss.append(log_loss(y_train_69, y_hat))\n",
    "y_hat"
   ]
  },
  {
   "cell_type": "code",
   "execution_count": null,
   "metadata": {},
   "outputs": [],
   "source": [
    "y_score = sgd.decision_function()"
   ]
  },
  {
   "cell_type": "code",
   "execution_count": null,
   "metadata": {},
   "outputs": [],
   "source": []
  }
 ],
 "metadata": {
  "kernelspec": {
   "display_name": "BS",
   "language": "python",
   "name": "python3"
  },
  "language_info": {
   "codemirror_mode": {
    "name": "ipython",
    "version": 3
   },
   "file_extension": ".py",
   "mimetype": "text/x-python",
   "name": "python",
   "nbconvert_exporter": "python",
   "pygments_lexer": "ipython3",
   "version": "3.10.12"
  }
 },
 "nbformat": 4,
 "nbformat_minor": 2
}

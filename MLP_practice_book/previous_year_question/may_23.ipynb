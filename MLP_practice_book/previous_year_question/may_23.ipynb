{
 "cells": [
  {
   "cell_type": "markdown",
   "metadata": {},
   "source": []
  },
  {
   "cell_type": "code",
   "execution_count": 5,
   "metadata": {},
   "outputs": [
    {
     "name": "stdout",
     "output_type": "stream",
     "text": [
      "[[1 0 1 0]\n",
      " [1 0 0 1]\n",
      " [0 1 0 1]\n",
      " [0 1 1 0]]\n",
      "[[1 0 1 0]\n",
      " [1 0 0 1]\n",
      " [0 1 0 1]\n",
      " [0 1 1 0]]\n"
     ]
    }
   ],
   "source": [
    "from sklearn.preprocessing import MultiLabelBinarizer\n",
    "\n",
    "y_train = [['large', 'cold'],\n",
    "           ['small', 'cold'],\n",
    "          ['small', 'hot'],\n",
    "          ['large', 'hot']]\n",
    "mlb  = MultiLabelBinarizer(classes=['cold', 'hot', 'large', 'small'])\n",
    "mlb2 = MultiLabelBinarizer()\n",
    "print(mlb.fit_transform(y_train))\n",
    "print(mlb2.fit_transform(y_train))"
   ]
  },
  {
   "cell_type": "code",
   "execution_count": 9,
   "metadata": {},
   "outputs": [
    {
     "name": "stdout",
     "output_type": "stream",
     "text": [
      "[1 2 3 1 0 2 0]\n"
     ]
    },
    {
     "data": {
      "text/plain": [
       "array(['bird', 'bird', 'cat', 'dog', 'dog', 'cat'], dtype='<U4')"
      ]
     },
     "execution_count": 9,
     "metadata": {},
     "output_type": "execute_result"
    }
   ],
   "source": [
    "from sklearn.preprocessing import LabelEncoder\n",
    "encoder = LabelEncoder()\n",
    "data = ['cat', 'dog', 'fish', 'cat', 'bird', 'dog', 'bird']\n",
    "\n",
    "print(encoder.fit_transform(data))\n",
    "d = ['elephant']\n",
    "# encoder.transform(d)\n",
    "encoder.inverse_transform([0, 0, 1, 2, 2, 1])\n"
   ]
  },
  {
   "cell_type": "code",
   "execution_count": 11,
   "metadata": {},
   "outputs": [
    {
     "name": "stdout",
     "output_type": "stream",
     "text": [
      "0.3308574169961455\n"
     ]
    }
   ],
   "source": [
    "from sklearn.linear_model import LinearRegression\n",
    "\n",
    "X_train = [[0,0], [2,1.43], [4,2.86], [6,4.29]]\n",
    "y_train = [0,1,2,3]\n",
    "\n",
    "\n",
    "reg = LinearRegression(fit_intercept=False) #intercept=0\n",
    "reg.fit(X_train,y_train)\n",
    "print (reg.coef_[0])"
   ]
  },
  {
   "cell_type": "code",
   "execution_count": null,
   "metadata": {},
   "outputs": [],
   "source": []
  }
 ],
 "metadata": {
  "kernelspec": {
   "display_name": "BS",
   "language": "python",
   "name": "python3"
  },
  "language_info": {
   "codemirror_mode": {
    "name": "ipython",
    "version": 3
   },
   "file_extension": ".py",
   "mimetype": "text/x-python",
   "name": "python",
   "nbconvert_exporter": "python",
   "pygments_lexer": "ipython3",
   "version": "3.10.12"
  }
 },
 "nbformat": 4,
 "nbformat_minor": 2
}

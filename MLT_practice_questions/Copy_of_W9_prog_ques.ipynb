{
  "cells": [
    {
      "cell_type": "code",
      "execution_count": 2,
      "metadata": {
        "id": "3TDibK0Yrxm_"
      },
      "outputs": [],
      "source": [
        "import numpy as np\n",
        "import matplotlib.pyplot as plt"
      ]
    },
    {
      "cell_type": "markdown",
      "metadata": {
        "id": "1TBHlt7hAdN1"
      },
      "source": [
        "# Week-9\n",
        "\n",
        "**Note to Learners**:\n",
        "\n",
        "- For questions that involve plotting, just enter $0$ as the answer in the portal.\n"
      ]
    },
    {
      "cell_type": "markdown",
      "metadata": {
        "id": "XJKrscLo9qwH"
      },
      "source": [
        "## Dataset\n",
        "\n",
        "Run the cell given below to generate the data-matrix $\\mathbf{X}$, which is of shape $(n, d)$, where $n$ denotes the number of samples and $d$ denotes the number of features.\n",
        "\n",
        "**Do not edit this cell.**"
      ]
    },
    {
      "cell_type": "code",
      "execution_count": 3,
      "metadata": {
        "id": "d_H2VRQNsLly"
      },
      "outputs": [],
      "source": [
        "from sklearn.datasets import make_classification\n",
        "X, y = make_classification(n_samples=50, n_features=2, n_informative = 2, n_redundant = 0, n_clusters_per_class = 1, flip_y = 0, class_sep = 3, random_state=20)"
      ]
    },
    {
      "cell_type": "markdown",
      "metadata": {
        "id": "VAONMkaU91v7"
      },
      "source": [
        "## Problem 1\n",
        "How many samples are there in the dataset?\n",
        "\n"
      ]
    },
    {
      "cell_type": "code",
      "execution_count": 4,
      "metadata": {
        "colab": {
          "base_uri": "https://localhost:8080/"
        },
        "id": "xjCDIOIeWgdG",
        "outputId": "93de3d56-4c2c-4f3a-f541-6d3be7ae09fc"
      },
      "outputs": [
        {
          "data": {
            "text/plain": [
              "(50, 2)"
            ]
          },
          "execution_count": 4,
          "metadata": {},
          "output_type": "execute_result"
        }
      ],
      "source": [
        "X.shape"
      ]
    },
    {
      "cell_type": "markdown",
      "metadata": {
        "id": "ozjMS6e_91y3"
      },
      "source": [
        "## Problem 2\n",
        "\n",
        "How many features are there in the dataset?\n"
      ]
    },
    {
      "cell_type": "code",
      "execution_count": 5,
      "metadata": {
        "colab": {
          "base_uri": "https://localhost:8080/"
        },
        "id": "47QtOVwhWkgM",
        "outputId": "1da853a1-4dae-4500-ece1-295095922c5f"
      },
      "outputs": [
        {
          "data": {
            "text/plain": [
              "(50, 2)"
            ]
          },
          "execution_count": 5,
          "metadata": {},
          "output_type": "execute_result"
        }
      ],
      "source": [
        "X.shape"
      ]
    },
    {
      "cell_type": "markdown",
      "metadata": {
        "id": "BOuGvyBUrGUH"
      },
      "source": [
        "## Problem 3\n",
        "In the target vector $y$, replace all occurrences of 0 with -1.\n",
        "\n",
        "How many unique classes are there in the target vector?\n",
        "\n"
      ]
    },
    {
      "cell_type": "code",
      "execution_count": 6,
      "metadata": {
        "id": "Mbe0UlVTXNgU"
      },
      "outputs": [],
      "source": [
        "def replace_one_with_zero(val):\n",
        "  return -1 if val == 0 else val"
      ]
    },
    {
      "cell_type": "code",
      "execution_count": 7,
      "metadata": {
        "colab": {
          "base_uri": "https://localhost:8080/"
        },
        "id": "70WiSaPFWscc",
        "outputId": "81388006-af55-4502-b51c-cef1db1c922d"
      },
      "outputs": [
        {
          "data": {
            "text/plain": [
              "(50,)"
            ]
          },
          "execution_count": 7,
          "metadata": {},
          "output_type": "execute_result"
        }
      ],
      "source": [
        "X_vec = np.vectorize(replace_one_with_zero)\n",
        "y_train = X_vec(y)\n",
        "y_train.shape"
      ]
    },
    {
      "cell_type": "markdown",
      "metadata": {
        "id": "2mjZDVoIqzkJ"
      },
      "source": [
        "## Problem 4\n",
        "Plot the data keepig first feature on the x-axis and the second feature on the y-axis. Plot the data points belonging to each class in different colors. Does the data seem linearly separable?\n",
        "\n",
        "[MCQ]\n",
        "\n",
        "**Options:**\n",
        "\n",
        "(a) Yes\n",
        "\n",
        "(b) No\n",
        "\n"
      ]
    },
    {
      "cell_type": "code",
      "execution_count": 8,
      "metadata": {
        "colab": {
          "base_uri": "https://localhost:8080/",
          "height": 517
        },
        "id": "ENh5cU1jYqK8",
        "outputId": "f4b7f8dc-09eb-4856-f520-af765a5298d9"
      },
      "outputs": [
        {
          "data": {
            "text/plain": [
              "array([4.35809465, 2.70007032, 2.92613113, 2.70492468, 1.40403442,\n",
              "       3.03688252, 2.74256066, 3.55224854, 4.2121494 , 3.56210053,\n",
              "       1.19234332, 1.94746997, 3.09959095, 3.77398178, 1.95338326,\n",
              "       4.13223512, 3.61161689, 2.28603659, 3.27785771, 3.44739526,\n",
              "       2.43697964, 2.3377644 , 3.47758161, 0.85750064, 3.21773047])"
            ]
          },
          "execution_count": 8,
          "metadata": {},
          "output_type": "execute_result"
        },
        {
          "data": {
            "image/png": "[encoded data removed]",
            "text/plain": [
              "<Figure size 640x480 with 1 Axes>"
            ]
          },
          "metadata": {},
          "output_type": "display_data"
        }
      ],
      "source": [
        "X_bin_1 = []\n",
        "X_bin_2 = []\n",
        "for x in range(len(y_train)):\n",
        "  if(y_train[x] == 1):\n",
        "    X_bin_1.append(X[x])\n",
        "  else:\n",
        "    X_bin_2.append(X[x])\n",
        "X_bin_1, X_bin_2 = np.array(X_bin_1), np.array(X_bin_2)\n",
        "\n",
        "plt.scatter(x=X_bin_1[:, 0], y=X_bin_1[:, 1], color='red')\n",
        "plt.scatter(x=X_bin_2[:, 0], y=X_bin_2[:, 1], color='blue')\n",
        "\n",
        "X_bin_1[:, 0]"
      ]
    },
    {
      "cell_type": "markdown",
      "metadata": {
        "id": "wBvVzKA-u9YM"
      },
      "source": [
        "## Problem 5\n",
        "\n",
        "Initialize w to be a zero vector, with shape equal to the number of features in the data.\n",
        "\n",
        "Iterate over each data point $x$ in $X$ one by one (in the same sequence as present in $X$). For each data point, compute the value of $w^Tx$. If $w^Tx \\ge 0$, predict positive class for $x$, else predict the negative class.\n",
        "\n",
        "If prediction does not match the actual class label, update the weight vector as per the following update rule:\n",
        "$$w_{new} = w_{old} + xy$$ where $x$ is the data point and $y$ is the actual label of $x$.\n",
        "\n",
        "Run the above for 10 epochs (iterations), but stop if there are no weight updates in an epoch.\n",
        "\n",
        "In which iteration, does the number of weight updates becomes zero for the first time?\n",
        "\n",
        "[NAT]\n",
        "**Options**\n",
        "\n",
        "(a) 1\n",
        "\n",
        "(b) 2\n",
        "\n",
        "(c) 3\n",
        "\n",
        "(d) 5\n",
        "\n"
      ]
    },
    {
      "cell_type": "code",
      "execution_count": 9,
      "metadata": {
        "colab": {
          "base_uri": "https://localhost:8080/"
        },
        "id": "YrNw7Io5QPSw",
        "outputId": "99c7f1c3-bc08-401c-efd8-4f4c5168b78a"
      },
      "outputs": [
        {
          "data": {
            "text/plain": [
              "array([[ 0,  1,  2,  3,  4,  5],\n",
              "       [ 6,  7,  8,  9, 10, 11]])"
            ]
          },
          "execution_count": 9,
          "metadata": {},
          "output_type": "execute_result"
        }
      ],
      "source": [
        "np_sample = np.arange(12)\n",
        "np_sample.reshape(2, -1)"
      ]
    },
    {
      "cell_type": "code",
      "execution_count": 10,
      "metadata": {
        "id": "MrLD9xB5c5dX"
      },
      "outputs": [],
      "source": [
        "def is_all_point_sep(X, w, y):\n",
        "  sep = True\n",
        "  for i in range(len(X)):\n",
        "    print('values', X[i].T, w)\n",
        "    print('index', i, np.sign(X[i].T @ w))\n",
        "    if np.sign(X[i].T @ w) != y[i]:\n",
        "      print('r val', np.sign(X[i].T @ w), 'y', y[i])\n",
        "      return [False, i]\n",
        "  return [True, -1]\n"
      ]
    },
    {
      "cell_type": "code",
      "execution_count": 23,
      "metadata": {
        "colab": {
          "base_uri": "https://localhost:8080/"
        },
        "id": "zXfQ_ktbbg0c",
        "outputId": "93831700-a338-4fb9-f24f-18afb08abbb2"
      },
      "outputs": [
        {
          "name": "stdout",
          "output_type": "stream",
          "text": [
            "\n",
            "shape of x: (2, 1) : (1, 1)\n",
            "x [[ 3.03688252 -2.49014793]] y [[1]]\n",
            "values [ 4.35809465 -4.19871954] [[0.]\n",
            " [0.]]\n",
            "index 0 [0.]\n",
            "r val [0.] y 1\n",
            "index 0\n",
            "(2,) ()\n",
            "result [[ 4.35809465]\n",
            " [-4.19871954]]\n",
            "values [ 4.35809465 -4.19871954] [[ 4.35809465]\n",
            " [-4.19871954]]\n",
            "index 0 [1.]\n",
            "values [ 2.70007032 -2.60830647] [[ 4.35809465]\n",
            " [-4.19871954]]\n",
            "index 1 [1.]\n",
            "values [ 2.92613113 -2.17831489] [[ 4.35809465]\n",
            " [-4.19871954]]\n",
            "index 2 [1.]\n",
            "values [ 2.70492468 -2.55866532] [[ 4.35809465]\n",
            " [-4.19871954]]\n",
            "index 3 [1.]\n",
            "values [ 1.40403442 -3.91361837] [[ 4.35809465]\n",
            " [-4.19871954]]\n",
            "index 4 [1.]\n",
            "values [ 3.03688252 -2.49014793] [[ 4.35809465]\n",
            " [-4.19871954]]\n",
            "index 5 [1.]\n",
            "values [ 2.74256066 -2.92751451] [[ 4.35809465]\n",
            " [-4.19871954]]\n",
            "index 6 [1.]\n",
            "values [-2.53147281 -3.04571493] [[ 4.35809465]\n",
            " [-4.19871954]]\n",
            "index 7 [1.]\n",
            "r val [1.] y -1\n",
            "index 7\n",
            "(2,) ()\n",
            "result [[2.53147281]\n",
            " [3.04571493]]\n",
            "values [ 4.35809465 -4.19871954] [[ 6.88956746]\n",
            " [-1.15300462]]\n",
            "index 0 [1.]\n",
            "values [ 2.70007032 -2.60830647] [[ 6.88956746]\n",
            " [-1.15300462]]\n",
            "index 1 [1.]\n",
            "values [ 2.92613113 -2.17831489] [[ 6.88956746]\n",
            " [-1.15300462]]\n",
            "index 2 [1.]\n",
            "values [ 2.70492468 -2.55866532] [[ 6.88956746]\n",
            " [-1.15300462]]\n",
            "index 3 [1.]\n",
            "values [ 1.40403442 -3.91361837] [[ 6.88956746]\n",
            " [-1.15300462]]\n",
            "index 4 [1.]\n",
            "values [ 3.03688252 -2.49014793] [[ 6.88956746]\n",
            " [-1.15300462]]\n",
            "index 5 [1.]\n",
            "values [ 2.74256066 -2.92751451] [[ 6.88956746]\n",
            " [-1.15300462]]\n",
            "index 6 [1.]\n",
            "values [-2.53147281 -3.04571493] [[ 6.88956746]\n",
            " [-1.15300462]]\n",
            "index 7 [-1.]\n",
            "values [-1.90652352 -3.03365141] [[ 6.88956746]\n",
            " [-1.15300462]]\n",
            "index 8 [-1.]\n",
            "values [ 3.55224854 -4.02550689] [[ 6.88956746]\n",
            " [-1.15300462]]\n",
            "index 9 [1.]\n",
            "values [-2.43721593 -2.99106651] [[ 6.88956746]\n",
            " [-1.15300462]]\n",
            "index 10 [-1.]\n",
            "values [-3.82089441 -2.96537062] [[ 6.88956746]\n",
            " [-1.15300462]]\n",
            "index 11 [-1.]\n",
            "values [-3.24465415 -2.86970741] [[ 6.88956746]\n",
            " [-1.15300462]]\n",
            "index 12 [-1.]\n",
            "values [ 4.2121494 -3.5532501] [[ 6.88956746]\n",
            " [-1.15300462]]\n",
            "index 13 [1.]\n",
            "values [-2.99695052 -3.12043248] [[ 6.88956746]\n",
            " [-1.15300462]]\n",
            "index 14 [-1.]\n",
            "values [-3.01117738 -2.95287757] [[ 6.88956746]\n",
            " [-1.15300462]]\n",
            "index 15 [-1.]\n",
            "values [ 3.56210053 -2.37323926] [[ 6.88956746]\n",
            " [-1.15300462]]\n",
            "index 16 [1.]\n",
            "values [ 1.19234332 -2.86901581] [[ 6.88956746]\n",
            " [-1.15300462]]\n",
            "index 17 [1.]\n",
            "values [-2.95439198 -2.98535095] [[ 6.88956746]\n",
            " [-1.15300462]]\n",
            "index 18 [-1.]\n",
            "values [ 1.94746997 -3.32751504] [[ 6.88956746]\n",
            " [-1.15300462]]\n",
            "index 19 [1.]\n",
            "values [-3.04821703 -2.95157601] [[ 6.88956746]\n",
            " [-1.15300462]]\n",
            "index 20 [-1.]\n",
            "values [ 3.09959095 -3.0366794 ] [[ 6.88956746]\n",
            " [-1.15300462]]\n",
            "index 21 [1.]\n",
            "values [-2.68400642 -3.06622593] [[ 6.88956746]\n",
            " [-1.15300462]]\n",
            "index 22 [-1.]\n",
            "values [-2.64798924 -3.02054159] [[ 6.88956746]\n",
            " [-1.15300462]]\n",
            "index 23 [-1.]\n",
            "values [ 3.77398178 -3.87848502] [[ 6.88956746]\n",
            " [-1.15300462]]\n",
            "index 24 [1.]\n",
            "values [-2.02398505 -3.14576247] [[ 6.88956746]\n",
            " [-1.15300462]]\n",
            "index 25 [-1.]\n",
            "values [ 1.95338326 -1.29777093] [[ 6.88956746]\n",
            " [-1.15300462]]\n",
            "index 26 [1.]\n",
            "values [-3.13696594 -3.03770104] [[ 6.88956746]\n",
            " [-1.15300462]]\n",
            "index 27 [-1.]\n",
            "values [ 4.13223512 -2.22613331] [[ 6.88956746]\n",
            " [-1.15300462]]\n",
            "index 28 [1.]\n",
            "values [ 3.61161689 -1.54972885] [[ 6.88956746]\n",
            " [-1.15300462]]\n",
            "index 29 [1.]\n",
            "values [-2.29146275 -3.06222302] [[ 6.88956746]\n",
            " [-1.15300462]]\n",
            "index 30 [-1.]\n",
            "values [ 2.28603659 -2.402637  ] [[ 6.88956746]\n",
            " [-1.15300462]]\n",
            "index 31 [1.]\n",
            "values [-2.43453297 -3.12676966] [[ 6.88956746]\n",
            " [-1.15300462]]\n",
            "index 32 [-1.]\n",
            "values [ 3.27785771 -2.26092763] [[ 6.88956746]\n",
            " [-1.15300462]]\n",
            "index 33 [1.]\n",
            "values [-3.40755161 -2.94077325] [[ 6.88956746]\n",
            " [-1.15300462]]\n",
            "index 34 [-1.]\n",
            "values [ 3.44739526 -3.03246223] [[ 6.88956746]\n",
            " [-1.15300462]]\n",
            "index 35 [1.]\n",
            "values [ 2.43697964 -2.53407509] [[ 6.88956746]\n",
            " [-1.15300462]]\n",
            "index 36 [1.]\n",
            "values [-2.76223727 -3.10148042] [[ 6.88956746]\n",
            " [-1.15300462]]\n",
            "index 37 [-1.]\n",
            "values [-2.87979009 -3.08237552] [[ 6.88956746]\n",
            " [-1.15300462]]\n",
            "index 38 [-1.]\n",
            "values [-2.60693185 -3.02044572] [[ 6.88956746]\n",
            " [-1.15300462]]\n",
            "index 39 [-1.]\n",
            "values [-2.59736648 -2.99673965] [[ 6.88956746]\n",
            " [-1.15300462]]\n",
            "index 40 [-1.]\n",
            "values [ 2.3377644  -3.68547144] [[ 6.88956746]\n",
            " [-1.15300462]]\n",
            "index 41 [1.]\n",
            "values [ 3.47758161 -2.90769394] [[ 6.88956746]\n",
            " [-1.15300462]]\n",
            "index 42 [1.]\n",
            "values [-2.89202149 -3.05059342] [[ 6.88956746]\n",
            " [-1.15300462]]\n",
            "index 43 [-1.]\n",
            "values [-2.98141606 -2.91060218] [[ 6.88956746]\n",
            " [-1.15300462]]\n",
            "index 44 [-1.]\n",
            "values [-2.54812645 -3.03655031] [[ 6.88956746]\n",
            " [-1.15300462]]\n",
            "index 45 [-1.]\n",
            "values [-3.30073539 -3.03143928] [[ 6.88956746]\n",
            " [-1.15300462]]\n",
            "index 46 [-1.]\n",
            "values [ 0.85750064 -3.58817043] [[ 6.88956746]\n",
            " [-1.15300462]]\n",
            "index 47 [1.]\n",
            "values [ 3.21773047 -3.32663048] [[ 6.88956746]\n",
            " [-1.15300462]]\n",
            "index 48 [1.]\n",
            "values [-3.15291477 -2.9942445 ] [[ 6.88956746]\n",
            " [-1.15300462]]\n",
            "index 49 [-1.]\n",
            "index -1\n"
          ]
        }
      ],
      "source": [
        "y = y_train\n",
        "w0 = np.zeros(X.shape[1]).reshape(-1, 1)\n",
        "seprated = False\n",
        "infi = 10000\n",
        "i = 0\n",
        "print()\n",
        "y_ele = np.array([y[5]])\n",
        "# X[5] @ (y_ele)\n",
        "y_l = y_ele.reshape(-1, 1)\n",
        "y_l.shape\n",
        "a = np.array(X[5]).reshape(-1, 1)\n",
        "print('shape of x:', a.shape, ':', y_l.shape)\n",
        "# print(a @ y_l)\n",
        "# a.T @ y_l\n",
        "print('x', a.T, 'y', y_l)\n",
        "v = a @ y_l\n",
        "v.shape\n",
        "while not seprated and i< infi:\n",
        "  seprated, index = is_all_point_sep(X, w0, y)\n",
        "  print('index', index)\n",
        "  i += 1\n",
        "  if(not seprated):\n",
        "    print(X[index].shape, y[index].shape)\n",
        "    x_e, y_e = X[index].reshape(-1, 1), np.array(y[index]).reshape(-1, 1)\n",
        "    result = (x_e @ y_e)\n",
        "    print('result', result)\n",
        "    w0 = np.add(w0 , (x_e @ y_e))\n",
        "\n",
        "\n",
        "\n",
        "\n"
      ]
    },
    {
      "cell_type": "code",
      "execution_count": 26,
      "metadata": {
        "colab": {
          "base_uri": "https://localhost:8080/",
          "height": 499
        },
        "id": "alJNV5dmnPIU",
        "outputId": "0186fe4a-31b4-4595-a45e-964da65785a3"
      },
      "outputs": [
        {
          "name": "stdout",
          "output_type": "stream",
          "text": [
            "[[ 6.88956746]\n",
            " [-1.15300462]]\n",
            "3\n",
            "[[ 6.88956746 -1.15300462]] (1, 2)\n"
          ]
        },
        {
          "data": {
            "text/plain": [
              "<matplotlib.collections.PathCollection at 0x7f6c84a9c910>"
            ]
          },
          "execution_count": 26,
          "metadata": {},
          "output_type": "execute_result"
        },
        {
          "data": {
            "image/png": "[encoded data removed]",
            "text/plain": [
              "<Figure size 640x480 with 1 Axes>"
            ]
          },
          "metadata": {},
          "output_type": "display_data"
        }
      ],
      "source": [
        "print(w0)\n",
        "print(i)\n",
        "w_line = w0.reshape(1, -1)\n",
        "print(w_line, w_line.shape)\n",
        "plt.plot(w_line[0], marker='o', color='steelblue', label='abc')\n",
        "plt.scatter(x=X_bin_1[:, 0], y=X_bin_1[:, 1], color='red')\n",
        "plt.scatter(x=X_bin_2[:, 0], y=X_bin_2[:, 1], color='blue')"
      ]
    },
    {
      "cell_type": "markdown",
      "metadata": {
        "id": "3zs84_zyUMZG"
      },
      "source": [
        "## Problem 6\n",
        "Plot the vector w and the decision boundary thus obtained.\n",
        "\n"
      ]
    },
    {
      "cell_type": "markdown",
      "metadata": {
        "id": "8jRORev-U_AQ"
      },
      "source": [
        "## Problem 7\n",
        "What is the value of loss using the weight vector obtained earlier?  \n"
      ]
    },
    {
      "cell_type": "markdown",
      "metadata": {
        "id": "6Mv5kTYtVZ39"
      },
      "source": [
        "## Problem 8\n",
        "Now use the following data set, replace occurrences of 0 with -1 and visualize.\n",
        "\n",
        "**Do not edit the following cell.**\n",
        "\n"
      ]
    },
    {
      "cell_type": "code",
      "execution_count": 179,
      "metadata": {
        "id": "27pznw-oVeFq"
      },
      "outputs": [],
      "source": [
        "from sklearn.datasets import make_classification\n",
        "X, y = make_classification(n_samples=50, n_features=2, n_informative = 2, n_redundant = 0, n_clusters_per_class = 1, flip_y = 0.1, class_sep = 2, random_state=20)"
      ]
    },
    {
      "cell_type": "markdown",
      "metadata": {
        "id": "jLlsj651cjtm"
      },
      "source": [
        "## Problem 9\n",
        "\n",
        "Apply the Perceptron code again.\n",
        "\n",
        "What is the number of weight updates performed in epoch 10?\n",
        "\n"
      ]
    },
    {
      "cell_type": "markdown",
      "metadata": {
        "id": "iVxGOLbocqVv"
      },
      "source": [
        "## Problem 10\n",
        "Visualize the weight vector and the decision boundary.\n",
        "\n"
      ]
    }
  ],
  "metadata": {
    "colab": {
      "provenance": []
    },
    "kernelspec": {
      "display_name": "Python 3",
      "name": "python3"
    },
    "language_info": {
      "codemirror_mode": {
        "name": "ipython",
        "version": 3
      },
      "file_extension": ".py",
      "mimetype": "text/x-python",
      "name": "python",
      "nbconvert_exporter": "python",
      "pygments_lexer": "ipython3",
      "version": "3.10.12"
    }
  },
  "nbformat": 4,
  "nbformat_minor": 0
}

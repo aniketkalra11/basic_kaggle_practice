{
 "cells": [
  {
   "cell_type": "markdown",
   "metadata": {},
   "source": [
    "### Logistic Regression from scratch"
   ]
  },
  {
   "cell_type": "markdown",
   "metadata": {},
   "source": [
    "**refer this link for batter documentation** \n",
    "*  https://github.com/mourya96/IITM-Notes/blob/master/MLT/Week_5.ipynb "
   ]
  },
  {
   "cell_type": "code",
   "execution_count": 1,
   "metadata": {},
   "outputs": [],
   "source": [
    "import numpy as np\n",
    "import matplotlib.pyplot as plt\n",
    "import seaborn as sns"
   ]
  },
  {
   "cell_type": "code",
   "execution_count": 2,
   "metadata": {},
   "outputs": [],
   "source": [
    "np.random.seed(1234)\n"
   ]
  },
  {
   "cell_type": "code",
   "execution_count": 3,
   "metadata": {},
   "outputs": [],
   "source": [
    "def linear_combination(X:np.ndarray, w:np.ndarray) -> np.ndarray:\n",
    "  '''\n",
    "  Calulate linear combination of features\n",
    "  the linear combination is calculated with the following in vectorized form:\n",
    "  z = Xw\n",
    "  args:\n",
    "    x: features matrix with shape (n, m)\n",
    "    w: weight vector with shape (m, )\n",
    "\n",
    "  returns:\n",
    "    Linear combination of features with shape (n, )\n",
    "  '''\n",
    "  return X @ w"
   ]
  },
  {
   "cell_type": "code",
   "execution_count": 4,
   "metadata": {},
   "outputs": [],
   "source": [
    "def sigmoid(z: np.ndarray) -> np.ndarray:\n",
    "  '''\n",
    "  Calculates the sigmoid of linear combinatino of features z\n",
    "  args:\n",
    "    x: list of floats\n",
    "    return \n",
    "    List of output sigmoid function\n",
    "  '''\n",
    "  return 1/ (1 + np.exp(-z))"
   ]
  },
  {
   "cell_type": "code",
   "execution_count": 5,
   "metadata": {},
   "outputs": [],
   "source": [
    "def predict(X: np.ndarray, w:np.ndarray, threshold: float) -> np.ndarray:\n",
    "  '''\n",
    "  perdicts the class labels for samples.\n",
    "\n",
    "  refer github link \n",
    "  '''\n",
    "  return np.where(sigmoid(linear_combination(X, w))> threshold, 1, 0)"
   ]
  },
  {
   "cell_type": "code",
   "execution_count": 7,
   "metadata": {},
   "outputs": [
    {
     "name": "stdout",
     "output_type": "stream",
     "text": [
      "Shape of the features is: (2, 3)\n",
      "Shape of weight vector (3,)\n",
      "shape of output matrix is: (2,)\n",
      "The class label vector is: [1 1]\n"
     ]
    }
   ],
   "source": [
    "feature_matrix = np.array([[1, 20, 2], [1, 2, 2]])\n",
    "weight_vector = np.array([-1, 0, 1])\n",
    "\n",
    "print('Shape of the features is:', feature_matrix.shape)\n",
    "print('Shape of weight vector',  weight_vector.shape)\n",
    "\n",
    "class_labels = predict(feature_matrix, weight_vector, threshold= 0.5)\n",
    "\n",
    "print('shape of output matrix is:', class_labels.shape)\n",
    "print('The class label vector is:', class_labels)"
   ]
  },
  {
   "cell_type": "code",
   "execution_count": null,
   "metadata": {},
   "outputs": [],
   "source": []
  }
 ],
 "metadata": {
  "kernelspec": {
   "display_name": "jupitor_notebook",
   "language": "python",
   "name": "python3"
  },
  "language_info": {
   "codemirror_mode": {
    "name": "ipython",
    "version": 3
   },
   "file_extension": ".py",
   "mimetype": "text/x-python",
   "name": "python",
   "nbconvert_exporter": "python",
   "pygments_lexer": "ipython3",
   "version": "3.10.12"
  }
 },
 "nbformat": 4,
 "nbformat_minor": 2
}
